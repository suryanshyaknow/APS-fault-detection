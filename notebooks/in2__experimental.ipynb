{
 "cells": [
  {
   "cell_type": "code",
   "execution_count": 1,
   "metadata": {},
   "outputs": [
    {
     "data": {
      "text/html": [
       "<div>\n",
       "<style scoped>\n",
       "    .dataframe tbody tr th:only-of-type {\n",
       "        vertical-align: middle;\n",
       "    }\n",
       "\n",
       "    .dataframe tbody tr th {\n",
       "        vertical-align: top;\n",
       "    }\n",
       "\n",
       "    .dataframe thead th {\n",
       "        text-align: right;\n",
       "    }\n",
       "</style>\n",
       "<table border=\"1\" class=\"dataframe\">\n",
       "  <thead>\n",
       "    <tr style=\"text-align: right;\">\n",
       "      <th></th>\n",
       "      <th>class</th>\n",
       "      <th>aa_000</th>\n",
       "      <th>ab_000</th>\n",
       "      <th>ac_000</th>\n",
       "      <th>ad_000</th>\n",
       "      <th>ae_000</th>\n",
       "      <th>af_000</th>\n",
       "      <th>ag_000</th>\n",
       "      <th>ag_001</th>\n",
       "      <th>ag_002</th>\n",
       "      <th>...</th>\n",
       "      <th>ee_002</th>\n",
       "      <th>ee_003</th>\n",
       "      <th>ee_004</th>\n",
       "      <th>ee_005</th>\n",
       "      <th>ee_006</th>\n",
       "      <th>ee_007</th>\n",
       "      <th>ee_008</th>\n",
       "      <th>ee_009</th>\n",
       "      <th>ef_000</th>\n",
       "      <th>eg_000</th>\n",
       "    </tr>\n",
       "  </thead>\n",
       "  <tbody>\n",
       "    <tr>\n",
       "      <th>0</th>\n",
       "      <td>pos</td>\n",
       "      <td>153204</td>\n",
       "      <td>0</td>\n",
       "      <td>182</td>\n",
       "      <td>na</td>\n",
       "      <td>0</td>\n",
       "      <td>0</td>\n",
       "      <td>0</td>\n",
       "      <td>0</td>\n",
       "      <td>0</td>\n",
       "      <td>...</td>\n",
       "      <td>129862</td>\n",
       "      <td>26872</td>\n",
       "      <td>34044</td>\n",
       "      <td>22472</td>\n",
       "      <td>34362</td>\n",
       "      <td>0</td>\n",
       "      <td>0</td>\n",
       "      <td>0</td>\n",
       "      <td>0</td>\n",
       "      <td>0</td>\n",
       "    </tr>\n",
       "    <tr>\n",
       "      <th>1</th>\n",
       "      <td>pos</td>\n",
       "      <td>453236</td>\n",
       "      <td>na</td>\n",
       "      <td>2926</td>\n",
       "      <td>na</td>\n",
       "      <td>0</td>\n",
       "      <td>0</td>\n",
       "      <td>0</td>\n",
       "      <td>0</td>\n",
       "      <td>222</td>\n",
       "      <td>...</td>\n",
       "      <td>7908038</td>\n",
       "      <td>3026002</td>\n",
       "      <td>5025350</td>\n",
       "      <td>2025766</td>\n",
       "      <td>1160638</td>\n",
       "      <td>533834</td>\n",
       "      <td>493800</td>\n",
       "      <td>6914</td>\n",
       "      <td>0</td>\n",
       "      <td>0</td>\n",
       "    </tr>\n",
       "    <tr>\n",
       "      <th>2</th>\n",
       "      <td>pos</td>\n",
       "      <td>72504</td>\n",
       "      <td>na</td>\n",
       "      <td>1594</td>\n",
       "      <td>1052</td>\n",
       "      <td>0</td>\n",
       "      <td>0</td>\n",
       "      <td>0</td>\n",
       "      <td>244</td>\n",
       "      <td>178226</td>\n",
       "      <td>...</td>\n",
       "      <td>1432098</td>\n",
       "      <td>372252</td>\n",
       "      <td>527514</td>\n",
       "      <td>358274</td>\n",
       "      <td>332818</td>\n",
       "      <td>284178</td>\n",
       "      <td>3742</td>\n",
       "      <td>0</td>\n",
       "      <td>0</td>\n",
       "      <td>0</td>\n",
       "    </tr>\n",
       "    <tr>\n",
       "      <th>3</th>\n",
       "      <td>pos</td>\n",
       "      <td>762958</td>\n",
       "      <td>na</td>\n",
       "      <td>na</td>\n",
       "      <td>na</td>\n",
       "      <td>na</td>\n",
       "      <td>na</td>\n",
       "      <td>776</td>\n",
       "      <td>281128</td>\n",
       "      <td>2186308</td>\n",
       "      <td>...</td>\n",
       "      <td>na</td>\n",
       "      <td>na</td>\n",
       "      <td>na</td>\n",
       "      <td>na</td>\n",
       "      <td>na</td>\n",
       "      <td>na</td>\n",
       "      <td>na</td>\n",
       "      <td>na</td>\n",
       "      <td>na</td>\n",
       "      <td>na</td>\n",
       "    </tr>\n",
       "    <tr>\n",
       "      <th>4</th>\n",
       "      <td>pos</td>\n",
       "      <td>695994</td>\n",
       "      <td>na</td>\n",
       "      <td>na</td>\n",
       "      <td>na</td>\n",
       "      <td>na</td>\n",
       "      <td>na</td>\n",
       "      <td>0</td>\n",
       "      <td>0</td>\n",
       "      <td>0</td>\n",
       "      <td>...</td>\n",
       "      <td>1397742</td>\n",
       "      <td>495544</td>\n",
       "      <td>361646</td>\n",
       "      <td>28610</td>\n",
       "      <td>5130</td>\n",
       "      <td>212</td>\n",
       "      <td>0</td>\n",
       "      <td>0</td>\n",
       "      <td>na</td>\n",
       "      <td>na</td>\n",
       "    </tr>\n",
       "  </tbody>\n",
       "</table>\n",
       "<p>5 rows × 171 columns</p>\n",
       "</div>"
      ],
      "text/plain": [
       "  class  aa_000 ab_000 ac_000 ad_000 ae_000 af_000 ag_000  ag_001   ag_002  \\\n",
       "0   pos  153204      0    182     na      0      0      0       0        0   \n",
       "1   pos  453236     na   2926     na      0      0      0       0      222   \n",
       "2   pos   72504     na   1594   1052      0      0      0     244   178226   \n",
       "3   pos  762958     na     na     na     na     na    776  281128  2186308   \n",
       "4   pos  695994     na     na     na     na     na      0       0        0   \n",
       "\n",
       "   ...   ee_002   ee_003   ee_004   ee_005   ee_006  ee_007  ee_008 ee_009  \\\n",
       "0  ...   129862    26872    34044    22472    34362       0       0      0   \n",
       "1  ...  7908038  3026002  5025350  2025766  1160638  533834  493800   6914   \n",
       "2  ...  1432098   372252   527514   358274   332818  284178    3742      0   \n",
       "3  ...       na       na       na       na       na      na      na     na   \n",
       "4  ...  1397742   495544   361646    28610     5130     212       0      0   \n",
       "\n",
       "  ef_000 eg_000  \n",
       "0      0      0  \n",
       "1      0      0  \n",
       "2      0      0  \n",
       "3     na     na  \n",
       "4     na     na  \n",
       "\n",
       "[5 rows x 171 columns]"
      ]
     },
     "execution_count": 1,
     "metadata": {},
     "output_type": "execute_result"
    }
   ],
   "source": [
    "import pandas as pd\n",
    "import numpy as np\n",
    "\n",
    "df = pd.read_csv(r\"D:\\data-science\\projects\\APS-fault-detection\\aps_failure_training_set1.csv\")\n",
    "df.head()"
   ]
  },
  {
   "cell_type": "code",
   "execution_count": 5,
   "metadata": {},
   "outputs": [
    {
     "data": {
      "text/plain": [
       "class     0.000000\n",
       "aa_000    0.000000\n",
       "ab_000    0.770863\n",
       "ac_000    0.059163\n",
       "ad_000    0.254228\n",
       "            ...   \n",
       "ee_007    0.010473\n",
       "ee_008    0.010473\n",
       "ee_009    0.010473\n",
       "ef_000    0.047806\n",
       "eg_000    0.047778\n",
       "Length: 171, dtype: float64"
      ]
     },
     "execution_count": 5,
     "metadata": {},
     "output_type": "execute_result"
    }
   ],
   "source": [
    "rep = df.isna().sum().div(df.shape[0])\n",
    "rep"
   ]
  },
  {
   "cell_type": "code",
   "execution_count": 8,
   "metadata": {},
   "outputs": [
    {
     "data": {
      "text/plain": [
       "ab_000    0.770863\n",
       "bk_000    0.381977\n",
       "bl_000    0.451393\n",
       "bm_000    0.655190\n",
       "bn_000    0.727617\n",
       "bo_000    0.765337\n",
       "bp_000    0.787941\n",
       "bq_000    0.805018\n",
       "br_000    0.814110\n",
       "cr_000    0.770863\n",
       "dtype: float64"
      ]
     },
     "execution_count": 8,
     "metadata": {},
     "output_type": "execute_result"
    }
   ],
   "source": [
    "rep[rep>0.3]"
   ]
  },
  {
   "cell_type": "code",
   "execution_count": 11,
   "metadata": {},
   "outputs": [
    {
     "data": {
      "text/plain": [
       "['ab_000',\n",
       " 'bk_000',\n",
       " 'bl_000',\n",
       " 'bm_000',\n",
       " 'bn_000',\n",
       " 'bo_000',\n",
       " 'bp_000',\n",
       " 'bq_000',\n",
       " 'br_000',\n",
       " 'cr_000']"
      ]
     },
     "execution_count": 11,
     "metadata": {},
     "output_type": "execute_result"
    }
   ],
   "source": [
    "cols_to_drop = rep[rep>0.3].index\n",
    "list(cols_to_drop)"
   ]
  },
  {
   "cell_type": "code",
   "execution_count": 14,
   "metadata": {},
   "outputs": [
    {
     "data": {
      "text/plain": [
       "10"
      ]
     },
     "execution_count": 14,
     "metadata": {},
     "output_type": "execute_result"
    }
   ],
   "source": [
    "len(cols_to_drop)"
   ]
  },
  {
   "cell_type": "code",
   "execution_count": 2,
   "metadata": {},
   "outputs": [
    {
     "data": {
      "text/plain": [
       "Index(['class', 'aa_000', 'ab_000', 'ac_000', 'ad_000', 'ae_000', 'af_000',\n",
       "       'ag_000', 'ag_001', 'ag_002',\n",
       "       ...\n",
       "       'ee_002', 'ee_003', 'ee_004', 'ee_005', 'ee_006', 'ee_007', 'ee_008',\n",
       "       'ee_009', 'ef_000', 'eg_000'],\n",
       "      dtype='object', length=171)"
      ]
     },
     "execution_count": 2,
     "metadata": {},
     "output_type": "execute_result"
    }
   ],
   "source": [
    "df.columns"
   ]
  },
  {
   "cell_type": "code",
   "execution_count": 11,
   "metadata": {},
   "outputs": [
    {
     "data": {
      "text/plain": [
       "['neg', 'pos']"
      ]
     },
     "execution_count": 11,
     "metadata": {},
     "output_type": "execute_result"
    }
   ],
   "source": [
    "x = list(df[\"class\"].value_counts().index)\n",
    "x.sort()\n",
    "x"
   ]
  },
  {
   "cell_type": "code",
   "execution_count": 6,
   "metadata": {},
   "outputs": [
    {
     "data": {
      "text/plain": [
       "array([35188,  1000], dtype=int64)"
      ]
     },
     "execution_count": 6,
     "metadata": {},
     "output_type": "execute_result"
    }
   ],
   "source": [
    "df[\"class\"].value_counts().values"
   ]
  },
  {
   "cell_type": "code",
   "execution_count": 9,
   "metadata": {},
   "outputs": [
    {
     "data": {
      "text/plain": [
       "False"
      ]
     },
     "execution_count": 9,
     "metadata": {},
     "output_type": "execute_result"
    }
   ],
   "source": [
    "x == ['pos', 'neg']"
   ]
  },
  {
   "cell_type": "code",
   "execution_count": 12,
   "metadata": {},
   "outputs": [
    {
     "data": {
      "text/plain": [
       "['pos', 'neg']"
      ]
     },
     "execution_count": 12,
     "metadata": {},
     "output_type": "execute_result"
    }
   ],
   "source": [
    "y = ['pos', 'neg']\n",
    "y"
   ]
  },
  {
   "cell_type": "code",
   "execution_count": 13,
   "metadata": {},
   "outputs": [],
   "source": [
    "y.sort()"
   ]
  },
  {
   "cell_type": "code",
   "execution_count": 14,
   "metadata": {},
   "outputs": [
    {
     "data": {
      "text/plain": [
       "['neg', 'pos']"
      ]
     },
     "execution_count": 14,
     "metadata": {},
     "output_type": "execute_result"
    }
   ],
   "source": [
    "y"
   ]
  },
  {
   "cell_type": "code",
   "execution_count": 15,
   "metadata": {},
   "outputs": [
    {
     "data": {
      "text/plain": [
       "True"
      ]
     },
     "execution_count": 15,
     "metadata": {},
     "output_type": "execute_result"
    }
   ],
   "source": [
    "y.sort() == x.sort()"
   ]
  },
  {
   "cell_type": "code",
   "execution_count": 19,
   "metadata": {},
   "outputs": [
    {
     "data": {
      "text/plain": [
       "True"
      ]
     },
     "execution_count": 19,
     "metadata": {},
     "output_type": "execute_result"
    }
   ],
   "source": [
    "[\"pos\", \"neg\"].sort() == [\"neg\", \"pos\"].sort()"
   ]
  },
  {
   "cell_type": "code",
   "execution_count": 5,
   "metadata": {},
   "outputs": [
    {
     "data": {
      "text/plain": [
       "Index(['class', 'aa_000', 'ab_000', 'ac_000', 'ad_000', 'ae_000', 'af_000',\n",
       "       'ag_000', 'ag_001', 'ag_002',\n",
       "       ...\n",
       "       'ee_002', 'ee_003', 'ee_004', 'ee_005', 'ee_006', 'ee_007', 'ee_008',\n",
       "       'ee_009', 'ef_000', 'eg_000'],\n",
       "      dtype='object', length=171)"
      ]
     },
     "execution_count": 5,
     "metadata": {},
     "output_type": "execute_result"
    }
   ],
   "source": [
    "df.columns"
   ]
  },
  {
   "cell_type": "code",
   "execution_count": 8,
   "metadata": {},
   "outputs": [
    {
     "data": {
      "text/plain": [
       "170"
      ]
     },
     "execution_count": 8,
     "metadata": {},
     "output_type": "execute_result"
    }
   ],
   "source": [
    "len([col for col in df.columns if df[col].dtypes == 'O'])"
   ]
  },
  {
   "cell_type": "code",
   "execution_count": 13,
   "metadata": {},
   "outputs": [],
   "source": [
    "df.replace({'na': np.NAN}, inplace=True)"
   ]
  },
  {
   "cell_type": "code",
   "execution_count": 18,
   "metadata": {},
   "outputs": [],
   "source": [
    "df = df.drop([\"class\"], axis=1).astype('float')"
   ]
  },
  {
   "cell_type": "code",
   "execution_count": 19,
   "metadata": {},
   "outputs": [
    {
     "data": {
      "text/plain": [
       "aa_000    float64\n",
       "ab_000    float64\n",
       "ac_000    float64\n",
       "ad_000    float64\n",
       "ae_000    float64\n",
       "           ...   \n",
       "ee_007    float64\n",
       "ee_008    float64\n",
       "ee_009    float64\n",
       "ef_000    float64\n",
       "eg_000    float64\n",
       "Length: 170, dtype: object"
      ]
     },
     "execution_count": 19,
     "metadata": {},
     "output_type": "execute_result"
    }
   ],
   "source": [
    "df.dtypes"
   ]
  },
  {
   "cell_type": "code",
   "execution_count": 22,
   "metadata": {},
   "outputs": [
    {
     "data": {
      "text/plain": [
       "'D:\\\\data-science\\\\projects\\\\APS-fault-detection\\\\artifacts\\\\12062022__141811\\\\data validation\\\\report.yaml'"
      ]
     },
     "execution_count": 22,
     "metadata": {},
     "output_type": "execute_result"
    }
   ],
   "source": [
    "import os\n",
    "\n",
    "path = r\"D:\\data-science\\projects\\APS-fault-detection\\artifacts\\12062022__141811\\data validation\\report.yaml\"\n",
    "path"
   ]
  },
  {
   "cell_type": "code",
   "execution_count": 23,
   "metadata": {},
   "outputs": [
    {
     "data": {
      "text/plain": [
       "'report.yaml'"
      ]
     },
     "execution_count": 23,
     "metadata": {},
     "output_type": "execute_result"
    }
   ],
   "source": [
    "os.path.basename(path)"
   ]
  },
  {
   "cell_type": "code",
   "execution_count": 24,
   "metadata": {},
   "outputs": [
    {
     "data": {
      "text/plain": [
       "'D:\\\\data-science\\\\projects\\\\APS-fault-detection\\\\artifacts\\\\12062022__141811\\\\data validation'"
      ]
     },
     "execution_count": 24,
     "metadata": {},
     "output_type": "execute_result"
    }
   ],
   "source": [
    "os.path.dirname(path)"
   ]
  },
  {
   "cell_type": "code",
   "execution_count": 27,
   "metadata": {},
   "outputs": [],
   "source": [
    "import yaml\n",
    "import logging as lg\n",
    "\n",
    "def write_yaml_file(file_path: str, data: dict, desc: str):\n",
    "        \"\"\"Dumps the desired data into `yaml` file at the said location.\n",
    "\n",
    "        Args:\n",
    "            file_path (str): Location where yaml file is to be created.\n",
    "            data (dict): Data that is to be dumped into yaml file.\n",
    "            desc (str): Description of the file.\n",
    "        \"\"\"\n",
    "        try:\n",
    "            lg.info(f\"readying the `{desc}` yaml file..\")\n",
    "            file_dir = os.path.dirname(file_path)\n",
    "            os.makedirs(file_dir, exist_ok=True)\n",
    "            with open(file_path, \"w\") as f:\n",
    "                yaml.dump(data, f)\n",
    "            ...\n",
    "        except Exception as e:\n",
    "            lg.exception(e)"
   ]
  },
  {
   "cell_type": "code",
   "execution_count": 28,
   "metadata": {},
   "outputs": [
    {
     "data": {
      "text/plain": [
       "'D:\\\\data-science\\\\projects\\\\APS-fault-detection\\\\artifacts\\\\12062022__141811\\\\data validation\\\\report.yaml'"
      ]
     },
     "execution_count": 28,
     "metadata": {},
     "output_type": "execute_result"
    }
   ],
   "source": [
    "write_yaml_file()"
   ]
  },
  {
   "cell_type": "code",
   "execution_count": 5,
   "metadata": {},
   "outputs": [],
   "source": [
    "from src.utils.file_operations import BasicUtils\n",
    "\n",
    "feat, lab = BasicUtils().get_features_and_labels(df, target=[\"class\"])"
   ]
  },
  {
   "cell_type": "code",
   "execution_count": 6,
   "metadata": {},
   "outputs": [
    {
     "data": {
      "text/html": [
       "<div>\n",
       "<style scoped>\n",
       "    .dataframe tbody tr th:only-of-type {\n",
       "        vertical-align: middle;\n",
       "    }\n",
       "\n",
       "    .dataframe tbody tr th {\n",
       "        vertical-align: top;\n",
       "    }\n",
       "\n",
       "    .dataframe thead th {\n",
       "        text-align: right;\n",
       "    }\n",
       "</style>\n",
       "<table border=\"1\" class=\"dataframe\">\n",
       "  <thead>\n",
       "    <tr style=\"text-align: right;\">\n",
       "      <th></th>\n",
       "      <th>aa_000</th>\n",
       "      <th>ab_000</th>\n",
       "      <th>ac_000</th>\n",
       "      <th>ad_000</th>\n",
       "      <th>ae_000</th>\n",
       "      <th>af_000</th>\n",
       "      <th>ag_000</th>\n",
       "      <th>ag_001</th>\n",
       "      <th>ag_002</th>\n",
       "      <th>ag_003</th>\n",
       "      <th>...</th>\n",
       "      <th>ee_002</th>\n",
       "      <th>ee_003</th>\n",
       "      <th>ee_004</th>\n",
       "      <th>ee_005</th>\n",
       "      <th>ee_006</th>\n",
       "      <th>ee_007</th>\n",
       "      <th>ee_008</th>\n",
       "      <th>ee_009</th>\n",
       "      <th>ef_000</th>\n",
       "      <th>eg_000</th>\n",
       "    </tr>\n",
       "  </thead>\n",
       "  <tbody>\n",
       "    <tr>\n",
       "      <th>0</th>\n",
       "      <td>153204</td>\n",
       "      <td>0</td>\n",
       "      <td>182</td>\n",
       "      <td>na</td>\n",
       "      <td>0</td>\n",
       "      <td>0</td>\n",
       "      <td>0</td>\n",
       "      <td>0</td>\n",
       "      <td>0</td>\n",
       "      <td>11804</td>\n",
       "      <td>...</td>\n",
       "      <td>129862</td>\n",
       "      <td>26872</td>\n",
       "      <td>34044</td>\n",
       "      <td>22472</td>\n",
       "      <td>34362</td>\n",
       "      <td>0</td>\n",
       "      <td>0</td>\n",
       "      <td>0</td>\n",
       "      <td>0</td>\n",
       "      <td>0</td>\n",
       "    </tr>\n",
       "    <tr>\n",
       "      <th>1</th>\n",
       "      <td>453236</td>\n",
       "      <td>na</td>\n",
       "      <td>2926</td>\n",
       "      <td>na</td>\n",
       "      <td>0</td>\n",
       "      <td>0</td>\n",
       "      <td>0</td>\n",
       "      <td>0</td>\n",
       "      <td>222</td>\n",
       "      <td>323436</td>\n",
       "      <td>...</td>\n",
       "      <td>7908038</td>\n",
       "      <td>3026002</td>\n",
       "      <td>5025350</td>\n",
       "      <td>2025766</td>\n",
       "      <td>1160638</td>\n",
       "      <td>533834</td>\n",
       "      <td>493800</td>\n",
       "      <td>6914</td>\n",
       "      <td>0</td>\n",
       "      <td>0</td>\n",
       "    </tr>\n",
       "    <tr>\n",
       "      <th>2</th>\n",
       "      <td>72504</td>\n",
       "      <td>na</td>\n",
       "      <td>1594</td>\n",
       "      <td>1052</td>\n",
       "      <td>0</td>\n",
       "      <td>0</td>\n",
       "      <td>0</td>\n",
       "      <td>244</td>\n",
       "      <td>178226</td>\n",
       "      <td>1249396</td>\n",
       "      <td>...</td>\n",
       "      <td>1432098</td>\n",
       "      <td>372252</td>\n",
       "      <td>527514</td>\n",
       "      <td>358274</td>\n",
       "      <td>332818</td>\n",
       "      <td>284178</td>\n",
       "      <td>3742</td>\n",
       "      <td>0</td>\n",
       "      <td>0</td>\n",
       "      <td>0</td>\n",
       "    </tr>\n",
       "    <tr>\n",
       "      <th>3</th>\n",
       "      <td>762958</td>\n",
       "      <td>na</td>\n",
       "      <td>na</td>\n",
       "      <td>na</td>\n",
       "      <td>na</td>\n",
       "      <td>na</td>\n",
       "      <td>776</td>\n",
       "      <td>281128</td>\n",
       "      <td>2186308</td>\n",
       "      <td>8123016</td>\n",
       "      <td>...</td>\n",
       "      <td>na</td>\n",
       "      <td>na</td>\n",
       "      <td>na</td>\n",
       "      <td>na</td>\n",
       "      <td>na</td>\n",
       "      <td>na</td>\n",
       "      <td>na</td>\n",
       "      <td>na</td>\n",
       "      <td>na</td>\n",
       "      <td>na</td>\n",
       "    </tr>\n",
       "    <tr>\n",
       "      <th>4</th>\n",
       "      <td>695994</td>\n",
       "      <td>na</td>\n",
       "      <td>na</td>\n",
       "      <td>na</td>\n",
       "      <td>na</td>\n",
       "      <td>na</td>\n",
       "      <td>0</td>\n",
       "      <td>0</td>\n",
       "      <td>0</td>\n",
       "      <td>55620</td>\n",
       "      <td>...</td>\n",
       "      <td>1397742</td>\n",
       "      <td>495544</td>\n",
       "      <td>361646</td>\n",
       "      <td>28610</td>\n",
       "      <td>5130</td>\n",
       "      <td>212</td>\n",
       "      <td>0</td>\n",
       "      <td>0</td>\n",
       "      <td>na</td>\n",
       "      <td>na</td>\n",
       "    </tr>\n",
       "    <tr>\n",
       "      <th>...</th>\n",
       "      <td>...</td>\n",
       "      <td>...</td>\n",
       "      <td>...</td>\n",
       "      <td>...</td>\n",
       "      <td>...</td>\n",
       "      <td>...</td>\n",
       "      <td>...</td>\n",
       "      <td>...</td>\n",
       "      <td>...</td>\n",
       "      <td>...</td>\n",
       "      <td>...</td>\n",
       "      <td>...</td>\n",
       "      <td>...</td>\n",
       "      <td>...</td>\n",
       "      <td>...</td>\n",
       "      <td>...</td>\n",
       "      <td>...</td>\n",
       "      <td>...</td>\n",
       "      <td>...</td>\n",
       "      <td>...</td>\n",
       "      <td>...</td>\n",
       "    </tr>\n",
       "    <tr>\n",
       "      <th>36183</th>\n",
       "      <td>153002</td>\n",
       "      <td>na</td>\n",
       "      <td>664</td>\n",
       "      <td>186</td>\n",
       "      <td>0</td>\n",
       "      <td>0</td>\n",
       "      <td>0</td>\n",
       "      <td>0</td>\n",
       "      <td>0</td>\n",
       "      <td>2564</td>\n",
       "      <td>...</td>\n",
       "      <td>998500</td>\n",
       "      <td>566884</td>\n",
       "      <td>1290398</td>\n",
       "      <td>1218244</td>\n",
       "      <td>1019768</td>\n",
       "      <td>717762</td>\n",
       "      <td>898642</td>\n",
       "      <td>28588</td>\n",
       "      <td>0</td>\n",
       "      <td>0</td>\n",
       "    </tr>\n",
       "    <tr>\n",
       "      <th>36184</th>\n",
       "      <td>2286</td>\n",
       "      <td>na</td>\n",
       "      <td>2130706538</td>\n",
       "      <td>224</td>\n",
       "      <td>0</td>\n",
       "      <td>0</td>\n",
       "      <td>0</td>\n",
       "      <td>0</td>\n",
       "      <td>0</td>\n",
       "      <td>0</td>\n",
       "      <td>...</td>\n",
       "      <td>10578</td>\n",
       "      <td>6760</td>\n",
       "      <td>21126</td>\n",
       "      <td>68424</td>\n",
       "      <td>136</td>\n",
       "      <td>0</td>\n",
       "      <td>0</td>\n",
       "      <td>0</td>\n",
       "      <td>0</td>\n",
       "      <td>0</td>\n",
       "    </tr>\n",
       "    <tr>\n",
       "      <th>36185</th>\n",
       "      <td>112</td>\n",
       "      <td>0</td>\n",
       "      <td>2130706432</td>\n",
       "      <td>18</td>\n",
       "      <td>0</td>\n",
       "      <td>0</td>\n",
       "      <td>0</td>\n",
       "      <td>0</td>\n",
       "      <td>0</td>\n",
       "      <td>0</td>\n",
       "      <td>...</td>\n",
       "      <td>792</td>\n",
       "      <td>386</td>\n",
       "      <td>452</td>\n",
       "      <td>144</td>\n",
       "      <td>146</td>\n",
       "      <td>2622</td>\n",
       "      <td>0</td>\n",
       "      <td>0</td>\n",
       "      <td>0</td>\n",
       "      <td>0</td>\n",
       "    </tr>\n",
       "    <tr>\n",
       "      <th>36186</th>\n",
       "      <td>80292</td>\n",
       "      <td>na</td>\n",
       "      <td>2130706432</td>\n",
       "      <td>494</td>\n",
       "      <td>0</td>\n",
       "      <td>0</td>\n",
       "      <td>0</td>\n",
       "      <td>0</td>\n",
       "      <td>0</td>\n",
       "      <td>0</td>\n",
       "      <td>...</td>\n",
       "      <td>699352</td>\n",
       "      <td>222654</td>\n",
       "      <td>347378</td>\n",
       "      <td>225724</td>\n",
       "      <td>194440</td>\n",
       "      <td>165070</td>\n",
       "      <td>802280</td>\n",
       "      <td>388422</td>\n",
       "      <td>0</td>\n",
       "      <td>0</td>\n",
       "    </tr>\n",
       "    <tr>\n",
       "      <th>36187</th>\n",
       "      <td>40222</td>\n",
       "      <td>na</td>\n",
       "      <td>698</td>\n",
       "      <td>628</td>\n",
       "      <td>0</td>\n",
       "      <td>0</td>\n",
       "      <td>0</td>\n",
       "      <td>0</td>\n",
       "      <td>0</td>\n",
       "      <td>0</td>\n",
       "      <td>...</td>\n",
       "      <td>440066</td>\n",
       "      <td>183200</td>\n",
       "      <td>344546</td>\n",
       "      <td>254068</td>\n",
       "      <td>225148</td>\n",
       "      <td>158304</td>\n",
       "      <td>170384</td>\n",
       "      <td>158</td>\n",
       "      <td>0</td>\n",
       "      <td>0</td>\n",
       "    </tr>\n",
       "  </tbody>\n",
       "</table>\n",
       "<p>36188 rows × 170 columns</p>\n",
       "</div>"
      ],
      "text/plain": [
       "       aa_000 ab_000      ac_000 ad_000 ae_000 af_000 ag_000  ag_001   ag_002  \\\n",
       "0      153204      0         182     na      0      0      0       0        0   \n",
       "1      453236     na        2926     na      0      0      0       0      222   \n",
       "2       72504     na        1594   1052      0      0      0     244   178226   \n",
       "3      762958     na          na     na     na     na    776  281128  2186308   \n",
       "4      695994     na          na     na     na     na      0       0        0   \n",
       "...       ...    ...         ...    ...    ...    ...    ...     ...      ...   \n",
       "36183  153002     na         664    186      0      0      0       0        0   \n",
       "36184    2286     na  2130706538    224      0      0      0       0        0   \n",
       "36185     112      0  2130706432     18      0      0      0       0        0   \n",
       "36186   80292     na  2130706432    494      0      0      0       0        0   \n",
       "36187   40222     na         698    628      0      0      0       0        0   \n",
       "\n",
       "        ag_003  ...   ee_002   ee_003   ee_004   ee_005   ee_006  ee_007  \\\n",
       "0        11804  ...   129862    26872    34044    22472    34362       0   \n",
       "1       323436  ...  7908038  3026002  5025350  2025766  1160638  533834   \n",
       "2      1249396  ...  1432098   372252   527514   358274   332818  284178   \n",
       "3      8123016  ...       na       na       na       na       na      na   \n",
       "4        55620  ...  1397742   495544   361646    28610     5130     212   \n",
       "...        ...  ...      ...      ...      ...      ...      ...     ...   \n",
       "36183     2564  ...   998500   566884  1290398  1218244  1019768  717762   \n",
       "36184        0  ...    10578     6760    21126    68424      136       0   \n",
       "36185        0  ...      792      386      452      144      146    2622   \n",
       "36186        0  ...   699352   222654   347378   225724   194440  165070   \n",
       "36187        0  ...   440066   183200   344546   254068   225148  158304   \n",
       "\n",
       "       ee_008  ee_009 ef_000 eg_000  \n",
       "0           0       0      0      0  \n",
       "1      493800    6914      0      0  \n",
       "2        3742       0      0      0  \n",
       "3          na      na     na     na  \n",
       "4           0       0     na     na  \n",
       "...       ...     ...    ...    ...  \n",
       "36183  898642   28588      0      0  \n",
       "36184       0       0      0      0  \n",
       "36185       0       0      0      0  \n",
       "36186  802280  388422      0      0  \n",
       "36187  170384     158      0      0  \n",
       "\n",
       "[36188 rows x 170 columns]"
      ]
     },
     "execution_count": 6,
     "metadata": {},
     "output_type": "execute_result"
    }
   ],
   "source": [
    "feat"
   ]
  },
  {
   "cell_type": "code",
   "execution_count": 8,
   "metadata": {},
   "outputs": [
    {
     "data": {
      "text/html": [
       "<div>\n",
       "<style scoped>\n",
       "    .dataframe tbody tr th:only-of-type {\n",
       "        vertical-align: middle;\n",
       "    }\n",
       "\n",
       "    .dataframe tbody tr th {\n",
       "        vertical-align: top;\n",
       "    }\n",
       "\n",
       "    .dataframe thead th {\n",
       "        text-align: right;\n",
       "    }\n",
       "</style>\n",
       "<table border=\"1\" class=\"dataframe\">\n",
       "  <thead>\n",
       "    <tr style=\"text-align: right;\">\n",
       "      <th></th>\n",
       "      <th>class</th>\n",
       "    </tr>\n",
       "  </thead>\n",
       "  <tbody>\n",
       "    <tr>\n",
       "      <th>0</th>\n",
       "      <td>pos</td>\n",
       "    </tr>\n",
       "    <tr>\n",
       "      <th>1</th>\n",
       "      <td>pos</td>\n",
       "    </tr>\n",
       "    <tr>\n",
       "      <th>2</th>\n",
       "      <td>pos</td>\n",
       "    </tr>\n",
       "    <tr>\n",
       "      <th>3</th>\n",
       "      <td>pos</td>\n",
       "    </tr>\n",
       "    <tr>\n",
       "      <th>4</th>\n",
       "      <td>pos</td>\n",
       "    </tr>\n",
       "    <tr>\n",
       "      <th>...</th>\n",
       "      <td>...</td>\n",
       "    </tr>\n",
       "    <tr>\n",
       "      <th>36183</th>\n",
       "      <td>neg</td>\n",
       "    </tr>\n",
       "    <tr>\n",
       "      <th>36184</th>\n",
       "      <td>neg</td>\n",
       "    </tr>\n",
       "    <tr>\n",
       "      <th>36185</th>\n",
       "      <td>neg</td>\n",
       "    </tr>\n",
       "    <tr>\n",
       "      <th>36186</th>\n",
       "      <td>neg</td>\n",
       "    </tr>\n",
       "    <tr>\n",
       "      <th>36187</th>\n",
       "      <td>neg</td>\n",
       "    </tr>\n",
       "  </tbody>\n",
       "</table>\n",
       "<p>36188 rows × 1 columns</p>\n",
       "</div>"
      ],
      "text/plain": [
       "      class\n",
       "0       pos\n",
       "1       pos\n",
       "2       pos\n",
       "3       pos\n",
       "4       pos\n",
       "...     ...\n",
       "36183   neg\n",
       "36184   neg\n",
       "36185   neg\n",
       "36186   neg\n",
       "36187   neg\n",
       "\n",
       "[36188 rows x 1 columns]"
      ]
     },
     "execution_count": 8,
     "metadata": {},
     "output_type": "execute_result"
    }
   ],
   "source": [
    "lab"
   ]
  },
  {
   "cell_type": "code",
   "execution_count": 2,
   "metadata": {},
   "outputs": [
    {
     "name": "stderr",
     "output_type": "stream",
     "text": [
      "c:\\Users\\Admin\\anaconda3\\envs\\sensor\\lib\\site-packages\\sklearn\\preprocessing\\_label.py:98: DataConversionWarning: A column-vector y was passed when a 1d array was expected. Please change the shape of y to (n_samples, ), for example using ravel().\n",
      "  y = column_or_1d(y, warn=True)\n"
     ]
    },
    {
     "data": {
      "text/html": [
       "<style>#sk-container-id-1 {color: black;background-color: white;}#sk-container-id-1 pre{padding: 0;}#sk-container-id-1 div.sk-toggleable {background-color: white;}#sk-container-id-1 label.sk-toggleable__label {cursor: pointer;display: block;width: 100%;margin-bottom: 0;padding: 0.3em;box-sizing: border-box;text-align: center;}#sk-container-id-1 label.sk-toggleable__label-arrow:before {content: \"▸\";float: left;margin-right: 0.25em;color: #696969;}#sk-container-id-1 label.sk-toggleable__label-arrow:hover:before {color: black;}#sk-container-id-1 div.sk-estimator:hover label.sk-toggleable__label-arrow:before {color: black;}#sk-container-id-1 div.sk-toggleable__content {max-height: 0;max-width: 0;overflow: hidden;text-align: left;background-color: #f0f8ff;}#sk-container-id-1 div.sk-toggleable__content pre {margin: 0.2em;color: black;border-radius: 0.25em;background-color: #f0f8ff;}#sk-container-id-1 input.sk-toggleable__control:checked~div.sk-toggleable__content {max-height: 200px;max-width: 100%;overflow: auto;}#sk-container-id-1 input.sk-toggleable__control:checked~label.sk-toggleable__label-arrow:before {content: \"▾\";}#sk-container-id-1 div.sk-estimator input.sk-toggleable__control:checked~label.sk-toggleable__label {background-color: #d4ebff;}#sk-container-id-1 div.sk-label input.sk-toggleable__control:checked~label.sk-toggleable__label {background-color: #d4ebff;}#sk-container-id-1 input.sk-hidden--visually {border: 0;clip: rect(1px 1px 1px 1px);clip: rect(1px, 1px, 1px, 1px);height: 1px;margin: -1px;overflow: hidden;padding: 0;position: absolute;width: 1px;}#sk-container-id-1 div.sk-estimator {font-family: monospace;background-color: #f0f8ff;border: 1px dotted black;border-radius: 0.25em;box-sizing: border-box;margin-bottom: 0.5em;}#sk-container-id-1 div.sk-estimator:hover {background-color: #d4ebff;}#sk-container-id-1 div.sk-parallel-item::after {content: \"\";width: 100%;border-bottom: 1px solid gray;flex-grow: 1;}#sk-container-id-1 div.sk-label:hover label.sk-toggleable__label {background-color: #d4ebff;}#sk-container-id-1 div.sk-serial::before {content: \"\";position: absolute;border-left: 1px solid gray;box-sizing: border-box;top: 0;bottom: 0;left: 50%;z-index: 0;}#sk-container-id-1 div.sk-serial {display: flex;flex-direction: column;align-items: center;background-color: white;padding-right: 0.2em;padding-left: 0.2em;position: relative;}#sk-container-id-1 div.sk-item {position: relative;z-index: 1;}#sk-container-id-1 div.sk-parallel {display: flex;align-items: stretch;justify-content: center;background-color: white;position: relative;}#sk-container-id-1 div.sk-item::before, #sk-container-id-1 div.sk-parallel-item::before {content: \"\";position: absolute;border-left: 1px solid gray;box-sizing: border-box;top: 0;bottom: 0;left: 50%;z-index: -1;}#sk-container-id-1 div.sk-parallel-item {display: flex;flex-direction: column;z-index: 1;position: relative;background-color: white;}#sk-container-id-1 div.sk-parallel-item:first-child::after {align-self: flex-end;width: 50%;}#sk-container-id-1 div.sk-parallel-item:last-child::after {align-self: flex-start;width: 50%;}#sk-container-id-1 div.sk-parallel-item:only-child::after {width: 0;}#sk-container-id-1 div.sk-dashed-wrapped {border: 1px dashed gray;margin: 0 0.4em 0.5em 0.4em;box-sizing: border-box;padding-bottom: 0.4em;background-color: white;}#sk-container-id-1 div.sk-label label {font-family: monospace;font-weight: bold;display: inline-block;line-height: 1.2em;}#sk-container-id-1 div.sk-label-container {text-align: center;}#sk-container-id-1 div.sk-container {/* jupyter's `normalize.less` sets `[hidden] { display: none; }` but bootstrap.min.css set `[hidden] { display: none !important; }` so we also need the `!important` here to be able to override the default hidden behavior on the sphinx rendered scikit-learn.org. See: https://github.com/scikit-learn/scikit-learn/issues/21755 */display: inline-block !important;position: relative;}#sk-container-id-1 div.sk-text-repr-fallback {display: none;}</style><div id=\"sk-container-id-1\" class=\"sk-top-container\"><div class=\"sk-text-repr-fallback\"><pre>LabelEncoder()</pre><b>In a Jupyter environment, please rerun this cell to show the HTML representation or trust the notebook. <br />On GitHub, the HTML representation is unable to render, please try loading this page with nbviewer.org.</b></div><div class=\"sk-container\" hidden><div class=\"sk-item\"><div class=\"sk-estimator sk-toggleable\"><input class=\"sk-toggleable__control sk-hidden--visually\" id=\"sk-estimator-id-1\" type=\"checkbox\" checked><label for=\"sk-estimator-id-1\" class=\"sk-toggleable__label sk-toggleable__label-arrow\">LabelEncoder</label><div class=\"sk-toggleable__content\"><pre>LabelEncoder()</pre></div></div></div></div></div>"
      ],
      "text/plain": [
       "LabelEncoder()"
      ]
     },
     "execution_count": 2,
     "metadata": {},
     "output_type": "execute_result"
    }
   ],
   "source": [
    "from sklearn.preprocessing import LabelEncoder\n",
    "\n",
    "label_encoder = LabelEncoder()\n",
    "df_label = df[[\"class\"]]\n",
    "label_encoder.fit(df_label)"
   ]
  },
  {
   "cell_type": "code",
   "execution_count": 19,
   "metadata": {},
   "outputs": [
    {
     "data": {
      "text/plain": [
       "Index(['class', 'aa_000', 'ab_000', 'ac_000', 'ad_000', 'ae_000', 'af_000',\n",
       "       'ag_000', 'ag_001', 'ag_002',\n",
       "       ...\n",
       "       'ee_002', 'ee_003', 'ee_004', 'ee_005', 'ee_006', 'ee_007', 'ee_008',\n",
       "       'ee_009', 'ef_000', 'eg_000'],\n",
       "      dtype='object', length=171)"
      ]
     },
     "execution_count": 19,
     "metadata": {},
     "output_type": "execute_result"
    }
   ],
   "source": [
    "df.columns"
   ]
  },
  {
   "cell_type": "code",
   "execution_count": 4,
   "metadata": {},
   "outputs": [
    {
     "data": {
      "text/html": [
       "<div>\n",
       "<style scoped>\n",
       "    .dataframe tbody tr th:only-of-type {\n",
       "        vertical-align: middle;\n",
       "    }\n",
       "\n",
       "    .dataframe tbody tr th {\n",
       "        vertical-align: top;\n",
       "    }\n",
       "\n",
       "    .dataframe thead th {\n",
       "        text-align: right;\n",
       "    }\n",
       "</style>\n",
       "<table border=\"1\" class=\"dataframe\">\n",
       "  <thead>\n",
       "    <tr style=\"text-align: right;\">\n",
       "      <th></th>\n",
       "      <th>class</th>\n",
       "      <th>aa_000</th>\n",
       "      <th>ab_000</th>\n",
       "      <th>ac_000</th>\n",
       "      <th>ad_000</th>\n",
       "      <th>ae_000</th>\n",
       "      <th>af_000</th>\n",
       "      <th>ag_000</th>\n",
       "      <th>ag_001</th>\n",
       "      <th>ag_002</th>\n",
       "      <th>...</th>\n",
       "      <th>ee_002</th>\n",
       "      <th>ee_003</th>\n",
       "      <th>ee_004</th>\n",
       "      <th>ee_005</th>\n",
       "      <th>ee_006</th>\n",
       "      <th>ee_007</th>\n",
       "      <th>ee_008</th>\n",
       "      <th>ee_009</th>\n",
       "      <th>ef_000</th>\n",
       "      <th>eg_000</th>\n",
       "    </tr>\n",
       "  </thead>\n",
       "  <tbody>\n",
       "    <tr>\n",
       "      <th>0</th>\n",
       "      <td>neg</td>\n",
       "      <td>640</td>\n",
       "      <td>0.0</td>\n",
       "      <td>4.0</td>\n",
       "      <td>6.0</td>\n",
       "      <td>0.0</td>\n",
       "      <td>0.0</td>\n",
       "      <td>0.0</td>\n",
       "      <td>0.0</td>\n",
       "      <td>0.0</td>\n",
       "      <td>...</td>\n",
       "      <td>2940.0</td>\n",
       "      <td>1094.0</td>\n",
       "      <td>1822.0</td>\n",
       "      <td>3056.0</td>\n",
       "      <td>3814.0</td>\n",
       "      <td>13740.0</td>\n",
       "      <td>452.0</td>\n",
       "      <td>0.0</td>\n",
       "      <td>0.0</td>\n",
       "      <td>0.0</td>\n",
       "    </tr>\n",
       "    <tr>\n",
       "      <th>1</th>\n",
       "      <td>neg</td>\n",
       "      <td>180</td>\n",
       "      <td>NaN</td>\n",
       "      <td>40.0</td>\n",
       "      <td>40.0</td>\n",
       "      <td>0.0</td>\n",
       "      <td>0.0</td>\n",
       "      <td>0.0</td>\n",
       "      <td>0.0</td>\n",
       "      <td>0.0</td>\n",
       "      <td>...</td>\n",
       "      <td>2492.0</td>\n",
       "      <td>794.0</td>\n",
       "      <td>1172.0</td>\n",
       "      <td>3328.0</td>\n",
       "      <td>12.0</td>\n",
       "      <td>0.0</td>\n",
       "      <td>0.0</td>\n",
       "      <td>0.0</td>\n",
       "      <td>0.0</td>\n",
       "      <td>0.0</td>\n",
       "    </tr>\n",
       "    <tr>\n",
       "      <th>2</th>\n",
       "      <td>neg</td>\n",
       "      <td>39336</td>\n",
       "      <td>NaN</td>\n",
       "      <td>630.0</td>\n",
       "      <td>458.0</td>\n",
       "      <td>0.0</td>\n",
       "      <td>0.0</td>\n",
       "      <td>0.0</td>\n",
       "      <td>0.0</td>\n",
       "      <td>0.0</td>\n",
       "      <td>...</td>\n",
       "      <td>417352.0</td>\n",
       "      <td>237644.0</td>\n",
       "      <td>510714.0</td>\n",
       "      <td>338544.0</td>\n",
       "      <td>167132.0</td>\n",
       "      <td>73462.0</td>\n",
       "      <td>81896.0</td>\n",
       "      <td>7204.0</td>\n",
       "      <td>0.0</td>\n",
       "      <td>0.0</td>\n",
       "    </tr>\n",
       "    <tr>\n",
       "      <th>3</th>\n",
       "      <td>neg</td>\n",
       "      <td>29256</td>\n",
       "      <td>NaN</td>\n",
       "      <td>720.0</td>\n",
       "      <td>684.0</td>\n",
       "      <td>0.0</td>\n",
       "      <td>0.0</td>\n",
       "      <td>0.0</td>\n",
       "      <td>0.0</td>\n",
       "      <td>0.0</td>\n",
       "      <td>...</td>\n",
       "      <td>347250.0</td>\n",
       "      <td>233994.0</td>\n",
       "      <td>520920.0</td>\n",
       "      <td>191080.0</td>\n",
       "      <td>59730.0</td>\n",
       "      <td>29486.0</td>\n",
       "      <td>30016.0</td>\n",
       "      <td>262.0</td>\n",
       "      <td>0.0</td>\n",
       "      <td>0.0</td>\n",
       "    </tr>\n",
       "    <tr>\n",
       "      <th>4</th>\n",
       "      <td>neg</td>\n",
       "      <td>28988</td>\n",
       "      <td>NaN</td>\n",
       "      <td>0.0</td>\n",
       "      <td>NaN</td>\n",
       "      <td>0.0</td>\n",
       "      <td>0.0</td>\n",
       "      <td>0.0</td>\n",
       "      <td>0.0</td>\n",
       "      <td>0.0</td>\n",
       "      <td>...</td>\n",
       "      <td>223524.0</td>\n",
       "      <td>138916.0</td>\n",
       "      <td>411678.0</td>\n",
       "      <td>471378.0</td>\n",
       "      <td>112360.0</td>\n",
       "      <td>2268.0</td>\n",
       "      <td>26.0</td>\n",
       "      <td>0.0</td>\n",
       "      <td>0.0</td>\n",
       "      <td>0.0</td>\n",
       "    </tr>\n",
       "  </tbody>\n",
       "</table>\n",
       "<p>5 rows × 171 columns</p>\n",
       "</div>"
      ],
      "text/plain": [
       "  class  aa_000  ab_000  ac_000  ad_000  ae_000  af_000  ag_000  ag_001  \\\n",
       "0   neg     640     0.0     4.0     6.0     0.0     0.0     0.0     0.0   \n",
       "1   neg     180     NaN    40.0    40.0     0.0     0.0     0.0     0.0   \n",
       "2   neg   39336     NaN   630.0   458.0     0.0     0.0     0.0     0.0   \n",
       "3   neg   29256     NaN   720.0   684.0     0.0     0.0     0.0     0.0   \n",
       "4   neg   28988     NaN     0.0     NaN     0.0     0.0     0.0     0.0   \n",
       "\n",
       "   ag_002  ...    ee_002    ee_003    ee_004    ee_005    ee_006   ee_007  \\\n",
       "0     0.0  ...    2940.0    1094.0    1822.0    3056.0    3814.0  13740.0   \n",
       "1     0.0  ...    2492.0     794.0    1172.0    3328.0      12.0      0.0   \n",
       "2     0.0  ...  417352.0  237644.0  510714.0  338544.0  167132.0  73462.0   \n",
       "3     0.0  ...  347250.0  233994.0  520920.0  191080.0   59730.0  29486.0   \n",
       "4     0.0  ...  223524.0  138916.0  411678.0  471378.0  112360.0   2268.0   \n",
       "\n",
       "    ee_008  ee_009  ef_000  eg_000  \n",
       "0    452.0     0.0     0.0     0.0  \n",
       "1      0.0     0.0     0.0     0.0  \n",
       "2  81896.0  7204.0     0.0     0.0  \n",
       "3  30016.0   262.0     0.0     0.0  \n",
       "4     26.0     0.0     0.0     0.0  \n",
       "\n",
       "[5 rows x 171 columns]"
      ]
     },
     "execution_count": 4,
     "metadata": {},
     "output_type": "execute_result"
    }
   ],
   "source": [
    "df_train = pd.read_csv(r\"D:\\data-science\\projects\\APS-fault-detection\\artifacts\\12072022__103501\\data_ingestion\\training_set.csv\")\n",
    "df_train.head()"
   ]
  },
  {
   "cell_type": "code",
   "execution_count": 17,
   "metadata": {},
   "outputs": [
    {
     "data": {
      "text/plain": [
       "Index(['class', 'aa_000', 'ab_000', 'ac_000', 'ad_000', 'ae_000', 'af_000',\n",
       "       'ag_000', 'ag_001', 'ag_002',\n",
       "       ...\n",
       "       'ee_002', 'ee_003', 'ee_004', 'ee_005', 'ee_006', 'ee_007', 'ee_008',\n",
       "       'ee_009', 'ef_000', 'eg_000'],\n",
       "      dtype='object', length=171)"
      ]
     },
     "execution_count": 17,
     "metadata": {},
     "output_type": "execute_result"
    }
   ],
   "source": [
    "df_train.columns"
   ]
  },
  {
   "cell_type": "code",
   "execution_count": 20,
   "metadata": {},
   "outputs": [
    {
     "data": {
      "text/plain": [
       "['aa_000',\n",
       " 'ab_000',\n",
       " 'ac_000',\n",
       " 'ad_000',\n",
       " 'ae_000',\n",
       " 'af_000',\n",
       " 'ag_000',\n",
       " 'ag_001',\n",
       " 'ag_002',\n",
       " 'ag_003',\n",
       " 'ag_004',\n",
       " 'ag_005',\n",
       " 'ag_006',\n",
       " 'ag_007',\n",
       " 'ag_008',\n",
       " 'ag_009',\n",
       " 'ah_000',\n",
       " 'ai_000',\n",
       " 'aj_000',\n",
       " 'ak_000',\n",
       " 'al_000',\n",
       " 'am_0',\n",
       " 'an_000',\n",
       " 'ao_000',\n",
       " 'ap_000',\n",
       " 'aq_000',\n",
       " 'ar_000',\n",
       " 'as_000',\n",
       " 'at_000',\n",
       " 'au_000',\n",
       " 'av_000',\n",
       " 'ax_000',\n",
       " 'ay_000',\n",
       " 'ay_001',\n",
       " 'ay_002',\n",
       " 'ay_003',\n",
       " 'ay_004',\n",
       " 'ay_005',\n",
       " 'ay_006',\n",
       " 'ay_007',\n",
       " 'ay_008',\n",
       " 'ay_009',\n",
       " 'az_000',\n",
       " 'az_001',\n",
       " 'az_002',\n",
       " 'az_003',\n",
       " 'az_004',\n",
       " 'az_005',\n",
       " 'az_006',\n",
       " 'az_007',\n",
       " 'az_008',\n",
       " 'az_009',\n",
       " 'ba_000',\n",
       " 'ba_001',\n",
       " 'ba_002',\n",
       " 'ba_003',\n",
       " 'ba_004',\n",
       " 'ba_005',\n",
       " 'ba_006',\n",
       " 'ba_007',\n",
       " 'ba_008',\n",
       " 'ba_009',\n",
       " 'bb_000',\n",
       " 'bc_000',\n",
       " 'bd_000',\n",
       " 'be_000',\n",
       " 'bf_000',\n",
       " 'bg_000',\n",
       " 'bh_000',\n",
       " 'bi_000',\n",
       " 'bj_000',\n",
       " 'bk_000',\n",
       " 'bl_000',\n",
       " 'bm_000',\n",
       " 'bn_000',\n",
       " 'bo_000',\n",
       " 'bp_000',\n",
       " 'bq_000',\n",
       " 'br_000',\n",
       " 'bs_000',\n",
       " 'bt_000',\n",
       " 'bu_000',\n",
       " 'bv_000',\n",
       " 'bx_000',\n",
       " 'by_000',\n",
       " 'bz_000',\n",
       " 'ca_000',\n",
       " 'cb_000',\n",
       " 'cc_000',\n",
       " 'cd_000',\n",
       " 'ce_000',\n",
       " 'cf_000',\n",
       " 'cg_000',\n",
       " 'ch_000',\n",
       " 'ci_000',\n",
       " 'cj_000',\n",
       " 'ck_000',\n",
       " 'cl_000',\n",
       " 'cm_000',\n",
       " 'cn_000',\n",
       " 'cn_001',\n",
       " 'cn_002',\n",
       " 'cn_003',\n",
       " 'cn_004',\n",
       " 'cn_005',\n",
       " 'cn_006',\n",
       " 'cn_007',\n",
       " 'cn_008',\n",
       " 'cn_009',\n",
       " 'co_000',\n",
       " 'cp_000',\n",
       " 'cq_000',\n",
       " 'cr_000',\n",
       " 'cs_000',\n",
       " 'cs_001',\n",
       " 'cs_002',\n",
       " 'cs_003',\n",
       " 'cs_004',\n",
       " 'cs_005',\n",
       " 'cs_006',\n",
       " 'cs_007',\n",
       " 'cs_008',\n",
       " 'cs_009',\n",
       " 'ct_000',\n",
       " 'cu_000',\n",
       " 'cv_000',\n",
       " 'cx_000',\n",
       " 'cy_000',\n",
       " 'cz_000',\n",
       " 'da_000',\n",
       " 'db_000',\n",
       " 'dc_000',\n",
       " 'dd_000',\n",
       " 'de_000',\n",
       " 'df_000',\n",
       " 'dg_000',\n",
       " 'dh_000',\n",
       " 'di_000',\n",
       " 'dj_000',\n",
       " 'dk_000',\n",
       " 'dl_000',\n",
       " 'dm_000',\n",
       " 'dn_000',\n",
       " 'do_000',\n",
       " 'dp_000',\n",
       " 'dq_000',\n",
       " 'dr_000',\n",
       " 'ds_000',\n",
       " 'dt_000',\n",
       " 'du_000',\n",
       " 'dv_000',\n",
       " 'dx_000',\n",
       " 'dy_000',\n",
       " 'dz_000',\n",
       " 'ea_000',\n",
       " 'eb_000',\n",
       " 'ec_00',\n",
       " 'ed_000',\n",
       " 'ee_000',\n",
       " 'ee_001',\n",
       " 'ee_002',\n",
       " 'ee_003',\n",
       " 'ee_004',\n",
       " 'ee_005',\n",
       " 'ee_006',\n",
       " 'ee_007',\n",
       " 'ee_008',\n",
       " 'ee_009',\n",
       " 'ef_000',\n",
       " 'eg_000']"
      ]
     },
     "execution_count": 20,
     "metadata": {},
     "output_type": "execute_result"
    }
   ],
   "source": [
    "num_atts = [col for col in df.columns if df_train[col].dtypes != 'O']\n",
    "cat_atts = [col for col in df.columns if df_train[col].dtypes == 'O']\n",
    "\n",
    "num_atts"
   ]
  },
  {
   "cell_type": "code",
   "execution_count": 21,
   "metadata": {},
   "outputs": [
    {
     "data": {
      "text/plain": [
       "['class']"
      ]
     },
     "execution_count": 21,
     "metadata": {},
     "output_type": "execute_result"
    }
   ],
   "source": [
    "cat_atts"
   ]
  },
  {
   "cell_type": "code",
   "execution_count": 22,
   "metadata": {},
   "outputs": [
    {
     "data": {
      "text/plain": [
       "class     object\n",
       "aa_000     int64\n",
       "ab_000    object\n",
       "ac_000    object\n",
       "ad_000    object\n",
       "           ...  \n",
       "ee_007    object\n",
       "ee_008    object\n",
       "ee_009    object\n",
       "ef_000    object\n",
       "eg_000    object\n",
       "Length: 171, dtype: object"
      ]
     },
     "execution_count": 22,
     "metadata": {},
     "output_type": "execute_result"
    }
   ],
   "source": [
    "df.dtypes"
   ]
  },
  {
   "cell_type": "code",
   "execution_count": 23,
   "metadata": {},
   "outputs": [
    {
     "data": {
      "text/plain": [
       "class      object\n",
       "aa_000      int64\n",
       "ab_000    float64\n",
       "ac_000    float64\n",
       "ad_000    float64\n",
       "           ...   \n",
       "ee_007    float64\n",
       "ee_008    float64\n",
       "ee_009    float64\n",
       "ef_000    float64\n",
       "eg_000    float64\n",
       "Length: 171, dtype: object"
      ]
     },
     "execution_count": 23,
     "metadata": {},
     "output_type": "execute_result"
    }
   ],
   "source": [
    "df_train.dtypes"
   ]
  },
  {
   "cell_type": "code",
   "execution_count": 3,
   "metadata": {},
   "outputs": [
    {
     "data": {
      "text/plain": [
       "array([['pos', 153204, '0', ..., '0', '0', '0'],\n",
       "       ['pos', 453236, 'na', ..., '6914', '0', '0'],\n",
       "       ['pos', 72504, 'na', ..., '0', '0', '0'],\n",
       "       ...,\n",
       "       ['neg', 112, '0', ..., '0', '0', '0'],\n",
       "       ['neg', 80292, 'na', ..., '388422', '0', '0'],\n",
       "       ['neg', 40222, 'na', ..., '158', '0', '0']], dtype=object)"
      ]
     },
     "execution_count": 3,
     "metadata": {},
     "output_type": "execute_result"
    }
   ],
   "source": [
    "arr = np.asarray(df)\n",
    "arr"
   ]
  },
  {
   "cell_type": "code",
   "execution_count": 4,
   "metadata": {},
   "outputs": [
    {
     "data": {
      "text/plain": [
       "(36188, 171)"
      ]
     },
     "execution_count": 4,
     "metadata": {},
     "output_type": "execute_result"
    }
   ],
   "source": [
    "arr.shape"
   ]
  },
  {
   "cell_type": "code",
   "execution_count": 3,
   "metadata": {},
   "outputs": [
    {
     "data": {
      "text/plain": [
       "class     object\n",
       "aa_000     int64\n",
       "ab_000    object\n",
       "ac_000    object\n",
       "ad_000    object\n",
       "           ...  \n",
       "ee_007    object\n",
       "ee_008    object\n",
       "ee_009    object\n",
       "ef_000    object\n",
       "eg_000    object\n",
       "Length: 171, dtype: object"
      ]
     },
     "execution_count": 3,
     "metadata": {},
     "output_type": "execute_result"
    }
   ],
   "source": [
    "df.dtypes"
   ]
  },
  {
   "attachments": {},
   "cell_type": "markdown",
   "metadata": {},
   "source": [
    "### # Transformation:"
   ]
  },
  {
   "cell_type": "code",
   "execution_count": 4,
   "metadata": {},
   "outputs": [
    {
     "data": {
      "text/html": [
       "<div>\n",
       "<style scoped>\n",
       "    .dataframe tbody tr th:only-of-type {\n",
       "        vertical-align: middle;\n",
       "    }\n",
       "\n",
       "    .dataframe tbody tr th {\n",
       "        vertical-align: top;\n",
       "    }\n",
       "\n",
       "    .dataframe thead th {\n",
       "        text-align: right;\n",
       "    }\n",
       "</style>\n",
       "<table border=\"1\" class=\"dataframe\">\n",
       "  <thead>\n",
       "    <tr style=\"text-align: right;\">\n",
       "      <th></th>\n",
       "      <th>class</th>\n",
       "      <th>aa_000</th>\n",
       "      <th>ab_000</th>\n",
       "      <th>ac_000</th>\n",
       "      <th>ad_000</th>\n",
       "      <th>ae_000</th>\n",
       "      <th>af_000</th>\n",
       "      <th>ag_000</th>\n",
       "      <th>ag_001</th>\n",
       "      <th>ag_002</th>\n",
       "      <th>...</th>\n",
       "      <th>ee_002</th>\n",
       "      <th>ee_003</th>\n",
       "      <th>ee_004</th>\n",
       "      <th>ee_005</th>\n",
       "      <th>ee_006</th>\n",
       "      <th>ee_007</th>\n",
       "      <th>ee_008</th>\n",
       "      <th>ee_009</th>\n",
       "      <th>ef_000</th>\n",
       "      <th>eg_000</th>\n",
       "    </tr>\n",
       "  </thead>\n",
       "  <tbody>\n",
       "    <tr>\n",
       "      <th>0</th>\n",
       "      <td>pos</td>\n",
       "      <td>153204</td>\n",
       "      <td>0.0</td>\n",
       "      <td>182.0</td>\n",
       "      <td>NaN</td>\n",
       "      <td>0.0</td>\n",
       "      <td>0.0</td>\n",
       "      <td>0.0</td>\n",
       "      <td>0.0</td>\n",
       "      <td>0.0</td>\n",
       "      <td>...</td>\n",
       "      <td>129862.0</td>\n",
       "      <td>26872.0</td>\n",
       "      <td>34044.0</td>\n",
       "      <td>22472.0</td>\n",
       "      <td>34362.0</td>\n",
       "      <td>0.0</td>\n",
       "      <td>0.0</td>\n",
       "      <td>0.0</td>\n",
       "      <td>0.0</td>\n",
       "      <td>0.0</td>\n",
       "    </tr>\n",
       "    <tr>\n",
       "      <th>1</th>\n",
       "      <td>pos</td>\n",
       "      <td>453236</td>\n",
       "      <td>NaN</td>\n",
       "      <td>2926.0</td>\n",
       "      <td>NaN</td>\n",
       "      <td>0.0</td>\n",
       "      <td>0.0</td>\n",
       "      <td>0.0</td>\n",
       "      <td>0.0</td>\n",
       "      <td>222.0</td>\n",
       "      <td>...</td>\n",
       "      <td>7908038.0</td>\n",
       "      <td>3026002.0</td>\n",
       "      <td>5025350.0</td>\n",
       "      <td>2025766.0</td>\n",
       "      <td>1160638.0</td>\n",
       "      <td>533834.0</td>\n",
       "      <td>493800.0</td>\n",
       "      <td>6914.0</td>\n",
       "      <td>0.0</td>\n",
       "      <td>0.0</td>\n",
       "    </tr>\n",
       "    <tr>\n",
       "      <th>2</th>\n",
       "      <td>pos</td>\n",
       "      <td>72504</td>\n",
       "      <td>NaN</td>\n",
       "      <td>1594.0</td>\n",
       "      <td>1052.0</td>\n",
       "      <td>0.0</td>\n",
       "      <td>0.0</td>\n",
       "      <td>0.0</td>\n",
       "      <td>244.0</td>\n",
       "      <td>178226.0</td>\n",
       "      <td>...</td>\n",
       "      <td>1432098.0</td>\n",
       "      <td>372252.0</td>\n",
       "      <td>527514.0</td>\n",
       "      <td>358274.0</td>\n",
       "      <td>332818.0</td>\n",
       "      <td>284178.0</td>\n",
       "      <td>3742.0</td>\n",
       "      <td>0.0</td>\n",
       "      <td>0.0</td>\n",
       "      <td>0.0</td>\n",
       "    </tr>\n",
       "    <tr>\n",
       "      <th>3</th>\n",
       "      <td>pos</td>\n",
       "      <td>762958</td>\n",
       "      <td>NaN</td>\n",
       "      <td>NaN</td>\n",
       "      <td>NaN</td>\n",
       "      <td>NaN</td>\n",
       "      <td>NaN</td>\n",
       "      <td>776.0</td>\n",
       "      <td>281128.0</td>\n",
       "      <td>2186308.0</td>\n",
       "      <td>...</td>\n",
       "      <td>NaN</td>\n",
       "      <td>NaN</td>\n",
       "      <td>NaN</td>\n",
       "      <td>NaN</td>\n",
       "      <td>NaN</td>\n",
       "      <td>NaN</td>\n",
       "      <td>NaN</td>\n",
       "      <td>NaN</td>\n",
       "      <td>NaN</td>\n",
       "      <td>NaN</td>\n",
       "    </tr>\n",
       "    <tr>\n",
       "      <th>4</th>\n",
       "      <td>pos</td>\n",
       "      <td>695994</td>\n",
       "      <td>NaN</td>\n",
       "      <td>NaN</td>\n",
       "      <td>NaN</td>\n",
       "      <td>NaN</td>\n",
       "      <td>NaN</td>\n",
       "      <td>0.0</td>\n",
       "      <td>0.0</td>\n",
       "      <td>0.0</td>\n",
       "      <td>...</td>\n",
       "      <td>1397742.0</td>\n",
       "      <td>495544.0</td>\n",
       "      <td>361646.0</td>\n",
       "      <td>28610.0</td>\n",
       "      <td>5130.0</td>\n",
       "      <td>212.0</td>\n",
       "      <td>0.0</td>\n",
       "      <td>0.0</td>\n",
       "      <td>NaN</td>\n",
       "      <td>NaN</td>\n",
       "    </tr>\n",
       "  </tbody>\n",
       "</table>\n",
       "<p>5 rows × 171 columns</p>\n",
       "</div>"
      ],
      "text/plain": [
       "  class  aa_000  ab_000  ac_000  ad_000  ae_000  af_000  ag_000    ag_001  \\\n",
       "0   pos  153204     0.0   182.0     NaN     0.0     0.0     0.0       0.0   \n",
       "1   pos  453236     NaN  2926.0     NaN     0.0     0.0     0.0       0.0   \n",
       "2   pos   72504     NaN  1594.0  1052.0     0.0     0.0     0.0     244.0   \n",
       "3   pos  762958     NaN     NaN     NaN     NaN     NaN   776.0  281128.0   \n",
       "4   pos  695994     NaN     NaN     NaN     NaN     NaN     0.0       0.0   \n",
       "\n",
       "      ag_002  ...     ee_002     ee_003     ee_004     ee_005     ee_006  \\\n",
       "0        0.0  ...   129862.0    26872.0    34044.0    22472.0    34362.0   \n",
       "1      222.0  ...  7908038.0  3026002.0  5025350.0  2025766.0  1160638.0   \n",
       "2   178226.0  ...  1432098.0   372252.0   527514.0   358274.0   332818.0   \n",
       "3  2186308.0  ...        NaN        NaN        NaN        NaN        NaN   \n",
       "4        0.0  ...  1397742.0   495544.0   361646.0    28610.0     5130.0   \n",
       "\n",
       "     ee_007    ee_008  ee_009  ef_000  eg_000  \n",
       "0       0.0       0.0     0.0     0.0     0.0  \n",
       "1  533834.0  493800.0  6914.0     0.0     0.0  \n",
       "2  284178.0    3742.0     0.0     0.0     0.0  \n",
       "3       NaN       NaN     NaN     NaN     NaN  \n",
       "4     212.0       0.0     0.0     NaN     NaN  \n",
       "\n",
       "[5 rows x 171 columns]"
      ]
     },
     "execution_count": 4,
     "metadata": {},
     "output_type": "execute_result"
    }
   ],
   "source": [
    "sensors = pd.read_csv(r\"D:\\data-science\\projects\\APS-fault-detection\\artifacts\\12082022__111422\\data_ingestion\\sensors_feature_store.csv\")\n",
    "sensors.head()"
   ]
  },
  {
   "cell_type": "code",
   "execution_count": 5,
   "metadata": {},
   "outputs": [
    {
     "data": {
      "text/plain": [
       "class      object\n",
       "aa_000      int64\n",
       "ab_000    float64\n",
       "ac_000    float64\n",
       "ad_000    float64\n",
       "           ...   \n",
       "ee_007    float64\n",
       "ee_008    float64\n",
       "ee_009    float64\n",
       "ef_000    float64\n",
       "eg_000    float64\n",
       "Length: 171, dtype: object"
      ]
     },
     "execution_count": 5,
     "metadata": {},
     "output_type": "execute_result"
    }
   ],
   "source": [
    "sensors.dtypes"
   ]
  },
  {
   "cell_type": "code",
   "execution_count": 6,
   "metadata": {},
   "outputs": [],
   "source": [
    "from sklearn.pipeline import Pipeline\n",
    "from sklearn.compose import ColumnTransformer\n",
    "from sklearn.preprocessing import LabelEncoder, RobustScaler\n",
    "from sklearn.impute import SimpleImputer"
   ]
  },
  {
   "cell_type": "code",
   "execution_count": 7,
   "metadata": {},
   "outputs": [],
   "source": [
    "from sklearn.model_selection import train_test_split\n",
    "\n",
    "train_set, test_set = train_test_split(sensors, test_size=0.2, random_state=42)"
   ]
  },
  {
   "cell_type": "code",
   "execution_count": 8,
   "metadata": {},
   "outputs": [
    {
     "data": {
      "text/plain": [
       "Index(['class', 'aa_000', 'ab_000', 'ac_000', 'ad_000', 'ae_000', 'af_000',\n",
       "       'ag_000', 'ag_001', 'ag_002',\n",
       "       ...\n",
       "       'ee_002', 'ee_003', 'ee_004', 'ee_005', 'ee_006', 'ee_007', 'ee_008',\n",
       "       'ee_009', 'ef_000', 'eg_000'],\n",
       "      dtype='object', length=171)"
      ]
     },
     "execution_count": 8,
     "metadata": {},
     "output_type": "execute_result"
    }
   ],
   "source": [
    "train_set.head()\n",
    "train_set.columns"
   ]
  },
  {
   "cell_type": "code",
   "execution_count": 9,
   "metadata": {},
   "outputs": [],
   "source": [
    "num_atts = [col for col in train_set.columns if train_set[col].dtype != 'O' ]\n",
    "cat_atts = [col for col in train_set.columns if train_set[col].dtype == 'O' ]"
   ]
  },
  {
   "cell_type": "code",
   "execution_count": 10,
   "metadata": {},
   "outputs": [
    {
     "data": {
      "text/plain": [
       "['class']"
      ]
     },
     "execution_count": 10,
     "metadata": {},
     "output_type": "execute_result"
    }
   ],
   "source": [
    "num_atts\n",
    "cat_atts"
   ]
  },
  {
   "cell_type": "code",
   "execution_count": 11,
   "metadata": {},
   "outputs": [],
   "source": [
    "simple_imputer = SimpleImputer(strategy=\"constant\", fill_value=0)\n",
    "robust_scaler = RobustScaler()\n",
    "num_pipeline = Pipeline(steps=[(\"Imputer\", simple_imputer), (\"Robust Scaler\", robust_scaler)])\n",
    "\n",
    "########################## LabelEncoder for Categorical Atts ######################################\n",
    "label_encoder = LabelEncoder()\n",
    "\n",
    "########################## Simultaneous Pipeline for both Atts ####################################\n",
    "full_pipeline = ColumnTransformer([\n",
    "    (\"Numerical Pipeline\", num_pipeline, num_atts),\n",
    "    (\"Label Encoder\", label_encoder, cat_atts)\n",
    "])"
   ]
  },
  {
   "cell_type": "code",
   "execution_count": 12,
   "metadata": {},
   "outputs": [
    {
     "data": {
      "text/html": [
       "<style>#sk-container-id-1 {color: black;background-color: white;}#sk-container-id-1 pre{padding: 0;}#sk-container-id-1 div.sk-toggleable {background-color: white;}#sk-container-id-1 label.sk-toggleable__label {cursor: pointer;display: block;width: 100%;margin-bottom: 0;padding: 0.3em;box-sizing: border-box;text-align: center;}#sk-container-id-1 label.sk-toggleable__label-arrow:before {content: \"▸\";float: left;margin-right: 0.25em;color: #696969;}#sk-container-id-1 label.sk-toggleable__label-arrow:hover:before {color: black;}#sk-container-id-1 div.sk-estimator:hover label.sk-toggleable__label-arrow:before {color: black;}#sk-container-id-1 div.sk-toggleable__content {max-height: 0;max-width: 0;overflow: hidden;text-align: left;background-color: #f0f8ff;}#sk-container-id-1 div.sk-toggleable__content pre {margin: 0.2em;color: black;border-radius: 0.25em;background-color: #f0f8ff;}#sk-container-id-1 input.sk-toggleable__control:checked~div.sk-toggleable__content {max-height: 200px;max-width: 100%;overflow: auto;}#sk-container-id-1 input.sk-toggleable__control:checked~label.sk-toggleable__label-arrow:before {content: \"▾\";}#sk-container-id-1 div.sk-estimator input.sk-toggleable__control:checked~label.sk-toggleable__label {background-color: #d4ebff;}#sk-container-id-1 div.sk-label input.sk-toggleable__control:checked~label.sk-toggleable__label {background-color: #d4ebff;}#sk-container-id-1 input.sk-hidden--visually {border: 0;clip: rect(1px 1px 1px 1px);clip: rect(1px, 1px, 1px, 1px);height: 1px;margin: -1px;overflow: hidden;padding: 0;position: absolute;width: 1px;}#sk-container-id-1 div.sk-estimator {font-family: monospace;background-color: #f0f8ff;border: 1px dotted black;border-radius: 0.25em;box-sizing: border-box;margin-bottom: 0.5em;}#sk-container-id-1 div.sk-estimator:hover {background-color: #d4ebff;}#sk-container-id-1 div.sk-parallel-item::after {content: \"\";width: 100%;border-bottom: 1px solid gray;flex-grow: 1;}#sk-container-id-1 div.sk-label:hover label.sk-toggleable__label {background-color: #d4ebff;}#sk-container-id-1 div.sk-serial::before {content: \"\";position: absolute;border-left: 1px solid gray;box-sizing: border-box;top: 0;bottom: 0;left: 50%;z-index: 0;}#sk-container-id-1 div.sk-serial {display: flex;flex-direction: column;align-items: center;background-color: white;padding-right: 0.2em;padding-left: 0.2em;position: relative;}#sk-container-id-1 div.sk-item {position: relative;z-index: 1;}#sk-container-id-1 div.sk-parallel {display: flex;align-items: stretch;justify-content: center;background-color: white;position: relative;}#sk-container-id-1 div.sk-item::before, #sk-container-id-1 div.sk-parallel-item::before {content: \"\";position: absolute;border-left: 1px solid gray;box-sizing: border-box;top: 0;bottom: 0;left: 50%;z-index: -1;}#sk-container-id-1 div.sk-parallel-item {display: flex;flex-direction: column;z-index: 1;position: relative;background-color: white;}#sk-container-id-1 div.sk-parallel-item:first-child::after {align-self: flex-end;width: 50%;}#sk-container-id-1 div.sk-parallel-item:last-child::after {align-self: flex-start;width: 50%;}#sk-container-id-1 div.sk-parallel-item:only-child::after {width: 0;}#sk-container-id-1 div.sk-dashed-wrapped {border: 1px dashed gray;margin: 0 0.4em 0.5em 0.4em;box-sizing: border-box;padding-bottom: 0.4em;background-color: white;}#sk-container-id-1 div.sk-label label {font-family: monospace;font-weight: bold;display: inline-block;line-height: 1.2em;}#sk-container-id-1 div.sk-label-container {text-align: center;}#sk-container-id-1 div.sk-container {/* jupyter's `normalize.less` sets `[hidden] { display: none; }` but bootstrap.min.css set `[hidden] { display: none !important; }` so we also need the `!important` here to be able to override the default hidden behavior on the sphinx rendered scikit-learn.org. See: https://github.com/scikit-learn/scikit-learn/issues/21755 */display: inline-block !important;position: relative;}#sk-container-id-1 div.sk-text-repr-fallback {display: none;}</style><div id=\"sk-container-id-1\" class=\"sk-top-container\"><div class=\"sk-text-repr-fallback\"><pre>ColumnTransformer(transformers=[(&#x27;Numerical Pipeline&#x27;,\n",
       "                                 Pipeline(steps=[(&#x27;Imputer&#x27;,\n",
       "                                                  SimpleImputer(fill_value=0,\n",
       "                                                                strategy=&#x27;constant&#x27;)),\n",
       "                                                 (&#x27;Robust Scaler&#x27;,\n",
       "                                                  RobustScaler())]),\n",
       "                                 [&#x27;aa_000&#x27;, &#x27;ab_000&#x27;, &#x27;ac_000&#x27;, &#x27;ad_000&#x27;,\n",
       "                                  &#x27;ae_000&#x27;, &#x27;af_000&#x27;, &#x27;ag_000&#x27;, &#x27;ag_001&#x27;,\n",
       "                                  &#x27;ag_002&#x27;, &#x27;ag_003&#x27;, &#x27;ag_004&#x27;, &#x27;ag_005&#x27;,\n",
       "                                  &#x27;ag_006&#x27;, &#x27;ag_007&#x27;, &#x27;ag_008&#x27;, &#x27;ag_009&#x27;,\n",
       "                                  &#x27;ah_000&#x27;, &#x27;ai_000&#x27;, &#x27;aj_000&#x27;, &#x27;ak_000&#x27;,\n",
       "                                  &#x27;al_000&#x27;, &#x27;am_0&#x27;, &#x27;an_000&#x27;, &#x27;ao_000&#x27;,\n",
       "                                  &#x27;ap_000&#x27;, &#x27;aq_000&#x27;, &#x27;ar_000&#x27;, &#x27;as_000&#x27;,\n",
       "                                  &#x27;at_000&#x27;, &#x27;au_000&#x27;, ...]),\n",
       "                                (&#x27;Label Encoder&#x27;, LabelEncoder(), [&#x27;class&#x27;])])</pre><b>In a Jupyter environment, please rerun this cell to show the HTML representation or trust the notebook. <br />On GitHub, the HTML representation is unable to render, please try loading this page with nbviewer.org.</b></div><div class=\"sk-container\" hidden><div class=\"sk-item sk-dashed-wrapped\"><div class=\"sk-label-container\"><div class=\"sk-label sk-toggleable\"><input class=\"sk-toggleable__control sk-hidden--visually\" id=\"sk-estimator-id-1\" type=\"checkbox\" ><label for=\"sk-estimator-id-1\" class=\"sk-toggleable__label sk-toggleable__label-arrow\">ColumnTransformer</label><div class=\"sk-toggleable__content\"><pre>ColumnTransformer(transformers=[(&#x27;Numerical Pipeline&#x27;,\n",
       "                                 Pipeline(steps=[(&#x27;Imputer&#x27;,\n",
       "                                                  SimpleImputer(fill_value=0,\n",
       "                                                                strategy=&#x27;constant&#x27;)),\n",
       "                                                 (&#x27;Robust Scaler&#x27;,\n",
       "                                                  RobustScaler())]),\n",
       "                                 [&#x27;aa_000&#x27;, &#x27;ab_000&#x27;, &#x27;ac_000&#x27;, &#x27;ad_000&#x27;,\n",
       "                                  &#x27;ae_000&#x27;, &#x27;af_000&#x27;, &#x27;ag_000&#x27;, &#x27;ag_001&#x27;,\n",
       "                                  &#x27;ag_002&#x27;, &#x27;ag_003&#x27;, &#x27;ag_004&#x27;, &#x27;ag_005&#x27;,\n",
       "                                  &#x27;ag_006&#x27;, &#x27;ag_007&#x27;, &#x27;ag_008&#x27;, &#x27;ag_009&#x27;,\n",
       "                                  &#x27;ah_000&#x27;, &#x27;ai_000&#x27;, &#x27;aj_000&#x27;, &#x27;ak_000&#x27;,\n",
       "                                  &#x27;al_000&#x27;, &#x27;am_0&#x27;, &#x27;an_000&#x27;, &#x27;ao_000&#x27;,\n",
       "                                  &#x27;ap_000&#x27;, &#x27;aq_000&#x27;, &#x27;ar_000&#x27;, &#x27;as_000&#x27;,\n",
       "                                  &#x27;at_000&#x27;, &#x27;au_000&#x27;, ...]),\n",
       "                                (&#x27;Label Encoder&#x27;, LabelEncoder(), [&#x27;class&#x27;])])</pre></div></div></div><div class=\"sk-parallel\"><div class=\"sk-parallel-item\"><div class=\"sk-item\"><div class=\"sk-label-container\"><div class=\"sk-label sk-toggleable\"><input class=\"sk-toggleable__control sk-hidden--visually\" id=\"sk-estimator-id-2\" type=\"checkbox\" ><label for=\"sk-estimator-id-2\" class=\"sk-toggleable__label sk-toggleable__label-arrow\">Numerical Pipeline</label><div class=\"sk-toggleable__content\"><pre>[&#x27;aa_000&#x27;, &#x27;ab_000&#x27;, &#x27;ac_000&#x27;, &#x27;ad_000&#x27;, &#x27;ae_000&#x27;, &#x27;af_000&#x27;, &#x27;ag_000&#x27;, &#x27;ag_001&#x27;, &#x27;ag_002&#x27;, &#x27;ag_003&#x27;, &#x27;ag_004&#x27;, &#x27;ag_005&#x27;, &#x27;ag_006&#x27;, &#x27;ag_007&#x27;, &#x27;ag_008&#x27;, &#x27;ag_009&#x27;, &#x27;ah_000&#x27;, &#x27;ai_000&#x27;, &#x27;aj_000&#x27;, &#x27;ak_000&#x27;, &#x27;al_000&#x27;, &#x27;am_0&#x27;, &#x27;an_000&#x27;, &#x27;ao_000&#x27;, &#x27;ap_000&#x27;, &#x27;aq_000&#x27;, &#x27;ar_000&#x27;, &#x27;as_000&#x27;, &#x27;at_000&#x27;, &#x27;au_000&#x27;, &#x27;av_000&#x27;, &#x27;ax_000&#x27;, &#x27;ay_000&#x27;, &#x27;ay_001&#x27;, &#x27;ay_002&#x27;, &#x27;ay_003&#x27;, &#x27;ay_004&#x27;, &#x27;ay_005&#x27;, &#x27;ay_006&#x27;, &#x27;ay_007&#x27;, &#x27;ay_008&#x27;, &#x27;ay_009&#x27;, &#x27;az_000&#x27;, &#x27;az_001&#x27;, &#x27;az_002&#x27;, &#x27;az_003&#x27;, &#x27;az_004&#x27;, &#x27;az_005&#x27;, &#x27;az_006&#x27;, &#x27;az_007&#x27;, &#x27;az_008&#x27;, &#x27;az_009&#x27;, &#x27;ba_000&#x27;, &#x27;ba_001&#x27;, &#x27;ba_002&#x27;, &#x27;ba_003&#x27;, &#x27;ba_004&#x27;, &#x27;ba_005&#x27;, &#x27;ba_006&#x27;, &#x27;ba_007&#x27;, &#x27;ba_008&#x27;, &#x27;ba_009&#x27;, &#x27;bb_000&#x27;, &#x27;bc_000&#x27;, &#x27;bd_000&#x27;, &#x27;be_000&#x27;, &#x27;bf_000&#x27;, &#x27;bg_000&#x27;, &#x27;bh_000&#x27;, &#x27;bi_000&#x27;, &#x27;bj_000&#x27;, &#x27;bk_000&#x27;, &#x27;bl_000&#x27;, &#x27;bm_000&#x27;, &#x27;bn_000&#x27;, &#x27;bo_000&#x27;, &#x27;bp_000&#x27;, &#x27;bq_000&#x27;, &#x27;br_000&#x27;, &#x27;bs_000&#x27;, &#x27;bt_000&#x27;, &#x27;bu_000&#x27;, &#x27;bv_000&#x27;, &#x27;bx_000&#x27;, &#x27;by_000&#x27;, &#x27;bz_000&#x27;, &#x27;ca_000&#x27;, &#x27;cb_000&#x27;, &#x27;cc_000&#x27;, &#x27;cd_000&#x27;, &#x27;ce_000&#x27;, &#x27;cf_000&#x27;, &#x27;cg_000&#x27;, &#x27;ch_000&#x27;, &#x27;ci_000&#x27;, &#x27;cj_000&#x27;, &#x27;ck_000&#x27;, &#x27;cl_000&#x27;, &#x27;cm_000&#x27;, &#x27;cn_000&#x27;, &#x27;cn_001&#x27;, &#x27;cn_002&#x27;, &#x27;cn_003&#x27;, &#x27;cn_004&#x27;, &#x27;cn_005&#x27;, &#x27;cn_006&#x27;, &#x27;cn_007&#x27;, &#x27;cn_008&#x27;, &#x27;cn_009&#x27;, &#x27;co_000&#x27;, &#x27;cp_000&#x27;, &#x27;cq_000&#x27;, &#x27;cr_000&#x27;, &#x27;cs_000&#x27;, &#x27;cs_001&#x27;, &#x27;cs_002&#x27;, &#x27;cs_003&#x27;, &#x27;cs_004&#x27;, &#x27;cs_005&#x27;, &#x27;cs_006&#x27;, &#x27;cs_007&#x27;, &#x27;cs_008&#x27;, &#x27;cs_009&#x27;, &#x27;ct_000&#x27;, &#x27;cu_000&#x27;, &#x27;cv_000&#x27;, &#x27;cx_000&#x27;, &#x27;cy_000&#x27;, &#x27;cz_000&#x27;, &#x27;da_000&#x27;, &#x27;db_000&#x27;, &#x27;dc_000&#x27;, &#x27;dd_000&#x27;, &#x27;de_000&#x27;, &#x27;df_000&#x27;, &#x27;dg_000&#x27;, &#x27;dh_000&#x27;, &#x27;di_000&#x27;, &#x27;dj_000&#x27;, &#x27;dk_000&#x27;, &#x27;dl_000&#x27;, &#x27;dm_000&#x27;, &#x27;dn_000&#x27;, &#x27;do_000&#x27;, &#x27;dp_000&#x27;, &#x27;dq_000&#x27;, &#x27;dr_000&#x27;, &#x27;ds_000&#x27;, &#x27;dt_000&#x27;, &#x27;du_000&#x27;, &#x27;dv_000&#x27;, &#x27;dx_000&#x27;, &#x27;dy_000&#x27;, &#x27;dz_000&#x27;, &#x27;ea_000&#x27;, &#x27;eb_000&#x27;, &#x27;ec_00&#x27;, &#x27;ed_000&#x27;, &#x27;ee_000&#x27;, &#x27;ee_001&#x27;, &#x27;ee_002&#x27;, &#x27;ee_003&#x27;, &#x27;ee_004&#x27;, &#x27;ee_005&#x27;, &#x27;ee_006&#x27;, &#x27;ee_007&#x27;, &#x27;ee_008&#x27;, &#x27;ee_009&#x27;, &#x27;ef_000&#x27;, &#x27;eg_000&#x27;]</pre></div></div></div><div class=\"sk-serial\"><div class=\"sk-item\"><div class=\"sk-serial\"><div class=\"sk-item\"><div class=\"sk-estimator sk-toggleable\"><input class=\"sk-toggleable__control sk-hidden--visually\" id=\"sk-estimator-id-3\" type=\"checkbox\" ><label for=\"sk-estimator-id-3\" class=\"sk-toggleable__label sk-toggleable__label-arrow\">SimpleImputer</label><div class=\"sk-toggleable__content\"><pre>SimpleImputer(fill_value=0, strategy=&#x27;constant&#x27;)</pre></div></div></div><div class=\"sk-item\"><div class=\"sk-estimator sk-toggleable\"><input class=\"sk-toggleable__control sk-hidden--visually\" id=\"sk-estimator-id-4\" type=\"checkbox\" ><label for=\"sk-estimator-id-4\" class=\"sk-toggleable__label sk-toggleable__label-arrow\">RobustScaler</label><div class=\"sk-toggleable__content\"><pre>RobustScaler()</pre></div></div></div></div></div></div></div></div><div class=\"sk-parallel-item\"><div class=\"sk-item\"><div class=\"sk-label-container\"><div class=\"sk-label sk-toggleable\"><input class=\"sk-toggleable__control sk-hidden--visually\" id=\"sk-estimator-id-5\" type=\"checkbox\" ><label for=\"sk-estimator-id-5\" class=\"sk-toggleable__label sk-toggleable__label-arrow\">Label Encoder</label><div class=\"sk-toggleable__content\"><pre>[&#x27;class&#x27;]</pre></div></div></div><div class=\"sk-serial\"><div class=\"sk-item\"><div class=\"sk-estimator sk-toggleable\"><input class=\"sk-toggleable__control sk-hidden--visually\" id=\"sk-estimator-id-6\" type=\"checkbox\" ><label for=\"sk-estimator-id-6\" class=\"sk-toggleable__label sk-toggleable__label-arrow\">LabelEncoder</label><div class=\"sk-toggleable__content\"><pre>LabelEncoder()</pre></div></div></div></div></div></div></div></div></div></div>"
      ],
      "text/plain": [
       "ColumnTransformer(transformers=[('Numerical Pipeline',\n",
       "                                 Pipeline(steps=[('Imputer',\n",
       "                                                  SimpleImputer(fill_value=0,\n",
       "                                                                strategy='constant')),\n",
       "                                                 ('Robust Scaler',\n",
       "                                                  RobustScaler())]),\n",
       "                                 ['aa_000', 'ab_000', 'ac_000', 'ad_000',\n",
       "                                  'ae_000', 'af_000', 'ag_000', 'ag_001',\n",
       "                                  'ag_002', 'ag_003', 'ag_004', 'ag_005',\n",
       "                                  'ag_006', 'ag_007', 'ag_008', 'ag_009',\n",
       "                                  'ah_000', 'ai_000', 'aj_000', 'ak_000',\n",
       "                                  'al_000', 'am_0', 'an_000', 'ao_000',\n",
       "                                  'ap_000', 'aq_000', 'ar_000', 'as_000',\n",
       "                                  'at_000', 'au_000', ...]),\n",
       "                                ('Label Encoder', LabelEncoder(), ['class'])])"
      ]
     },
     "execution_count": 12,
     "metadata": {},
     "output_type": "execute_result"
    }
   ],
   "source": [
    "full_pipeline"
   ]
  },
  {
   "cell_type": "code",
   "execution_count": 13,
   "metadata": {},
   "outputs": [],
   "source": [
    "X_train = train_set.drop([\"class\"], axis=1)\n",
    "y_train = train_set[[\"class\"]]"
   ]
  },
  {
   "cell_type": "code",
   "execution_count": 14,
   "metadata": {},
   "outputs": [
    {
     "data": {
      "text/html": [
       "<div>\n",
       "<style scoped>\n",
       "    .dataframe tbody tr th:only-of-type {\n",
       "        vertical-align: middle;\n",
       "    }\n",
       "\n",
       "    .dataframe tbody tr th {\n",
       "        vertical-align: top;\n",
       "    }\n",
       "\n",
       "    .dataframe thead th {\n",
       "        text-align: right;\n",
       "    }\n",
       "</style>\n",
       "<table border=\"1\" class=\"dataframe\">\n",
       "  <thead>\n",
       "    <tr style=\"text-align: right;\">\n",
       "      <th></th>\n",
       "      <th>class</th>\n",
       "      <th>aa_000</th>\n",
       "      <th>ab_000</th>\n",
       "      <th>ac_000</th>\n",
       "      <th>ad_000</th>\n",
       "      <th>ae_000</th>\n",
       "      <th>af_000</th>\n",
       "      <th>ag_000</th>\n",
       "      <th>ag_001</th>\n",
       "      <th>ag_002</th>\n",
       "      <th>...</th>\n",
       "      <th>ee_002</th>\n",
       "      <th>ee_003</th>\n",
       "      <th>ee_004</th>\n",
       "      <th>ee_005</th>\n",
       "      <th>ee_006</th>\n",
       "      <th>ee_007</th>\n",
       "      <th>ee_008</th>\n",
       "      <th>ee_009</th>\n",
       "      <th>ef_000</th>\n",
       "      <th>eg_000</th>\n",
       "    </tr>\n",
       "  </thead>\n",
       "  <tbody>\n",
       "    <tr>\n",
       "      <th>23601</th>\n",
       "      <td>neg</td>\n",
       "      <td>22</td>\n",
       "      <td>2.0</td>\n",
       "      <td>4.400000e+01</td>\n",
       "      <td>NaN</td>\n",
       "      <td>0.0</td>\n",
       "      <td>0.0</td>\n",
       "      <td>0.0</td>\n",
       "      <td>0.0</td>\n",
       "      <td>3454.0</td>\n",
       "      <td>...</td>\n",
       "      <td>196.0</td>\n",
       "      <td>34.0</td>\n",
       "      <td>46.0</td>\n",
       "      <td>24.0</td>\n",
       "      <td>10.0</td>\n",
       "      <td>0.0</td>\n",
       "      <td>0.0</td>\n",
       "      <td>0.0</td>\n",
       "      <td>0.0</td>\n",
       "      <td>0.0</td>\n",
       "    </tr>\n",
       "    <tr>\n",
       "      <th>4254</th>\n",
       "      <td>neg</td>\n",
       "      <td>10</td>\n",
       "      <td>NaN</td>\n",
       "      <td>0.000000e+00</td>\n",
       "      <td>0.0</td>\n",
       "      <td>0.0</td>\n",
       "      <td>0.0</td>\n",
       "      <td>0.0</td>\n",
       "      <td>0.0</td>\n",
       "      <td>0.0</td>\n",
       "      <td>...</td>\n",
       "      <td>36.0</td>\n",
       "      <td>26.0</td>\n",
       "      <td>36.0</td>\n",
       "      <td>46.0</td>\n",
       "      <td>100.0</td>\n",
       "      <td>26.0</td>\n",
       "      <td>0.0</td>\n",
       "      <td>0.0</td>\n",
       "      <td>0.0</td>\n",
       "      <td>0.0</td>\n",
       "    </tr>\n",
       "    <tr>\n",
       "      <th>17893</th>\n",
       "      <td>neg</td>\n",
       "      <td>41474</td>\n",
       "      <td>NaN</td>\n",
       "      <td>5.980000e+02</td>\n",
       "      <td>NaN</td>\n",
       "      <td>0.0</td>\n",
       "      <td>0.0</td>\n",
       "      <td>0.0</td>\n",
       "      <td>0.0</td>\n",
       "      <td>0.0</td>\n",
       "      <td>...</td>\n",
       "      <td>331610.0</td>\n",
       "      <td>177770.0</td>\n",
       "      <td>348412.0</td>\n",
       "      <td>315844.0</td>\n",
       "      <td>237834.0</td>\n",
       "      <td>148534.0</td>\n",
       "      <td>258180.0</td>\n",
       "      <td>15748.0</td>\n",
       "      <td>0.0</td>\n",
       "      <td>0.0</td>\n",
       "    </tr>\n",
       "    <tr>\n",
       "      <th>16219</th>\n",
       "      <td>neg</td>\n",
       "      <td>18928</td>\n",
       "      <td>NaN</td>\n",
       "      <td>1.406000e+03</td>\n",
       "      <td>1406.0</td>\n",
       "      <td>0.0</td>\n",
       "      <td>0.0</td>\n",
       "      <td>0.0</td>\n",
       "      <td>0.0</td>\n",
       "      <td>0.0</td>\n",
       "      <td>...</td>\n",
       "      <td>58134.0</td>\n",
       "      <td>5134.0</td>\n",
       "      <td>1764.0</td>\n",
       "      <td>92.0</td>\n",
       "      <td>14.0</td>\n",
       "      <td>0.0</td>\n",
       "      <td>0.0</td>\n",
       "      <td>0.0</td>\n",
       "      <td>0.0</td>\n",
       "      <td>0.0</td>\n",
       "    </tr>\n",
       "    <tr>\n",
       "      <th>13530</th>\n",
       "      <td>neg</td>\n",
       "      <td>26</td>\n",
       "      <td>NaN</td>\n",
       "      <td>2.000000e+01</td>\n",
       "      <td>20.0</td>\n",
       "      <td>0.0</td>\n",
       "      <td>0.0</td>\n",
       "      <td>0.0</td>\n",
       "      <td>0.0</td>\n",
       "      <td>0.0</td>\n",
       "      <td>...</td>\n",
       "      <td>508.0</td>\n",
       "      <td>76.0</td>\n",
       "      <td>72.0</td>\n",
       "      <td>0.0</td>\n",
       "      <td>0.0</td>\n",
       "      <td>0.0</td>\n",
       "      <td>0.0</td>\n",
       "      <td>0.0</td>\n",
       "      <td>0.0</td>\n",
       "      <td>0.0</td>\n",
       "    </tr>\n",
       "    <tr>\n",
       "      <th>...</th>\n",
       "      <td>...</td>\n",
       "      <td>...</td>\n",
       "      <td>...</td>\n",
       "      <td>...</td>\n",
       "      <td>...</td>\n",
       "      <td>...</td>\n",
       "      <td>...</td>\n",
       "      <td>...</td>\n",
       "      <td>...</td>\n",
       "      <td>...</td>\n",
       "      <td>...</td>\n",
       "      <td>...</td>\n",
       "      <td>...</td>\n",
       "      <td>...</td>\n",
       "      <td>...</td>\n",
       "      <td>...</td>\n",
       "      <td>...</td>\n",
       "      <td>...</td>\n",
       "      <td>...</td>\n",
       "      <td>...</td>\n",
       "      <td>...</td>\n",
       "    </tr>\n",
       "    <tr>\n",
       "      <th>16850</th>\n",
       "      <td>neg</td>\n",
       "      <td>180262</td>\n",
       "      <td>NaN</td>\n",
       "      <td>0.000000e+00</td>\n",
       "      <td>NaN</td>\n",
       "      <td>0.0</td>\n",
       "      <td>0.0</td>\n",
       "      <td>0.0</td>\n",
       "      <td>0.0</td>\n",
       "      <td>0.0</td>\n",
       "      <td>...</td>\n",
       "      <td>1519772.0</td>\n",
       "      <td>988792.0</td>\n",
       "      <td>3290222.0</td>\n",
       "      <td>1440160.0</td>\n",
       "      <td>588876.0</td>\n",
       "      <td>259714.0</td>\n",
       "      <td>385322.0</td>\n",
       "      <td>31364.0</td>\n",
       "      <td>0.0</td>\n",
       "      <td>0.0</td>\n",
       "    </tr>\n",
       "    <tr>\n",
       "      <th>6265</th>\n",
       "      <td>neg</td>\n",
       "      <td>39754</td>\n",
       "      <td>NaN</td>\n",
       "      <td>4.900000e+02</td>\n",
       "      <td>466.0</td>\n",
       "      <td>0.0</td>\n",
       "      <td>0.0</td>\n",
       "      <td>0.0</td>\n",
       "      <td>0.0</td>\n",
       "      <td>0.0</td>\n",
       "      <td>...</td>\n",
       "      <td>181658.0</td>\n",
       "      <td>96452.0</td>\n",
       "      <td>270364.0</td>\n",
       "      <td>344880.0</td>\n",
       "      <td>382150.0</td>\n",
       "      <td>238500.0</td>\n",
       "      <td>192166.0</td>\n",
       "      <td>1652.0</td>\n",
       "      <td>0.0</td>\n",
       "      <td>0.0</td>\n",
       "    </tr>\n",
       "    <tr>\n",
       "      <th>11284</th>\n",
       "      <td>neg</td>\n",
       "      <td>1798</td>\n",
       "      <td>NaN</td>\n",
       "      <td>4.400000e+01</td>\n",
       "      <td>36.0</td>\n",
       "      <td>0.0</td>\n",
       "      <td>0.0</td>\n",
       "      <td>0.0</td>\n",
       "      <td>0.0</td>\n",
       "      <td>0.0</td>\n",
       "      <td>...</td>\n",
       "      <td>9082.0</td>\n",
       "      <td>6750.0</td>\n",
       "      <td>16788.0</td>\n",
       "      <td>12258.0</td>\n",
       "      <td>10300.0</td>\n",
       "      <td>8948.0</td>\n",
       "      <td>14866.0</td>\n",
       "      <td>140.0</td>\n",
       "      <td>0.0</td>\n",
       "      <td>0.0</td>\n",
       "    </tr>\n",
       "    <tr>\n",
       "      <th>860</th>\n",
       "      <td>neg</td>\n",
       "      <td>179692</td>\n",
       "      <td>0.0</td>\n",
       "      <td>2.130706e+09</td>\n",
       "      <td>704.0</td>\n",
       "      <td>18.0</td>\n",
       "      <td>34.0</td>\n",
       "      <td>0.0</td>\n",
       "      <td>0.0</td>\n",
       "      <td>0.0</td>\n",
       "      <td>...</td>\n",
       "      <td>486262.0</td>\n",
       "      <td>254052.0</td>\n",
       "      <td>394340.0</td>\n",
       "      <td>308248.0</td>\n",
       "      <td>926104.0</td>\n",
       "      <td>1086352.0</td>\n",
       "      <td>18538.0</td>\n",
       "      <td>0.0</td>\n",
       "      <td>0.0</td>\n",
       "      <td>0.0</td>\n",
       "    </tr>\n",
       "    <tr>\n",
       "      <th>15795</th>\n",
       "      <td>neg</td>\n",
       "      <td>30766</td>\n",
       "      <td>NaN</td>\n",
       "      <td>5.260000e+02</td>\n",
       "      <td>506.0</td>\n",
       "      <td>0.0</td>\n",
       "      <td>0.0</td>\n",
       "      <td>0.0</td>\n",
       "      <td>0.0</td>\n",
       "      <td>0.0</td>\n",
       "      <td>...</td>\n",
       "      <td>181734.0</td>\n",
       "      <td>88012.0</td>\n",
       "      <td>194604.0</td>\n",
       "      <td>396336.0</td>\n",
       "      <td>181866.0</td>\n",
       "      <td>113420.0</td>\n",
       "      <td>166686.0</td>\n",
       "      <td>17838.0</td>\n",
       "      <td>0.0</td>\n",
       "      <td>0.0</td>\n",
       "    </tr>\n",
       "  </tbody>\n",
       "</table>\n",
       "<p>28950 rows × 171 columns</p>\n",
       "</div>"
      ],
      "text/plain": [
       "      class  aa_000  ab_000        ac_000  ad_000  ae_000  af_000  ag_000  \\\n",
       "23601   neg      22     2.0  4.400000e+01     NaN     0.0     0.0     0.0   \n",
       "4254    neg      10     NaN  0.000000e+00     0.0     0.0     0.0     0.0   \n",
       "17893   neg   41474     NaN  5.980000e+02     NaN     0.0     0.0     0.0   \n",
       "16219   neg   18928     NaN  1.406000e+03  1406.0     0.0     0.0     0.0   \n",
       "13530   neg      26     NaN  2.000000e+01    20.0     0.0     0.0     0.0   \n",
       "...     ...     ...     ...           ...     ...     ...     ...     ...   \n",
       "16850   neg  180262     NaN  0.000000e+00     NaN     0.0     0.0     0.0   \n",
       "6265    neg   39754     NaN  4.900000e+02   466.0     0.0     0.0     0.0   \n",
       "11284   neg    1798     NaN  4.400000e+01    36.0     0.0     0.0     0.0   \n",
       "860     neg  179692     0.0  2.130706e+09   704.0    18.0    34.0     0.0   \n",
       "15795   neg   30766     NaN  5.260000e+02   506.0     0.0     0.0     0.0   \n",
       "\n",
       "       ag_001  ag_002  ...     ee_002    ee_003     ee_004     ee_005  \\\n",
       "23601     0.0  3454.0  ...      196.0      34.0       46.0       24.0   \n",
       "4254      0.0     0.0  ...       36.0      26.0       36.0       46.0   \n",
       "17893     0.0     0.0  ...   331610.0  177770.0   348412.0   315844.0   \n",
       "16219     0.0     0.0  ...    58134.0    5134.0     1764.0       92.0   \n",
       "13530     0.0     0.0  ...      508.0      76.0       72.0        0.0   \n",
       "...       ...     ...  ...        ...       ...        ...        ...   \n",
       "16850     0.0     0.0  ...  1519772.0  988792.0  3290222.0  1440160.0   \n",
       "6265      0.0     0.0  ...   181658.0   96452.0   270364.0   344880.0   \n",
       "11284     0.0     0.0  ...     9082.0    6750.0    16788.0    12258.0   \n",
       "860       0.0     0.0  ...   486262.0  254052.0   394340.0   308248.0   \n",
       "15795     0.0     0.0  ...   181734.0   88012.0   194604.0   396336.0   \n",
       "\n",
       "         ee_006     ee_007    ee_008   ee_009  ef_000  eg_000  \n",
       "23601      10.0        0.0       0.0      0.0     0.0     0.0  \n",
       "4254      100.0       26.0       0.0      0.0     0.0     0.0  \n",
       "17893  237834.0   148534.0  258180.0  15748.0     0.0     0.0  \n",
       "16219      14.0        0.0       0.0      0.0     0.0     0.0  \n",
       "13530       0.0        0.0       0.0      0.0     0.0     0.0  \n",
       "...         ...        ...       ...      ...     ...     ...  \n",
       "16850  588876.0   259714.0  385322.0  31364.0     0.0     0.0  \n",
       "6265   382150.0   238500.0  192166.0   1652.0     0.0     0.0  \n",
       "11284   10300.0     8948.0   14866.0    140.0     0.0     0.0  \n",
       "860    926104.0  1086352.0   18538.0      0.0     0.0     0.0  \n",
       "15795  181866.0   113420.0  166686.0  17838.0     0.0     0.0  \n",
       "\n",
       "[28950 rows x 171 columns]"
      ]
     },
     "execution_count": 14,
     "metadata": {},
     "output_type": "execute_result"
    }
   ],
   "source": [
    "train_set"
   ]
  },
  {
   "cell_type": "code",
   "execution_count": 15,
   "metadata": {},
   "outputs": [
    {
     "ename": "ValueError",
     "evalue": "A given column is not a column of the dataframe",
     "output_type": "error",
     "traceback": [
      "\u001b[1;31m---------------------------------------------------------------------------\u001b[0m",
      "\u001b[1;31mKeyError\u001b[0m                                  Traceback (most recent call last)",
      "File \u001b[1;32mc:\\Users\\Admin\\anaconda3\\envs\\sensor\\lib\\site-packages\\pandas\\core\\indexes\\base.py:3803\u001b[0m, in \u001b[0;36mIndex.get_loc\u001b[1;34m(self, key, method, tolerance)\u001b[0m\n\u001b[0;32m   3802\u001b[0m \u001b[39mtry\u001b[39;00m:\n\u001b[1;32m-> 3803\u001b[0m     \u001b[39mreturn\u001b[39;00m \u001b[39mself\u001b[39;49m\u001b[39m.\u001b[39;49m_engine\u001b[39m.\u001b[39;49mget_loc(casted_key)\n\u001b[0;32m   3804\u001b[0m \u001b[39mexcept\u001b[39;00m \u001b[39mKeyError\u001b[39;00m \u001b[39mas\u001b[39;00m err:\n",
      "File \u001b[1;32mc:\\Users\\Admin\\anaconda3\\envs\\sensor\\lib\\site-packages\\pandas\\_libs\\index.pyx:138\u001b[0m, in \u001b[0;36mpandas._libs.index.IndexEngine.get_loc\u001b[1;34m()\u001b[0m\n",
      "File \u001b[1;32mc:\\Users\\Admin\\anaconda3\\envs\\sensor\\lib\\site-packages\\pandas\\_libs\\index.pyx:165\u001b[0m, in \u001b[0;36mpandas._libs.index.IndexEngine.get_loc\u001b[1;34m()\u001b[0m\n",
      "File \u001b[1;32mpandas\\_libs\\hashtable_class_helper.pxi:5745\u001b[0m, in \u001b[0;36mpandas._libs.hashtable.PyObjectHashTable.get_item\u001b[1;34m()\u001b[0m\n",
      "File \u001b[1;32mpandas\\_libs\\hashtable_class_helper.pxi:5753\u001b[0m, in \u001b[0;36mpandas._libs.hashtable.PyObjectHashTable.get_item\u001b[1;34m()\u001b[0m\n",
      "\u001b[1;31mKeyError\u001b[0m: 'class'",
      "\nThe above exception was the direct cause of the following exception:\n",
      "\u001b[1;31mKeyError\u001b[0m                                  Traceback (most recent call last)",
      "File \u001b[1;32mc:\\Users\\Admin\\anaconda3\\envs\\sensor\\lib\\site-packages\\sklearn\\utils\\__init__.py:416\u001b[0m, in \u001b[0;36m_get_column_indices\u001b[1;34m(X, key)\u001b[0m\n\u001b[0;32m    415\u001b[0m \u001b[39mfor\u001b[39;00m col \u001b[39min\u001b[39;00m columns:\n\u001b[1;32m--> 416\u001b[0m     col_idx \u001b[39m=\u001b[39m all_columns\u001b[39m.\u001b[39;49mget_loc(col)\n\u001b[0;32m    417\u001b[0m     \u001b[39mif\u001b[39;00m \u001b[39mnot\u001b[39;00m \u001b[39misinstance\u001b[39m(col_idx, numbers\u001b[39m.\u001b[39mIntegral):\n",
      "File \u001b[1;32mc:\\Users\\Admin\\anaconda3\\envs\\sensor\\lib\\site-packages\\pandas\\core\\indexes\\base.py:3805\u001b[0m, in \u001b[0;36mIndex.get_loc\u001b[1;34m(self, key, method, tolerance)\u001b[0m\n\u001b[0;32m   3804\u001b[0m \u001b[39mexcept\u001b[39;00m \u001b[39mKeyError\u001b[39;00m \u001b[39mas\u001b[39;00m err:\n\u001b[1;32m-> 3805\u001b[0m     \u001b[39mraise\u001b[39;00m \u001b[39mKeyError\u001b[39;00m(key) \u001b[39mfrom\u001b[39;00m \u001b[39merr\u001b[39;00m\n\u001b[0;32m   3806\u001b[0m \u001b[39mexcept\u001b[39;00m \u001b[39mTypeError\u001b[39;00m:\n\u001b[0;32m   3807\u001b[0m     \u001b[39m# If we have a listlike key, _check_indexing_error will raise\u001b[39;00m\n\u001b[0;32m   3808\u001b[0m     \u001b[39m#  InvalidIndexError. Otherwise we fall through and re-raise\u001b[39;00m\n\u001b[0;32m   3809\u001b[0m     \u001b[39m#  the TypeError.\u001b[39;00m\n",
      "\u001b[1;31mKeyError\u001b[0m: 'class'",
      "\nThe above exception was the direct cause of the following exception:\n",
      "\u001b[1;31mValueError\u001b[0m                                Traceback (most recent call last)",
      "Cell \u001b[1;32mIn [15], line 1\u001b[0m\n\u001b[1;32m----> 1\u001b[0m full_pipeline\u001b[39m.\u001b[39;49mfit(X_train)\n",
      "File \u001b[1;32mc:\\Users\\Admin\\anaconda3\\envs\\sensor\\lib\\site-packages\\sklearn\\compose\\_column_transformer.py:657\u001b[0m, in \u001b[0;36mColumnTransformer.fit\u001b[1;34m(self, X, y)\u001b[0m\n\u001b[0;32m    639\u001b[0m \u001b[39m\"\"\"Fit all transformers using X.\u001b[39;00m\n\u001b[0;32m    640\u001b[0m \n\u001b[0;32m    641\u001b[0m \u001b[39mParameters\u001b[39;00m\n\u001b[1;32m   (...)\u001b[0m\n\u001b[0;32m    653\u001b[0m \u001b[39m    This estimator.\u001b[39;00m\n\u001b[0;32m    654\u001b[0m \u001b[39m\"\"\"\u001b[39;00m\n\u001b[0;32m    655\u001b[0m \u001b[39m# we use fit_transform to make sure to set sparse_output_ (for which we\u001b[39;00m\n\u001b[0;32m    656\u001b[0m \u001b[39m# need the transformed data) to have consistent output type in predict\u001b[39;00m\n\u001b[1;32m--> 657\u001b[0m \u001b[39mself\u001b[39;49m\u001b[39m.\u001b[39;49mfit_transform(X, y\u001b[39m=\u001b[39;49my)\n\u001b[0;32m    658\u001b[0m \u001b[39mreturn\u001b[39;00m \u001b[39mself\u001b[39m\n",
      "File \u001b[1;32mc:\\Users\\Admin\\anaconda3\\envs\\sensor\\lib\\site-packages\\sklearn\\compose\\_column_transformer.py:687\u001b[0m, in \u001b[0;36mColumnTransformer.fit_transform\u001b[1;34m(self, X, y)\u001b[0m\n\u001b[0;32m    685\u001b[0m \u001b[39mself\u001b[39m\u001b[39m.\u001b[39m_check_n_features(X, reset\u001b[39m=\u001b[39m\u001b[39mTrue\u001b[39;00m)\n\u001b[0;32m    686\u001b[0m \u001b[39mself\u001b[39m\u001b[39m.\u001b[39m_validate_transformers()\n\u001b[1;32m--> 687\u001b[0m \u001b[39mself\u001b[39;49m\u001b[39m.\u001b[39;49m_validate_column_callables(X)\n\u001b[0;32m    688\u001b[0m \u001b[39mself\u001b[39m\u001b[39m.\u001b[39m_validate_remainder(X)\n\u001b[0;32m    690\u001b[0m result \u001b[39m=\u001b[39m \u001b[39mself\u001b[39m\u001b[39m.\u001b[39m_fit_transform(X, y, _fit_transform_one)\n",
      "File \u001b[1;32mc:\\Users\\Admin\\anaconda3\\envs\\sensor\\lib\\site-packages\\sklearn\\compose\\_column_transformer.py:374\u001b[0m, in \u001b[0;36mColumnTransformer._validate_column_callables\u001b[1;34m(self, X)\u001b[0m\n\u001b[0;32m    372\u001b[0m         columns \u001b[39m=\u001b[39m columns(X)\n\u001b[0;32m    373\u001b[0m     all_columns\u001b[39m.\u001b[39mappend(columns)\n\u001b[1;32m--> 374\u001b[0m     transformer_to_input_indices[name] \u001b[39m=\u001b[39m _get_column_indices(X, columns)\n\u001b[0;32m    376\u001b[0m \u001b[39mself\u001b[39m\u001b[39m.\u001b[39m_columns \u001b[39m=\u001b[39m all_columns\n\u001b[0;32m    377\u001b[0m \u001b[39mself\u001b[39m\u001b[39m.\u001b[39m_transformer_to_input_indices \u001b[39m=\u001b[39m transformer_to_input_indices\n",
      "File \u001b[1;32mc:\\Users\\Admin\\anaconda3\\envs\\sensor\\lib\\site-packages\\sklearn\\utils\\__init__.py:424\u001b[0m, in \u001b[0;36m_get_column_indices\u001b[1;34m(X, key)\u001b[0m\n\u001b[0;32m    421\u001b[0m             column_indices\u001b[39m.\u001b[39mappend(col_idx)\n\u001b[0;32m    423\u001b[0m     \u001b[39mexcept\u001b[39;00m \u001b[39mKeyError\u001b[39;00m \u001b[39mas\u001b[39;00m e:\n\u001b[1;32m--> 424\u001b[0m         \u001b[39mraise\u001b[39;00m \u001b[39mValueError\u001b[39;00m(\u001b[39m\"\u001b[39m\u001b[39mA given column is not a column of the dataframe\u001b[39m\u001b[39m\"\u001b[39m) \u001b[39mfrom\u001b[39;00m \u001b[39me\u001b[39;00m\n\u001b[0;32m    426\u001b[0m     \u001b[39mreturn\u001b[39;00m column_indices\n\u001b[0;32m    427\u001b[0m \u001b[39melse\u001b[39;00m:\n",
      "\u001b[1;31mValueError\u001b[0m: A given column is not a column of the dataframe"
     ]
    }
   ],
   "source": [
    "full_pipeline.fit(X_train)"
   ]
  },
  {
   "cell_type": "code",
   "execution_count": 16,
   "metadata": {},
   "outputs": [
    {
     "data": {
      "text/html": [
       "<style>#sk-container-id-2 {color: black;background-color: white;}#sk-container-id-2 pre{padding: 0;}#sk-container-id-2 div.sk-toggleable {background-color: white;}#sk-container-id-2 label.sk-toggleable__label {cursor: pointer;display: block;width: 100%;margin-bottom: 0;padding: 0.3em;box-sizing: border-box;text-align: center;}#sk-container-id-2 label.sk-toggleable__label-arrow:before {content: \"▸\";float: left;margin-right: 0.25em;color: #696969;}#sk-container-id-2 label.sk-toggleable__label-arrow:hover:before {color: black;}#sk-container-id-2 div.sk-estimator:hover label.sk-toggleable__label-arrow:before {color: black;}#sk-container-id-2 div.sk-toggleable__content {max-height: 0;max-width: 0;overflow: hidden;text-align: left;background-color: #f0f8ff;}#sk-container-id-2 div.sk-toggleable__content pre {margin: 0.2em;color: black;border-radius: 0.25em;background-color: #f0f8ff;}#sk-container-id-2 input.sk-toggleable__control:checked~div.sk-toggleable__content {max-height: 200px;max-width: 100%;overflow: auto;}#sk-container-id-2 input.sk-toggleable__control:checked~label.sk-toggleable__label-arrow:before {content: \"▾\";}#sk-container-id-2 div.sk-estimator input.sk-toggleable__control:checked~label.sk-toggleable__label {background-color: #d4ebff;}#sk-container-id-2 div.sk-label input.sk-toggleable__control:checked~label.sk-toggleable__label {background-color: #d4ebff;}#sk-container-id-2 input.sk-hidden--visually {border: 0;clip: rect(1px 1px 1px 1px);clip: rect(1px, 1px, 1px, 1px);height: 1px;margin: -1px;overflow: hidden;padding: 0;position: absolute;width: 1px;}#sk-container-id-2 div.sk-estimator {font-family: monospace;background-color: #f0f8ff;border: 1px dotted black;border-radius: 0.25em;box-sizing: border-box;margin-bottom: 0.5em;}#sk-container-id-2 div.sk-estimator:hover {background-color: #d4ebff;}#sk-container-id-2 div.sk-parallel-item::after {content: \"\";width: 100%;border-bottom: 1px solid gray;flex-grow: 1;}#sk-container-id-2 div.sk-label:hover label.sk-toggleable__label {background-color: #d4ebff;}#sk-container-id-2 div.sk-serial::before {content: \"\";position: absolute;border-left: 1px solid gray;box-sizing: border-box;top: 0;bottom: 0;left: 50%;z-index: 0;}#sk-container-id-2 div.sk-serial {display: flex;flex-direction: column;align-items: center;background-color: white;padding-right: 0.2em;padding-left: 0.2em;position: relative;}#sk-container-id-2 div.sk-item {position: relative;z-index: 1;}#sk-container-id-2 div.sk-parallel {display: flex;align-items: stretch;justify-content: center;background-color: white;position: relative;}#sk-container-id-2 div.sk-item::before, #sk-container-id-2 div.sk-parallel-item::before {content: \"\";position: absolute;border-left: 1px solid gray;box-sizing: border-box;top: 0;bottom: 0;left: 50%;z-index: -1;}#sk-container-id-2 div.sk-parallel-item {display: flex;flex-direction: column;z-index: 1;position: relative;background-color: white;}#sk-container-id-2 div.sk-parallel-item:first-child::after {align-self: flex-end;width: 50%;}#sk-container-id-2 div.sk-parallel-item:last-child::after {align-self: flex-start;width: 50%;}#sk-container-id-2 div.sk-parallel-item:only-child::after {width: 0;}#sk-container-id-2 div.sk-dashed-wrapped {border: 1px dashed gray;margin: 0 0.4em 0.5em 0.4em;box-sizing: border-box;padding-bottom: 0.4em;background-color: white;}#sk-container-id-2 div.sk-label label {font-family: monospace;font-weight: bold;display: inline-block;line-height: 1.2em;}#sk-container-id-2 div.sk-label-container {text-align: center;}#sk-container-id-2 div.sk-container {/* jupyter's `normalize.less` sets `[hidden] { display: none; }` but bootstrap.min.css set `[hidden] { display: none !important; }` so we also need the `!important` here to be able to override the default hidden behavior on the sphinx rendered scikit-learn.org. See: https://github.com/scikit-learn/scikit-learn/issues/21755 */display: inline-block !important;position: relative;}#sk-container-id-2 div.sk-text-repr-fallback {display: none;}</style><div id=\"sk-container-id-2\" class=\"sk-top-container\"><div class=\"sk-text-repr-fallback\"><pre>Pipeline(steps=[(&#x27;Imputer&#x27;, SimpleImputer(fill_value=0, strategy=&#x27;constant&#x27;)),\n",
       "                (&#x27;Robust Scaler&#x27;, RobustScaler())])</pre><b>In a Jupyter environment, please rerun this cell to show the HTML representation or trust the notebook. <br />On GitHub, the HTML representation is unable to render, please try loading this page with nbviewer.org.</b></div><div class=\"sk-container\" hidden><div class=\"sk-item sk-dashed-wrapped\"><div class=\"sk-label-container\"><div class=\"sk-label sk-toggleable\"><input class=\"sk-toggleable__control sk-hidden--visually\" id=\"sk-estimator-id-7\" type=\"checkbox\" ><label for=\"sk-estimator-id-7\" class=\"sk-toggleable__label sk-toggleable__label-arrow\">Pipeline</label><div class=\"sk-toggleable__content\"><pre>Pipeline(steps=[(&#x27;Imputer&#x27;, SimpleImputer(fill_value=0, strategy=&#x27;constant&#x27;)),\n",
       "                (&#x27;Robust Scaler&#x27;, RobustScaler())])</pre></div></div></div><div class=\"sk-serial\"><div class=\"sk-item\"><div class=\"sk-estimator sk-toggleable\"><input class=\"sk-toggleable__control sk-hidden--visually\" id=\"sk-estimator-id-8\" type=\"checkbox\" ><label for=\"sk-estimator-id-8\" class=\"sk-toggleable__label sk-toggleable__label-arrow\">SimpleImputer</label><div class=\"sk-toggleable__content\"><pre>SimpleImputer(fill_value=0, strategy=&#x27;constant&#x27;)</pre></div></div></div><div class=\"sk-item\"><div class=\"sk-estimator sk-toggleable\"><input class=\"sk-toggleable__control sk-hidden--visually\" id=\"sk-estimator-id-9\" type=\"checkbox\" ><label for=\"sk-estimator-id-9\" class=\"sk-toggleable__label sk-toggleable__label-arrow\">RobustScaler</label><div class=\"sk-toggleable__content\"><pre>RobustScaler()</pre></div></div></div></div></div></div></div>"
      ],
      "text/plain": [
       "Pipeline(steps=[('Imputer', SimpleImputer(fill_value=0, strategy='constant')),\n",
       "                ('Robust Scaler', RobustScaler())])"
      ]
     },
     "execution_count": 16,
     "metadata": {},
     "output_type": "execute_result"
    }
   ],
   "source": [
    "num_pipeline.fit(train_set[num_atts])"
   ]
  },
  {
   "cell_type": "code",
   "execution_count": 17,
   "metadata": {},
   "outputs": [
    {
     "data": {
      "text/plain": [
       "array([[-6.30822265e-01,  2.00000000e+00, -8.73786408e-02, ...,\n",
       "         0.00000000e+00,  0.00000000e+00,  0.00000000e+00],\n",
       "       [-6.31065599e-01,  0.00000000e+00, -1.40776699e-01, ...,\n",
       "         0.00000000e+00,  0.00000000e+00,  0.00000000e+00],\n",
       "       [ 2.09733347e-01,  0.00000000e+00,  5.84951456e-01, ...,\n",
       "         8.04290092e+00,  0.00000000e+00,  0.00000000e+00],\n",
       "       ...,\n",
       "       [-5.94808882e-01,  0.00000000e+00, -8.73786408e-02, ...,\n",
       "         7.15015322e-02,  0.00000000e+00,  0.00000000e+00],\n",
       "       [ 3.01249113e+00,  0.00000000e+00,  2.58580864e+06, ...,\n",
       "         0.00000000e+00,  0.00000000e+00,  0.00000000e+00],\n",
       "       [-7.40139917e-03,  0.00000000e+00,  4.97572816e-01, ...,\n",
       "         9.11031665e+00,  0.00000000e+00,  0.00000000e+00]])"
      ]
     },
     "execution_count": 17,
     "metadata": {},
     "output_type": "execute_result"
    }
   ],
   "source": [
    "num_pipeline.transform(X_train[num_atts])"
   ]
  },
  {
   "cell_type": "code",
   "execution_count": 18,
   "metadata": {},
   "outputs": [
    {
     "name": "stderr",
     "output_type": "stream",
     "text": [
      "c:\\Users\\Admin\\anaconda3\\envs\\sensor\\lib\\site-packages\\sklearn\\preprocessing\\_label.py:115: DataConversionWarning: A column-vector y was passed when a 1d array was expected. Please change the shape of y to (n_samples, ), for example using ravel().\n",
      "  y = column_or_1d(y, warn=True)\n"
     ]
    },
    {
     "data": {
      "text/plain": [
       "array([0, 0, 0, ..., 0, 0, 0])"
      ]
     },
     "execution_count": 18,
     "metadata": {},
     "output_type": "execute_result"
    }
   ],
   "source": [
    "label_encoder.fit_transform(y_train[cat_atts])"
   ]
  },
  {
   "cell_type": "code",
   "execution_count": 19,
   "metadata": {},
   "outputs": [
    {
     "ename": "ValueError",
     "evalue": "A given column is not a column of the dataframe",
     "output_type": "error",
     "traceback": [
      "\u001b[1;31m---------------------------------------------------------------------------\u001b[0m",
      "\u001b[1;31mKeyError\u001b[0m                                  Traceback (most recent call last)",
      "File \u001b[1;32mc:\\Users\\Admin\\anaconda3\\envs\\sensor\\lib\\site-packages\\pandas\\core\\indexes\\base.py:3803\u001b[0m, in \u001b[0;36mIndex.get_loc\u001b[1;34m(self, key, method, tolerance)\u001b[0m\n\u001b[0;32m   3802\u001b[0m \u001b[39mtry\u001b[39;00m:\n\u001b[1;32m-> 3803\u001b[0m     \u001b[39mreturn\u001b[39;00m \u001b[39mself\u001b[39;49m\u001b[39m.\u001b[39;49m_engine\u001b[39m.\u001b[39;49mget_loc(casted_key)\n\u001b[0;32m   3804\u001b[0m \u001b[39mexcept\u001b[39;00m \u001b[39mKeyError\u001b[39;00m \u001b[39mas\u001b[39;00m err:\n",
      "File \u001b[1;32mc:\\Users\\Admin\\anaconda3\\envs\\sensor\\lib\\site-packages\\pandas\\_libs\\index.pyx:138\u001b[0m, in \u001b[0;36mpandas._libs.index.IndexEngine.get_loc\u001b[1;34m()\u001b[0m\n",
      "File \u001b[1;32mc:\\Users\\Admin\\anaconda3\\envs\\sensor\\lib\\site-packages\\pandas\\_libs\\index.pyx:165\u001b[0m, in \u001b[0;36mpandas._libs.index.IndexEngine.get_loc\u001b[1;34m()\u001b[0m\n",
      "File \u001b[1;32mpandas\\_libs\\hashtable_class_helper.pxi:5745\u001b[0m, in \u001b[0;36mpandas._libs.hashtable.PyObjectHashTable.get_item\u001b[1;34m()\u001b[0m\n",
      "File \u001b[1;32mpandas\\_libs\\hashtable_class_helper.pxi:5753\u001b[0m, in \u001b[0;36mpandas._libs.hashtable.PyObjectHashTable.get_item\u001b[1;34m()\u001b[0m\n",
      "\u001b[1;31mKeyError\u001b[0m: 'class'",
      "\nThe above exception was the direct cause of the following exception:\n",
      "\u001b[1;31mKeyError\u001b[0m                                  Traceback (most recent call last)",
      "File \u001b[1;32mc:\\Users\\Admin\\anaconda3\\envs\\sensor\\lib\\site-packages\\sklearn\\utils\\__init__.py:416\u001b[0m, in \u001b[0;36m_get_column_indices\u001b[1;34m(X, key)\u001b[0m\n\u001b[0;32m    415\u001b[0m \u001b[39mfor\u001b[39;00m col \u001b[39min\u001b[39;00m columns:\n\u001b[1;32m--> 416\u001b[0m     col_idx \u001b[39m=\u001b[39m all_columns\u001b[39m.\u001b[39;49mget_loc(col)\n\u001b[0;32m    417\u001b[0m     \u001b[39mif\u001b[39;00m \u001b[39mnot\u001b[39;00m \u001b[39misinstance\u001b[39m(col_idx, numbers\u001b[39m.\u001b[39mIntegral):\n",
      "File \u001b[1;32mc:\\Users\\Admin\\anaconda3\\envs\\sensor\\lib\\site-packages\\pandas\\core\\indexes\\base.py:3805\u001b[0m, in \u001b[0;36mIndex.get_loc\u001b[1;34m(self, key, method, tolerance)\u001b[0m\n\u001b[0;32m   3804\u001b[0m \u001b[39mexcept\u001b[39;00m \u001b[39mKeyError\u001b[39;00m \u001b[39mas\u001b[39;00m err:\n\u001b[1;32m-> 3805\u001b[0m     \u001b[39mraise\u001b[39;00m \u001b[39mKeyError\u001b[39;00m(key) \u001b[39mfrom\u001b[39;00m \u001b[39merr\u001b[39;00m\n\u001b[0;32m   3806\u001b[0m \u001b[39mexcept\u001b[39;00m \u001b[39mTypeError\u001b[39;00m:\n\u001b[0;32m   3807\u001b[0m     \u001b[39m# If we have a listlike key, _check_indexing_error will raise\u001b[39;00m\n\u001b[0;32m   3808\u001b[0m     \u001b[39m#  InvalidIndexError. Otherwise we fall through and re-raise\u001b[39;00m\n\u001b[0;32m   3809\u001b[0m     \u001b[39m#  the TypeError.\u001b[39;00m\n",
      "\u001b[1;31mKeyError\u001b[0m: 'class'",
      "\nThe above exception was the direct cause of the following exception:\n",
      "\u001b[1;31mValueError\u001b[0m                                Traceback (most recent call last)",
      "Cell \u001b[1;32mIn [19], line 1\u001b[0m\n\u001b[1;32m----> 1\u001b[0m full_pipeline\u001b[39m.\u001b[39;49mfit_transform(train_set[num_atts], train_set[cat_atts])\n",
      "File \u001b[1;32mc:\\Users\\Admin\\anaconda3\\envs\\sensor\\lib\\site-packages\\sklearn\\compose\\_column_transformer.py:687\u001b[0m, in \u001b[0;36mColumnTransformer.fit_transform\u001b[1;34m(self, X, y)\u001b[0m\n\u001b[0;32m    685\u001b[0m \u001b[39mself\u001b[39m\u001b[39m.\u001b[39m_check_n_features(X, reset\u001b[39m=\u001b[39m\u001b[39mTrue\u001b[39;00m)\n\u001b[0;32m    686\u001b[0m \u001b[39mself\u001b[39m\u001b[39m.\u001b[39m_validate_transformers()\n\u001b[1;32m--> 687\u001b[0m \u001b[39mself\u001b[39;49m\u001b[39m.\u001b[39;49m_validate_column_callables(X)\n\u001b[0;32m    688\u001b[0m \u001b[39mself\u001b[39m\u001b[39m.\u001b[39m_validate_remainder(X)\n\u001b[0;32m    690\u001b[0m result \u001b[39m=\u001b[39m \u001b[39mself\u001b[39m\u001b[39m.\u001b[39m_fit_transform(X, y, _fit_transform_one)\n",
      "File \u001b[1;32mc:\\Users\\Admin\\anaconda3\\envs\\sensor\\lib\\site-packages\\sklearn\\compose\\_column_transformer.py:374\u001b[0m, in \u001b[0;36mColumnTransformer._validate_column_callables\u001b[1;34m(self, X)\u001b[0m\n\u001b[0;32m    372\u001b[0m         columns \u001b[39m=\u001b[39m columns(X)\n\u001b[0;32m    373\u001b[0m     all_columns\u001b[39m.\u001b[39mappend(columns)\n\u001b[1;32m--> 374\u001b[0m     transformer_to_input_indices[name] \u001b[39m=\u001b[39m _get_column_indices(X, columns)\n\u001b[0;32m    376\u001b[0m \u001b[39mself\u001b[39m\u001b[39m.\u001b[39m_columns \u001b[39m=\u001b[39m all_columns\n\u001b[0;32m    377\u001b[0m \u001b[39mself\u001b[39m\u001b[39m.\u001b[39m_transformer_to_input_indices \u001b[39m=\u001b[39m transformer_to_input_indices\n",
      "File \u001b[1;32mc:\\Users\\Admin\\anaconda3\\envs\\sensor\\lib\\site-packages\\sklearn\\utils\\__init__.py:424\u001b[0m, in \u001b[0;36m_get_column_indices\u001b[1;34m(X, key)\u001b[0m\n\u001b[0;32m    421\u001b[0m             column_indices\u001b[39m.\u001b[39mappend(col_idx)\n\u001b[0;32m    423\u001b[0m     \u001b[39mexcept\u001b[39;00m \u001b[39mKeyError\u001b[39;00m \u001b[39mas\u001b[39;00m e:\n\u001b[1;32m--> 424\u001b[0m         \u001b[39mraise\u001b[39;00m \u001b[39mValueError\u001b[39;00m(\u001b[39m\"\u001b[39m\u001b[39mA given column is not a column of the dataframe\u001b[39m\u001b[39m\"\u001b[39m) \u001b[39mfrom\u001b[39;00m \u001b[39me\u001b[39;00m\n\u001b[0;32m    426\u001b[0m     \u001b[39mreturn\u001b[39;00m column_indices\n\u001b[0;32m    427\u001b[0m \u001b[39melse\u001b[39;00m:\n",
      "\u001b[1;31mValueError\u001b[0m: A given column is not a column of the dataframe"
     ]
    }
   ],
   "source": [
    "full_pipeline.fit_transform(train_set[num_atts], train_set[cat_atts])"
   ]
  },
  {
   "cell_type": "code",
   "execution_count": 20,
   "metadata": {},
   "outputs": [
    {
     "data": {
      "text/html": [
       "<style>#sk-container-id-3 {color: black;background-color: white;}#sk-container-id-3 pre{padding: 0;}#sk-container-id-3 div.sk-toggleable {background-color: white;}#sk-container-id-3 label.sk-toggleable__label {cursor: pointer;display: block;width: 100%;margin-bottom: 0;padding: 0.3em;box-sizing: border-box;text-align: center;}#sk-container-id-3 label.sk-toggleable__label-arrow:before {content: \"▸\";float: left;margin-right: 0.25em;color: #696969;}#sk-container-id-3 label.sk-toggleable__label-arrow:hover:before {color: black;}#sk-container-id-3 div.sk-estimator:hover label.sk-toggleable__label-arrow:before {color: black;}#sk-container-id-3 div.sk-toggleable__content {max-height: 0;max-width: 0;overflow: hidden;text-align: left;background-color: #f0f8ff;}#sk-container-id-3 div.sk-toggleable__content pre {margin: 0.2em;color: black;border-radius: 0.25em;background-color: #f0f8ff;}#sk-container-id-3 input.sk-toggleable__control:checked~div.sk-toggleable__content {max-height: 200px;max-width: 100%;overflow: auto;}#sk-container-id-3 input.sk-toggleable__control:checked~label.sk-toggleable__label-arrow:before {content: \"▾\";}#sk-container-id-3 div.sk-estimator input.sk-toggleable__control:checked~label.sk-toggleable__label {background-color: #d4ebff;}#sk-container-id-3 div.sk-label input.sk-toggleable__control:checked~label.sk-toggleable__label {background-color: #d4ebff;}#sk-container-id-3 input.sk-hidden--visually {border: 0;clip: rect(1px 1px 1px 1px);clip: rect(1px, 1px, 1px, 1px);height: 1px;margin: -1px;overflow: hidden;padding: 0;position: absolute;width: 1px;}#sk-container-id-3 div.sk-estimator {font-family: monospace;background-color: #f0f8ff;border: 1px dotted black;border-radius: 0.25em;box-sizing: border-box;margin-bottom: 0.5em;}#sk-container-id-3 div.sk-estimator:hover {background-color: #d4ebff;}#sk-container-id-3 div.sk-parallel-item::after {content: \"\";width: 100%;border-bottom: 1px solid gray;flex-grow: 1;}#sk-container-id-3 div.sk-label:hover label.sk-toggleable__label {background-color: #d4ebff;}#sk-container-id-3 div.sk-serial::before {content: \"\";position: absolute;border-left: 1px solid gray;box-sizing: border-box;top: 0;bottom: 0;left: 50%;z-index: 0;}#sk-container-id-3 div.sk-serial {display: flex;flex-direction: column;align-items: center;background-color: white;padding-right: 0.2em;padding-left: 0.2em;position: relative;}#sk-container-id-3 div.sk-item {position: relative;z-index: 1;}#sk-container-id-3 div.sk-parallel {display: flex;align-items: stretch;justify-content: center;background-color: white;position: relative;}#sk-container-id-3 div.sk-item::before, #sk-container-id-3 div.sk-parallel-item::before {content: \"\";position: absolute;border-left: 1px solid gray;box-sizing: border-box;top: 0;bottom: 0;left: 50%;z-index: -1;}#sk-container-id-3 div.sk-parallel-item {display: flex;flex-direction: column;z-index: 1;position: relative;background-color: white;}#sk-container-id-3 div.sk-parallel-item:first-child::after {align-self: flex-end;width: 50%;}#sk-container-id-3 div.sk-parallel-item:last-child::after {align-self: flex-start;width: 50%;}#sk-container-id-3 div.sk-parallel-item:only-child::after {width: 0;}#sk-container-id-3 div.sk-dashed-wrapped {border: 1px dashed gray;margin: 0 0.4em 0.5em 0.4em;box-sizing: border-box;padding-bottom: 0.4em;background-color: white;}#sk-container-id-3 div.sk-label label {font-family: monospace;font-weight: bold;display: inline-block;line-height: 1.2em;}#sk-container-id-3 div.sk-label-container {text-align: center;}#sk-container-id-3 div.sk-container {/* jupyter's `normalize.less` sets `[hidden] { display: none; }` but bootstrap.min.css set `[hidden] { display: none !important; }` so we also need the `!important` here to be able to override the default hidden behavior on the sphinx rendered scikit-learn.org. See: https://github.com/scikit-learn/scikit-learn/issues/21755 */display: inline-block !important;position: relative;}#sk-container-id-3 div.sk-text-repr-fallback {display: none;}</style><div id=\"sk-container-id-3\" class=\"sk-top-container\"><div class=\"sk-text-repr-fallback\"><pre>ColumnTransformer(transformers=[(&#x27;Label Encoder&#x27;, LabelEncoder(), [&#x27;class&#x27;]),\n",
       "                                (&#x27;Numerical Pipeline&#x27;,\n",
       "                                 Pipeline(steps=[(&#x27;Imputer&#x27;,\n",
       "                                                  SimpleImputer(fill_value=0,\n",
       "                                                                strategy=&#x27;constant&#x27;)),\n",
       "                                                 (&#x27;Robust Scaler&#x27;,\n",
       "                                                  RobustScaler())]),\n",
       "                                 [&#x27;aa_000&#x27;, &#x27;ab_000&#x27;, &#x27;ac_000&#x27;, &#x27;ad_000&#x27;,\n",
       "                                  &#x27;ae_000&#x27;, &#x27;af_000&#x27;, &#x27;ag_000&#x27;, &#x27;ag_001&#x27;,\n",
       "                                  &#x27;ag_002&#x27;, &#x27;ag_003&#x27;, &#x27;ag_004&#x27;, &#x27;ag_005&#x27;,\n",
       "                                  &#x27;ag_006&#x27;, &#x27;ag_007&#x27;, &#x27;ag_008&#x27;, &#x27;ag_009&#x27;,\n",
       "                                  &#x27;ah_000&#x27;, &#x27;ai_000&#x27;, &#x27;aj_000&#x27;, &#x27;ak_000&#x27;,\n",
       "                                  &#x27;al_000&#x27;, &#x27;am_0&#x27;, &#x27;an_000&#x27;, &#x27;ao_000&#x27;,\n",
       "                                  &#x27;ap_000&#x27;, &#x27;aq_000&#x27;, &#x27;ar_000&#x27;, &#x27;as_000&#x27;,\n",
       "                                  &#x27;at_000&#x27;, &#x27;au_000&#x27;, ...])])</pre><b>In a Jupyter environment, please rerun this cell to show the HTML representation or trust the notebook. <br />On GitHub, the HTML representation is unable to render, please try loading this page with nbviewer.org.</b></div><div class=\"sk-container\" hidden><div class=\"sk-item sk-dashed-wrapped\"><div class=\"sk-label-container\"><div class=\"sk-label sk-toggleable\"><input class=\"sk-toggleable__control sk-hidden--visually\" id=\"sk-estimator-id-10\" type=\"checkbox\" ><label for=\"sk-estimator-id-10\" class=\"sk-toggleable__label sk-toggleable__label-arrow\">ColumnTransformer</label><div class=\"sk-toggleable__content\"><pre>ColumnTransformer(transformers=[(&#x27;Label Encoder&#x27;, LabelEncoder(), [&#x27;class&#x27;]),\n",
       "                                (&#x27;Numerical Pipeline&#x27;,\n",
       "                                 Pipeline(steps=[(&#x27;Imputer&#x27;,\n",
       "                                                  SimpleImputer(fill_value=0,\n",
       "                                                                strategy=&#x27;constant&#x27;)),\n",
       "                                                 (&#x27;Robust Scaler&#x27;,\n",
       "                                                  RobustScaler())]),\n",
       "                                 [&#x27;aa_000&#x27;, &#x27;ab_000&#x27;, &#x27;ac_000&#x27;, &#x27;ad_000&#x27;,\n",
       "                                  &#x27;ae_000&#x27;, &#x27;af_000&#x27;, &#x27;ag_000&#x27;, &#x27;ag_001&#x27;,\n",
       "                                  &#x27;ag_002&#x27;, &#x27;ag_003&#x27;, &#x27;ag_004&#x27;, &#x27;ag_005&#x27;,\n",
       "                                  &#x27;ag_006&#x27;, &#x27;ag_007&#x27;, &#x27;ag_008&#x27;, &#x27;ag_009&#x27;,\n",
       "                                  &#x27;ah_000&#x27;, &#x27;ai_000&#x27;, &#x27;aj_000&#x27;, &#x27;ak_000&#x27;,\n",
       "                                  &#x27;al_000&#x27;, &#x27;am_0&#x27;, &#x27;an_000&#x27;, &#x27;ao_000&#x27;,\n",
       "                                  &#x27;ap_000&#x27;, &#x27;aq_000&#x27;, &#x27;ar_000&#x27;, &#x27;as_000&#x27;,\n",
       "                                  &#x27;at_000&#x27;, &#x27;au_000&#x27;, ...])])</pre></div></div></div><div class=\"sk-parallel\"><div class=\"sk-parallel-item\"><div class=\"sk-item\"><div class=\"sk-label-container\"><div class=\"sk-label sk-toggleable\"><input class=\"sk-toggleable__control sk-hidden--visually\" id=\"sk-estimator-id-11\" type=\"checkbox\" ><label for=\"sk-estimator-id-11\" class=\"sk-toggleable__label sk-toggleable__label-arrow\">Label Encoder</label><div class=\"sk-toggleable__content\"><pre>[&#x27;class&#x27;]</pre></div></div></div><div class=\"sk-serial\"><div class=\"sk-item\"><div class=\"sk-estimator sk-toggleable\"><input class=\"sk-toggleable__control sk-hidden--visually\" id=\"sk-estimator-id-12\" type=\"checkbox\" ><label for=\"sk-estimator-id-12\" class=\"sk-toggleable__label sk-toggleable__label-arrow\">LabelEncoder</label><div class=\"sk-toggleable__content\"><pre>LabelEncoder()</pre></div></div></div></div></div></div><div class=\"sk-parallel-item\"><div class=\"sk-item\"><div class=\"sk-label-container\"><div class=\"sk-label sk-toggleable\"><input class=\"sk-toggleable__control sk-hidden--visually\" id=\"sk-estimator-id-13\" type=\"checkbox\" ><label for=\"sk-estimator-id-13\" class=\"sk-toggleable__label sk-toggleable__label-arrow\">Numerical Pipeline</label><div class=\"sk-toggleable__content\"><pre>[&#x27;aa_000&#x27;, &#x27;ab_000&#x27;, &#x27;ac_000&#x27;, &#x27;ad_000&#x27;, &#x27;ae_000&#x27;, &#x27;af_000&#x27;, &#x27;ag_000&#x27;, &#x27;ag_001&#x27;, &#x27;ag_002&#x27;, &#x27;ag_003&#x27;, &#x27;ag_004&#x27;, &#x27;ag_005&#x27;, &#x27;ag_006&#x27;, &#x27;ag_007&#x27;, &#x27;ag_008&#x27;, &#x27;ag_009&#x27;, &#x27;ah_000&#x27;, &#x27;ai_000&#x27;, &#x27;aj_000&#x27;, &#x27;ak_000&#x27;, &#x27;al_000&#x27;, &#x27;am_0&#x27;, &#x27;an_000&#x27;, &#x27;ao_000&#x27;, &#x27;ap_000&#x27;, &#x27;aq_000&#x27;, &#x27;ar_000&#x27;, &#x27;as_000&#x27;, &#x27;at_000&#x27;, &#x27;au_000&#x27;, &#x27;av_000&#x27;, &#x27;ax_000&#x27;, &#x27;ay_000&#x27;, &#x27;ay_001&#x27;, &#x27;ay_002&#x27;, &#x27;ay_003&#x27;, &#x27;ay_004&#x27;, &#x27;ay_005&#x27;, &#x27;ay_006&#x27;, &#x27;ay_007&#x27;, &#x27;ay_008&#x27;, &#x27;ay_009&#x27;, &#x27;az_000&#x27;, &#x27;az_001&#x27;, &#x27;az_002&#x27;, &#x27;az_003&#x27;, &#x27;az_004&#x27;, &#x27;az_005&#x27;, &#x27;az_006&#x27;, &#x27;az_007&#x27;, &#x27;az_008&#x27;, &#x27;az_009&#x27;, &#x27;ba_000&#x27;, &#x27;ba_001&#x27;, &#x27;ba_002&#x27;, &#x27;ba_003&#x27;, &#x27;ba_004&#x27;, &#x27;ba_005&#x27;, &#x27;ba_006&#x27;, &#x27;ba_007&#x27;, &#x27;ba_008&#x27;, &#x27;ba_009&#x27;, &#x27;bb_000&#x27;, &#x27;bc_000&#x27;, &#x27;bd_000&#x27;, &#x27;be_000&#x27;, &#x27;bf_000&#x27;, &#x27;bg_000&#x27;, &#x27;bh_000&#x27;, &#x27;bi_000&#x27;, &#x27;bj_000&#x27;, &#x27;bk_000&#x27;, &#x27;bl_000&#x27;, &#x27;bm_000&#x27;, &#x27;bn_000&#x27;, &#x27;bo_000&#x27;, &#x27;bp_000&#x27;, &#x27;bq_000&#x27;, &#x27;br_000&#x27;, &#x27;bs_000&#x27;, &#x27;bt_000&#x27;, &#x27;bu_000&#x27;, &#x27;bv_000&#x27;, &#x27;bx_000&#x27;, &#x27;by_000&#x27;, &#x27;bz_000&#x27;, &#x27;ca_000&#x27;, &#x27;cb_000&#x27;, &#x27;cc_000&#x27;, &#x27;cd_000&#x27;, &#x27;ce_000&#x27;, &#x27;cf_000&#x27;, &#x27;cg_000&#x27;, &#x27;ch_000&#x27;, &#x27;ci_000&#x27;, &#x27;cj_000&#x27;, &#x27;ck_000&#x27;, &#x27;cl_000&#x27;, &#x27;cm_000&#x27;, &#x27;cn_000&#x27;, &#x27;cn_001&#x27;, &#x27;cn_002&#x27;, &#x27;cn_003&#x27;, &#x27;cn_004&#x27;, &#x27;cn_005&#x27;, &#x27;cn_006&#x27;, &#x27;cn_007&#x27;, &#x27;cn_008&#x27;, &#x27;cn_009&#x27;, &#x27;co_000&#x27;, &#x27;cp_000&#x27;, &#x27;cq_000&#x27;, &#x27;cr_000&#x27;, &#x27;cs_000&#x27;, &#x27;cs_001&#x27;, &#x27;cs_002&#x27;, &#x27;cs_003&#x27;, &#x27;cs_004&#x27;, &#x27;cs_005&#x27;, &#x27;cs_006&#x27;, &#x27;cs_007&#x27;, &#x27;cs_008&#x27;, &#x27;cs_009&#x27;, &#x27;ct_000&#x27;, &#x27;cu_000&#x27;, &#x27;cv_000&#x27;, &#x27;cx_000&#x27;, &#x27;cy_000&#x27;, &#x27;cz_000&#x27;, &#x27;da_000&#x27;, &#x27;db_000&#x27;, &#x27;dc_000&#x27;, &#x27;dd_000&#x27;, &#x27;de_000&#x27;, &#x27;df_000&#x27;, &#x27;dg_000&#x27;, &#x27;dh_000&#x27;, &#x27;di_000&#x27;, &#x27;dj_000&#x27;, &#x27;dk_000&#x27;, &#x27;dl_000&#x27;, &#x27;dm_000&#x27;, &#x27;dn_000&#x27;, &#x27;do_000&#x27;, &#x27;dp_000&#x27;, &#x27;dq_000&#x27;, &#x27;dr_000&#x27;, &#x27;ds_000&#x27;, &#x27;dt_000&#x27;, &#x27;du_000&#x27;, &#x27;dv_000&#x27;, &#x27;dx_000&#x27;, &#x27;dy_000&#x27;, &#x27;dz_000&#x27;, &#x27;ea_000&#x27;, &#x27;eb_000&#x27;, &#x27;ec_00&#x27;, &#x27;ed_000&#x27;, &#x27;ee_000&#x27;, &#x27;ee_001&#x27;, &#x27;ee_002&#x27;, &#x27;ee_003&#x27;, &#x27;ee_004&#x27;, &#x27;ee_005&#x27;, &#x27;ee_006&#x27;, &#x27;ee_007&#x27;, &#x27;ee_008&#x27;, &#x27;ee_009&#x27;, &#x27;ef_000&#x27;, &#x27;eg_000&#x27;]</pre></div></div></div><div class=\"sk-serial\"><div class=\"sk-item\"><div class=\"sk-serial\"><div class=\"sk-item\"><div class=\"sk-estimator sk-toggleable\"><input class=\"sk-toggleable__control sk-hidden--visually\" id=\"sk-estimator-id-14\" type=\"checkbox\" ><label for=\"sk-estimator-id-14\" class=\"sk-toggleable__label sk-toggleable__label-arrow\">SimpleImputer</label><div class=\"sk-toggleable__content\"><pre>SimpleImputer(fill_value=0, strategy=&#x27;constant&#x27;)</pre></div></div></div><div class=\"sk-item\"><div class=\"sk-estimator sk-toggleable\"><input class=\"sk-toggleable__control sk-hidden--visually\" id=\"sk-estimator-id-15\" type=\"checkbox\" ><label for=\"sk-estimator-id-15\" class=\"sk-toggleable__label sk-toggleable__label-arrow\">RobustScaler</label><div class=\"sk-toggleable__content\"><pre>RobustScaler()</pre></div></div></div></div></div></div></div></div></div></div></div></div>"
      ],
      "text/plain": [
       "ColumnTransformer(transformers=[('Label Encoder', LabelEncoder(), ['class']),\n",
       "                                ('Numerical Pipeline',\n",
       "                                 Pipeline(steps=[('Imputer',\n",
       "                                                  SimpleImputer(fill_value=0,\n",
       "                                                                strategy='constant')),\n",
       "                                                 ('Robust Scaler',\n",
       "                                                  RobustScaler())]),\n",
       "                                 ['aa_000', 'ab_000', 'ac_000', 'ad_000',\n",
       "                                  'ae_000', 'af_000', 'ag_000', 'ag_001',\n",
       "                                  'ag_002', 'ag_003', 'ag_004', 'ag_005',\n",
       "                                  'ag_006', 'ag_007', 'ag_008', 'ag_009',\n",
       "                                  'ah_000', 'ai_000', 'aj_000', 'ak_000',\n",
       "                                  'al_000', 'am_0', 'an_000', 'ao_000',\n",
       "                                  'ap_000', 'aq_000', 'ar_000', 'as_000',\n",
       "                                  'at_000', 'au_000', ...])])"
      ]
     },
     "execution_count": 20,
     "metadata": {},
     "output_type": "execute_result"
    }
   ],
   "source": [
    "full_pipeline2 =  ColumnTransformer([\n",
    "    (\"Label Encoder\", label_encoder, cat_atts),\n",
    "    (\"Numerical Pipeline\", num_pipeline, num_atts)    \n",
    "])\n",
    "full_pipeline2"
   ]
  },
  {
   "cell_type": "code",
   "execution_count": 21,
   "metadata": {},
   "outputs": [
    {
     "ename": "TypeError",
     "evalue": "fit_transform() takes 2 positional arguments but 3 were given",
     "output_type": "error",
     "traceback": [
      "\u001b[1;31m---------------------------------------------------------------------------\u001b[0m",
      "\u001b[1;31mTypeError\u001b[0m                                 Traceback (most recent call last)",
      "Cell \u001b[1;32mIn [21], line 1\u001b[0m\n\u001b[1;32m----> 1\u001b[0m full_pipeline2\u001b[39m.\u001b[39;49mfit(train_set)\n",
      "File \u001b[1;32mc:\\Users\\Admin\\anaconda3\\envs\\sensor\\lib\\site-packages\\sklearn\\compose\\_column_transformer.py:657\u001b[0m, in \u001b[0;36mColumnTransformer.fit\u001b[1;34m(self, X, y)\u001b[0m\n\u001b[0;32m    639\u001b[0m \u001b[39m\"\"\"Fit all transformers using X.\u001b[39;00m\n\u001b[0;32m    640\u001b[0m \n\u001b[0;32m    641\u001b[0m \u001b[39mParameters\u001b[39;00m\n\u001b[1;32m   (...)\u001b[0m\n\u001b[0;32m    653\u001b[0m \u001b[39m    This estimator.\u001b[39;00m\n\u001b[0;32m    654\u001b[0m \u001b[39m\"\"\"\u001b[39;00m\n\u001b[0;32m    655\u001b[0m \u001b[39m# we use fit_transform to make sure to set sparse_output_ (for which we\u001b[39;00m\n\u001b[0;32m    656\u001b[0m \u001b[39m# need the transformed data) to have consistent output type in predict\u001b[39;00m\n\u001b[1;32m--> 657\u001b[0m \u001b[39mself\u001b[39;49m\u001b[39m.\u001b[39;49mfit_transform(X, y\u001b[39m=\u001b[39;49my)\n\u001b[0;32m    658\u001b[0m \u001b[39mreturn\u001b[39;00m \u001b[39mself\u001b[39m\n",
      "File \u001b[1;32mc:\\Users\\Admin\\anaconda3\\envs\\sensor\\lib\\site-packages\\sklearn\\compose\\_column_transformer.py:690\u001b[0m, in \u001b[0;36mColumnTransformer.fit_transform\u001b[1;34m(self, X, y)\u001b[0m\n\u001b[0;32m    687\u001b[0m \u001b[39mself\u001b[39m\u001b[39m.\u001b[39m_validate_column_callables(X)\n\u001b[0;32m    688\u001b[0m \u001b[39mself\u001b[39m\u001b[39m.\u001b[39m_validate_remainder(X)\n\u001b[1;32m--> 690\u001b[0m result \u001b[39m=\u001b[39m \u001b[39mself\u001b[39;49m\u001b[39m.\u001b[39;49m_fit_transform(X, y, _fit_transform_one)\n\u001b[0;32m    692\u001b[0m \u001b[39mif\u001b[39;00m \u001b[39mnot\u001b[39;00m result:\n\u001b[0;32m    693\u001b[0m     \u001b[39mself\u001b[39m\u001b[39m.\u001b[39m_update_fitted_transformers([])\n",
      "File \u001b[1;32mc:\\Users\\Admin\\anaconda3\\envs\\sensor\\lib\\site-packages\\sklearn\\compose\\_column_transformer.py:621\u001b[0m, in \u001b[0;36mColumnTransformer._fit_transform\u001b[1;34m(self, X, y, func, fitted, column_as_strings)\u001b[0m\n\u001b[0;32m    615\u001b[0m transformers \u001b[39m=\u001b[39m \u001b[39mlist\u001b[39m(\n\u001b[0;32m    616\u001b[0m     \u001b[39mself\u001b[39m\u001b[39m.\u001b[39m_iter(\n\u001b[0;32m    617\u001b[0m         fitted\u001b[39m=\u001b[39mfitted, replace_strings\u001b[39m=\u001b[39m\u001b[39mTrue\u001b[39;00m, column_as_strings\u001b[39m=\u001b[39mcolumn_as_strings\n\u001b[0;32m    618\u001b[0m     )\n\u001b[0;32m    619\u001b[0m )\n\u001b[0;32m    620\u001b[0m \u001b[39mtry\u001b[39;00m:\n\u001b[1;32m--> 621\u001b[0m     \u001b[39mreturn\u001b[39;00m Parallel(n_jobs\u001b[39m=\u001b[39;49m\u001b[39mself\u001b[39;49m\u001b[39m.\u001b[39;49mn_jobs)(\n\u001b[0;32m    622\u001b[0m         delayed(func)(\n\u001b[0;32m    623\u001b[0m             transformer\u001b[39m=\u001b[39;49mclone(trans) \u001b[39mif\u001b[39;49;00m \u001b[39mnot\u001b[39;49;00m fitted \u001b[39melse\u001b[39;49;00m trans,\n\u001b[0;32m    624\u001b[0m             X\u001b[39m=\u001b[39;49m_safe_indexing(X, column, axis\u001b[39m=\u001b[39;49m\u001b[39m1\u001b[39;49m),\n\u001b[0;32m    625\u001b[0m             y\u001b[39m=\u001b[39;49my,\n\u001b[0;32m    626\u001b[0m             weight\u001b[39m=\u001b[39;49mweight,\n\u001b[0;32m    627\u001b[0m             message_clsname\u001b[39m=\u001b[39;49m\u001b[39m\"\u001b[39;49m\u001b[39mColumnTransformer\u001b[39;49m\u001b[39m\"\u001b[39;49m,\n\u001b[0;32m    628\u001b[0m             message\u001b[39m=\u001b[39;49m\u001b[39mself\u001b[39;49m\u001b[39m.\u001b[39;49m_log_message(name, idx, \u001b[39mlen\u001b[39;49m(transformers)),\n\u001b[0;32m    629\u001b[0m         )\n\u001b[0;32m    630\u001b[0m         \u001b[39mfor\u001b[39;49;00m idx, (name, trans, column, weight) \u001b[39min\u001b[39;49;00m \u001b[39menumerate\u001b[39;49m(transformers, \u001b[39m1\u001b[39;49m)\n\u001b[0;32m    631\u001b[0m     )\n\u001b[0;32m    632\u001b[0m \u001b[39mexcept\u001b[39;00m \u001b[39mValueError\u001b[39;00m \u001b[39mas\u001b[39;00m e:\n\u001b[0;32m    633\u001b[0m     \u001b[39mif\u001b[39;00m \u001b[39m\"\u001b[39m\u001b[39mExpected 2D array, got 1D array instead\u001b[39m\u001b[39m\"\u001b[39m \u001b[39min\u001b[39;00m \u001b[39mstr\u001b[39m(e):\n",
      "File \u001b[1;32mc:\\Users\\Admin\\anaconda3\\envs\\sensor\\lib\\site-packages\\joblib\\parallel.py:1048\u001b[0m, in \u001b[0;36mParallel.__call__\u001b[1;34m(self, iterable)\u001b[0m\n\u001b[0;32m   1039\u001b[0m \u001b[39mtry\u001b[39;00m:\n\u001b[0;32m   1040\u001b[0m     \u001b[39m# Only set self._iterating to True if at least a batch\u001b[39;00m\n\u001b[0;32m   1041\u001b[0m     \u001b[39m# was dispatched. In particular this covers the edge\u001b[39;00m\n\u001b[1;32m   (...)\u001b[0m\n\u001b[0;32m   1045\u001b[0m     \u001b[39m# was very quick and its callback already dispatched all the\u001b[39;00m\n\u001b[0;32m   1046\u001b[0m     \u001b[39m# remaining jobs.\u001b[39;00m\n\u001b[0;32m   1047\u001b[0m     \u001b[39mself\u001b[39m\u001b[39m.\u001b[39m_iterating \u001b[39m=\u001b[39m \u001b[39mFalse\u001b[39;00m\n\u001b[1;32m-> 1048\u001b[0m     \u001b[39mif\u001b[39;00m \u001b[39mself\u001b[39;49m\u001b[39m.\u001b[39;49mdispatch_one_batch(iterator):\n\u001b[0;32m   1049\u001b[0m         \u001b[39mself\u001b[39m\u001b[39m.\u001b[39m_iterating \u001b[39m=\u001b[39m \u001b[39mself\u001b[39m\u001b[39m.\u001b[39m_original_iterator \u001b[39mis\u001b[39;00m \u001b[39mnot\u001b[39;00m \u001b[39mNone\u001b[39;00m\n\u001b[0;32m   1051\u001b[0m     \u001b[39mwhile\u001b[39;00m \u001b[39mself\u001b[39m\u001b[39m.\u001b[39mdispatch_one_batch(iterator):\n",
      "File \u001b[1;32mc:\\Users\\Admin\\anaconda3\\envs\\sensor\\lib\\site-packages\\joblib\\parallel.py:864\u001b[0m, in \u001b[0;36mParallel.dispatch_one_batch\u001b[1;34m(self, iterator)\u001b[0m\n\u001b[0;32m    862\u001b[0m     \u001b[39mreturn\u001b[39;00m \u001b[39mFalse\u001b[39;00m\n\u001b[0;32m    863\u001b[0m \u001b[39melse\u001b[39;00m:\n\u001b[1;32m--> 864\u001b[0m     \u001b[39mself\u001b[39;49m\u001b[39m.\u001b[39;49m_dispatch(tasks)\n\u001b[0;32m    865\u001b[0m     \u001b[39mreturn\u001b[39;00m \u001b[39mTrue\u001b[39;00m\n",
      "File \u001b[1;32mc:\\Users\\Admin\\anaconda3\\envs\\sensor\\lib\\site-packages\\joblib\\parallel.py:782\u001b[0m, in \u001b[0;36mParallel._dispatch\u001b[1;34m(self, batch)\u001b[0m\n\u001b[0;32m    780\u001b[0m \u001b[39mwith\u001b[39;00m \u001b[39mself\u001b[39m\u001b[39m.\u001b[39m_lock:\n\u001b[0;32m    781\u001b[0m     job_idx \u001b[39m=\u001b[39m \u001b[39mlen\u001b[39m(\u001b[39mself\u001b[39m\u001b[39m.\u001b[39m_jobs)\n\u001b[1;32m--> 782\u001b[0m     job \u001b[39m=\u001b[39m \u001b[39mself\u001b[39;49m\u001b[39m.\u001b[39;49m_backend\u001b[39m.\u001b[39;49mapply_async(batch, callback\u001b[39m=\u001b[39;49mcb)\n\u001b[0;32m    783\u001b[0m     \u001b[39m# A job can complete so quickly than its callback is\u001b[39;00m\n\u001b[0;32m    784\u001b[0m     \u001b[39m# called before we get here, causing self._jobs to\u001b[39;00m\n\u001b[0;32m    785\u001b[0m     \u001b[39m# grow. To ensure correct results ordering, .insert is\u001b[39;00m\n\u001b[0;32m    786\u001b[0m     \u001b[39m# used (rather than .append) in the following line\u001b[39;00m\n\u001b[0;32m    787\u001b[0m     \u001b[39mself\u001b[39m\u001b[39m.\u001b[39m_jobs\u001b[39m.\u001b[39minsert(job_idx, job)\n",
      "File \u001b[1;32mc:\\Users\\Admin\\anaconda3\\envs\\sensor\\lib\\site-packages\\joblib\\_parallel_backends.py:208\u001b[0m, in \u001b[0;36mSequentialBackend.apply_async\u001b[1;34m(self, func, callback)\u001b[0m\n\u001b[0;32m    206\u001b[0m \u001b[39mdef\u001b[39;00m \u001b[39mapply_async\u001b[39m(\u001b[39mself\u001b[39m, func, callback\u001b[39m=\u001b[39m\u001b[39mNone\u001b[39;00m):\n\u001b[0;32m    207\u001b[0m     \u001b[39m\"\"\"Schedule a func to be run\"\"\"\u001b[39;00m\n\u001b[1;32m--> 208\u001b[0m     result \u001b[39m=\u001b[39m ImmediateResult(func)\n\u001b[0;32m    209\u001b[0m     \u001b[39mif\u001b[39;00m callback:\n\u001b[0;32m    210\u001b[0m         callback(result)\n",
      "File \u001b[1;32mc:\\Users\\Admin\\anaconda3\\envs\\sensor\\lib\\site-packages\\joblib\\_parallel_backends.py:572\u001b[0m, in \u001b[0;36mImmediateResult.__init__\u001b[1;34m(self, batch)\u001b[0m\n\u001b[0;32m    569\u001b[0m \u001b[39mdef\u001b[39;00m \u001b[39m__init__\u001b[39m(\u001b[39mself\u001b[39m, batch):\n\u001b[0;32m    570\u001b[0m     \u001b[39m# Don't delay the application, to avoid keeping the input\u001b[39;00m\n\u001b[0;32m    571\u001b[0m     \u001b[39m# arguments in memory\u001b[39;00m\n\u001b[1;32m--> 572\u001b[0m     \u001b[39mself\u001b[39m\u001b[39m.\u001b[39mresults \u001b[39m=\u001b[39m batch()\n",
      "File \u001b[1;32mc:\\Users\\Admin\\anaconda3\\envs\\sensor\\lib\\site-packages\\joblib\\parallel.py:263\u001b[0m, in \u001b[0;36mBatchedCalls.__call__\u001b[1;34m(self)\u001b[0m\n\u001b[0;32m    259\u001b[0m \u001b[39mdef\u001b[39;00m \u001b[39m__call__\u001b[39m(\u001b[39mself\u001b[39m):\n\u001b[0;32m    260\u001b[0m     \u001b[39m# Set the default nested backend to self._backend but do not set the\u001b[39;00m\n\u001b[0;32m    261\u001b[0m     \u001b[39m# change the default number of processes to -1\u001b[39;00m\n\u001b[0;32m    262\u001b[0m     \u001b[39mwith\u001b[39;00m parallel_backend(\u001b[39mself\u001b[39m\u001b[39m.\u001b[39m_backend, n_jobs\u001b[39m=\u001b[39m\u001b[39mself\u001b[39m\u001b[39m.\u001b[39m_n_jobs):\n\u001b[1;32m--> 263\u001b[0m         \u001b[39mreturn\u001b[39;00m [func(\u001b[39m*\u001b[39margs, \u001b[39m*\u001b[39m\u001b[39m*\u001b[39mkwargs)\n\u001b[0;32m    264\u001b[0m                 \u001b[39mfor\u001b[39;00m func, args, kwargs \u001b[39min\u001b[39;00m \u001b[39mself\u001b[39m\u001b[39m.\u001b[39mitems]\n",
      "File \u001b[1;32mc:\\Users\\Admin\\anaconda3\\envs\\sensor\\lib\\site-packages\\joblib\\parallel.py:263\u001b[0m, in \u001b[0;36m<listcomp>\u001b[1;34m(.0)\u001b[0m\n\u001b[0;32m    259\u001b[0m \u001b[39mdef\u001b[39;00m \u001b[39m__call__\u001b[39m(\u001b[39mself\u001b[39m):\n\u001b[0;32m    260\u001b[0m     \u001b[39m# Set the default nested backend to self._backend but do not set the\u001b[39;00m\n\u001b[0;32m    261\u001b[0m     \u001b[39m# change the default number of processes to -1\u001b[39;00m\n\u001b[0;32m    262\u001b[0m     \u001b[39mwith\u001b[39;00m parallel_backend(\u001b[39mself\u001b[39m\u001b[39m.\u001b[39m_backend, n_jobs\u001b[39m=\u001b[39m\u001b[39mself\u001b[39m\u001b[39m.\u001b[39m_n_jobs):\n\u001b[1;32m--> 263\u001b[0m         \u001b[39mreturn\u001b[39;00m [func(\u001b[39m*\u001b[39;49margs, \u001b[39m*\u001b[39;49m\u001b[39m*\u001b[39;49mkwargs)\n\u001b[0;32m    264\u001b[0m                 \u001b[39mfor\u001b[39;00m func, args, kwargs \u001b[39min\u001b[39;00m \u001b[39mself\u001b[39m\u001b[39m.\u001b[39mitems]\n",
      "File \u001b[1;32mc:\\Users\\Admin\\anaconda3\\envs\\sensor\\lib\\site-packages\\sklearn\\utils\\fixes.py:117\u001b[0m, in \u001b[0;36m_FuncWrapper.__call__\u001b[1;34m(self, *args, **kwargs)\u001b[0m\n\u001b[0;32m    115\u001b[0m \u001b[39mdef\u001b[39;00m \u001b[39m__call__\u001b[39m(\u001b[39mself\u001b[39m, \u001b[39m*\u001b[39margs, \u001b[39m*\u001b[39m\u001b[39m*\u001b[39mkwargs):\n\u001b[0;32m    116\u001b[0m     \u001b[39mwith\u001b[39;00m config_context(\u001b[39m*\u001b[39m\u001b[39m*\u001b[39m\u001b[39mself\u001b[39m\u001b[39m.\u001b[39mconfig):\n\u001b[1;32m--> 117\u001b[0m         \u001b[39mreturn\u001b[39;00m \u001b[39mself\u001b[39;49m\u001b[39m.\u001b[39;49mfunction(\u001b[39m*\u001b[39;49margs, \u001b[39m*\u001b[39;49m\u001b[39m*\u001b[39;49mkwargs)\n",
      "File \u001b[1;32mc:\\Users\\Admin\\anaconda3\\envs\\sensor\\lib\\site-packages\\sklearn\\pipeline.py:870\u001b[0m, in \u001b[0;36m_fit_transform_one\u001b[1;34m(transformer, X, y, weight, message_clsname, message, **fit_params)\u001b[0m\n\u001b[0;32m    868\u001b[0m \u001b[39mwith\u001b[39;00m _print_elapsed_time(message_clsname, message):\n\u001b[0;32m    869\u001b[0m     \u001b[39mif\u001b[39;00m \u001b[39mhasattr\u001b[39m(transformer, \u001b[39m\"\u001b[39m\u001b[39mfit_transform\u001b[39m\u001b[39m\"\u001b[39m):\n\u001b[1;32m--> 870\u001b[0m         res \u001b[39m=\u001b[39m transformer\u001b[39m.\u001b[39;49mfit_transform(X, y, \u001b[39m*\u001b[39;49m\u001b[39m*\u001b[39;49mfit_params)\n\u001b[0;32m    871\u001b[0m     \u001b[39melse\u001b[39;00m:\n\u001b[0;32m    872\u001b[0m         res \u001b[39m=\u001b[39m transformer\u001b[39m.\u001b[39mfit(X, y, \u001b[39m*\u001b[39m\u001b[39m*\u001b[39mfit_params)\u001b[39m.\u001b[39mtransform(X)\n",
      "\u001b[1;31mTypeError\u001b[0m: fit_transform() takes 2 positional arguments but 3 were given"
     ]
    }
   ],
   "source": [
    "full_pipeline2.fit(train_set)"
   ]
  },
  {
   "cell_type": "code",
   "execution_count": 22,
   "metadata": {},
   "outputs": [
    {
     "data": {
      "text/plain": [
       "array([[0.],\n",
       "       [0.],\n",
       "       [0.],\n",
       "       ...,\n",
       "       [0.],\n",
       "       [0.],\n",
       "       [0.]])"
      ]
     },
     "execution_count": 22,
     "metadata": {},
     "output_type": "execute_result"
    }
   ],
   "source": [
    "from sklearn.preprocessing import OrdinalEncoder\n",
    "\n",
    "ordinal_encoder = OrdinalEncoder()\n",
    "ordinal_encoder.fit_transform(train_set[cat_atts])"
   ]
  },
  {
   "cell_type": "code",
   "execution_count": 23,
   "metadata": {},
   "outputs": [
    {
     "data": {
      "text/html": [
       "<style>#sk-container-id-4 {color: black;background-color: white;}#sk-container-id-4 pre{padding: 0;}#sk-container-id-4 div.sk-toggleable {background-color: white;}#sk-container-id-4 label.sk-toggleable__label {cursor: pointer;display: block;width: 100%;margin-bottom: 0;padding: 0.3em;box-sizing: border-box;text-align: center;}#sk-container-id-4 label.sk-toggleable__label-arrow:before {content: \"▸\";float: left;margin-right: 0.25em;color: #696969;}#sk-container-id-4 label.sk-toggleable__label-arrow:hover:before {color: black;}#sk-container-id-4 div.sk-estimator:hover label.sk-toggleable__label-arrow:before {color: black;}#sk-container-id-4 div.sk-toggleable__content {max-height: 0;max-width: 0;overflow: hidden;text-align: left;background-color: #f0f8ff;}#sk-container-id-4 div.sk-toggleable__content pre {margin: 0.2em;color: black;border-radius: 0.25em;background-color: #f0f8ff;}#sk-container-id-4 input.sk-toggleable__control:checked~div.sk-toggleable__content {max-height: 200px;max-width: 100%;overflow: auto;}#sk-container-id-4 input.sk-toggleable__control:checked~label.sk-toggleable__label-arrow:before {content: \"▾\";}#sk-container-id-4 div.sk-estimator input.sk-toggleable__control:checked~label.sk-toggleable__label {background-color: #d4ebff;}#sk-container-id-4 div.sk-label input.sk-toggleable__control:checked~label.sk-toggleable__label {background-color: #d4ebff;}#sk-container-id-4 input.sk-hidden--visually {border: 0;clip: rect(1px 1px 1px 1px);clip: rect(1px, 1px, 1px, 1px);height: 1px;margin: -1px;overflow: hidden;padding: 0;position: absolute;width: 1px;}#sk-container-id-4 div.sk-estimator {font-family: monospace;background-color: #f0f8ff;border: 1px dotted black;border-radius: 0.25em;box-sizing: border-box;margin-bottom: 0.5em;}#sk-container-id-4 div.sk-estimator:hover {background-color: #d4ebff;}#sk-container-id-4 div.sk-parallel-item::after {content: \"\";width: 100%;border-bottom: 1px solid gray;flex-grow: 1;}#sk-container-id-4 div.sk-label:hover label.sk-toggleable__label {background-color: #d4ebff;}#sk-container-id-4 div.sk-serial::before {content: \"\";position: absolute;border-left: 1px solid gray;box-sizing: border-box;top: 0;bottom: 0;left: 50%;z-index: 0;}#sk-container-id-4 div.sk-serial {display: flex;flex-direction: column;align-items: center;background-color: white;padding-right: 0.2em;padding-left: 0.2em;position: relative;}#sk-container-id-4 div.sk-item {position: relative;z-index: 1;}#sk-container-id-4 div.sk-parallel {display: flex;align-items: stretch;justify-content: center;background-color: white;position: relative;}#sk-container-id-4 div.sk-item::before, #sk-container-id-4 div.sk-parallel-item::before {content: \"\";position: absolute;border-left: 1px solid gray;box-sizing: border-box;top: 0;bottom: 0;left: 50%;z-index: -1;}#sk-container-id-4 div.sk-parallel-item {display: flex;flex-direction: column;z-index: 1;position: relative;background-color: white;}#sk-container-id-4 div.sk-parallel-item:first-child::after {align-self: flex-end;width: 50%;}#sk-container-id-4 div.sk-parallel-item:last-child::after {align-self: flex-start;width: 50%;}#sk-container-id-4 div.sk-parallel-item:only-child::after {width: 0;}#sk-container-id-4 div.sk-dashed-wrapped {border: 1px dashed gray;margin: 0 0.4em 0.5em 0.4em;box-sizing: border-box;padding-bottom: 0.4em;background-color: white;}#sk-container-id-4 div.sk-label label {font-family: monospace;font-weight: bold;display: inline-block;line-height: 1.2em;}#sk-container-id-4 div.sk-label-container {text-align: center;}#sk-container-id-4 div.sk-container {/* jupyter's `normalize.less` sets `[hidden] { display: none; }` but bootstrap.min.css set `[hidden] { display: none !important; }` so we also need the `!important` here to be able to override the default hidden behavior on the sphinx rendered scikit-learn.org. See: https://github.com/scikit-learn/scikit-learn/issues/21755 */display: inline-block !important;position: relative;}#sk-container-id-4 div.sk-text-repr-fallback {display: none;}</style><div id=\"sk-container-id-4\" class=\"sk-top-container\"><div class=\"sk-text-repr-fallback\"><pre>ColumnTransformer(transformers=[(&#x27;Numerical Pipeline&#x27;,\n",
       "                                 Pipeline(steps=[(&#x27;Imputer&#x27;,\n",
       "                                                  SimpleImputer(fill_value=0,\n",
       "                                                                strategy=&#x27;constant&#x27;)),\n",
       "                                                 (&#x27;Robust Scaler&#x27;,\n",
       "                                                  RobustScaler())]),\n",
       "                                 [&#x27;aa_000&#x27;, &#x27;ab_000&#x27;, &#x27;ac_000&#x27;, &#x27;ad_000&#x27;,\n",
       "                                  &#x27;ae_000&#x27;, &#x27;af_000&#x27;, &#x27;ag_000&#x27;, &#x27;ag_001&#x27;,\n",
       "                                  &#x27;ag_002&#x27;, &#x27;ag_003&#x27;, &#x27;ag_004&#x27;, &#x27;ag_005&#x27;,\n",
       "                                  &#x27;ag_006&#x27;, &#x27;ag_007&#x27;, &#x27;ag_008&#x27;, &#x27;ag_009&#x27;,\n",
       "                                  &#x27;ah_000&#x27;, &#x27;ai_000&#x27;, &#x27;aj_000&#x27;, &#x27;ak_000&#x27;,\n",
       "                                  &#x27;al_000&#x27;, &#x27;am_0&#x27;, &#x27;an_000&#x27;, &#x27;ao_000&#x27;,\n",
       "                                  &#x27;ap_000&#x27;, &#x27;aq_000&#x27;, &#x27;ar_000&#x27;, &#x27;as_000&#x27;,\n",
       "                                  &#x27;at_000&#x27;, &#x27;au_000&#x27;, ...]),\n",
       "                                (&#x27;Ordinal Encoder&#x27;, OrdinalEncoder(),\n",
       "                                 [&#x27;class&#x27;])])</pre><b>In a Jupyter environment, please rerun this cell to show the HTML representation or trust the notebook. <br />On GitHub, the HTML representation is unable to render, please try loading this page with nbviewer.org.</b></div><div class=\"sk-container\" hidden><div class=\"sk-item sk-dashed-wrapped\"><div class=\"sk-label-container\"><div class=\"sk-label sk-toggleable\"><input class=\"sk-toggleable__control sk-hidden--visually\" id=\"sk-estimator-id-16\" type=\"checkbox\" ><label for=\"sk-estimator-id-16\" class=\"sk-toggleable__label sk-toggleable__label-arrow\">ColumnTransformer</label><div class=\"sk-toggleable__content\"><pre>ColumnTransformer(transformers=[(&#x27;Numerical Pipeline&#x27;,\n",
       "                                 Pipeline(steps=[(&#x27;Imputer&#x27;,\n",
       "                                                  SimpleImputer(fill_value=0,\n",
       "                                                                strategy=&#x27;constant&#x27;)),\n",
       "                                                 (&#x27;Robust Scaler&#x27;,\n",
       "                                                  RobustScaler())]),\n",
       "                                 [&#x27;aa_000&#x27;, &#x27;ab_000&#x27;, &#x27;ac_000&#x27;, &#x27;ad_000&#x27;,\n",
       "                                  &#x27;ae_000&#x27;, &#x27;af_000&#x27;, &#x27;ag_000&#x27;, &#x27;ag_001&#x27;,\n",
       "                                  &#x27;ag_002&#x27;, &#x27;ag_003&#x27;, &#x27;ag_004&#x27;, &#x27;ag_005&#x27;,\n",
       "                                  &#x27;ag_006&#x27;, &#x27;ag_007&#x27;, &#x27;ag_008&#x27;, &#x27;ag_009&#x27;,\n",
       "                                  &#x27;ah_000&#x27;, &#x27;ai_000&#x27;, &#x27;aj_000&#x27;, &#x27;ak_000&#x27;,\n",
       "                                  &#x27;al_000&#x27;, &#x27;am_0&#x27;, &#x27;an_000&#x27;, &#x27;ao_000&#x27;,\n",
       "                                  &#x27;ap_000&#x27;, &#x27;aq_000&#x27;, &#x27;ar_000&#x27;, &#x27;as_000&#x27;,\n",
       "                                  &#x27;at_000&#x27;, &#x27;au_000&#x27;, ...]),\n",
       "                                (&#x27;Ordinal Encoder&#x27;, OrdinalEncoder(),\n",
       "                                 [&#x27;class&#x27;])])</pre></div></div></div><div class=\"sk-parallel\"><div class=\"sk-parallel-item\"><div class=\"sk-item\"><div class=\"sk-label-container\"><div class=\"sk-label sk-toggleable\"><input class=\"sk-toggleable__control sk-hidden--visually\" id=\"sk-estimator-id-17\" type=\"checkbox\" ><label for=\"sk-estimator-id-17\" class=\"sk-toggleable__label sk-toggleable__label-arrow\">Numerical Pipeline</label><div class=\"sk-toggleable__content\"><pre>[&#x27;aa_000&#x27;, &#x27;ab_000&#x27;, &#x27;ac_000&#x27;, &#x27;ad_000&#x27;, &#x27;ae_000&#x27;, &#x27;af_000&#x27;, &#x27;ag_000&#x27;, &#x27;ag_001&#x27;, &#x27;ag_002&#x27;, &#x27;ag_003&#x27;, &#x27;ag_004&#x27;, &#x27;ag_005&#x27;, &#x27;ag_006&#x27;, &#x27;ag_007&#x27;, &#x27;ag_008&#x27;, &#x27;ag_009&#x27;, &#x27;ah_000&#x27;, &#x27;ai_000&#x27;, &#x27;aj_000&#x27;, &#x27;ak_000&#x27;, &#x27;al_000&#x27;, &#x27;am_0&#x27;, &#x27;an_000&#x27;, &#x27;ao_000&#x27;, &#x27;ap_000&#x27;, &#x27;aq_000&#x27;, &#x27;ar_000&#x27;, &#x27;as_000&#x27;, &#x27;at_000&#x27;, &#x27;au_000&#x27;, &#x27;av_000&#x27;, &#x27;ax_000&#x27;, &#x27;ay_000&#x27;, &#x27;ay_001&#x27;, &#x27;ay_002&#x27;, &#x27;ay_003&#x27;, &#x27;ay_004&#x27;, &#x27;ay_005&#x27;, &#x27;ay_006&#x27;, &#x27;ay_007&#x27;, &#x27;ay_008&#x27;, &#x27;ay_009&#x27;, &#x27;az_000&#x27;, &#x27;az_001&#x27;, &#x27;az_002&#x27;, &#x27;az_003&#x27;, &#x27;az_004&#x27;, &#x27;az_005&#x27;, &#x27;az_006&#x27;, &#x27;az_007&#x27;, &#x27;az_008&#x27;, &#x27;az_009&#x27;, &#x27;ba_000&#x27;, &#x27;ba_001&#x27;, &#x27;ba_002&#x27;, &#x27;ba_003&#x27;, &#x27;ba_004&#x27;, &#x27;ba_005&#x27;, &#x27;ba_006&#x27;, &#x27;ba_007&#x27;, &#x27;ba_008&#x27;, &#x27;ba_009&#x27;, &#x27;bb_000&#x27;, &#x27;bc_000&#x27;, &#x27;bd_000&#x27;, &#x27;be_000&#x27;, &#x27;bf_000&#x27;, &#x27;bg_000&#x27;, &#x27;bh_000&#x27;, &#x27;bi_000&#x27;, &#x27;bj_000&#x27;, &#x27;bk_000&#x27;, &#x27;bl_000&#x27;, &#x27;bm_000&#x27;, &#x27;bn_000&#x27;, &#x27;bo_000&#x27;, &#x27;bp_000&#x27;, &#x27;bq_000&#x27;, &#x27;br_000&#x27;, &#x27;bs_000&#x27;, &#x27;bt_000&#x27;, &#x27;bu_000&#x27;, &#x27;bv_000&#x27;, &#x27;bx_000&#x27;, &#x27;by_000&#x27;, &#x27;bz_000&#x27;, &#x27;ca_000&#x27;, &#x27;cb_000&#x27;, &#x27;cc_000&#x27;, &#x27;cd_000&#x27;, &#x27;ce_000&#x27;, &#x27;cf_000&#x27;, &#x27;cg_000&#x27;, &#x27;ch_000&#x27;, &#x27;ci_000&#x27;, &#x27;cj_000&#x27;, &#x27;ck_000&#x27;, &#x27;cl_000&#x27;, &#x27;cm_000&#x27;, &#x27;cn_000&#x27;, &#x27;cn_001&#x27;, &#x27;cn_002&#x27;, &#x27;cn_003&#x27;, &#x27;cn_004&#x27;, &#x27;cn_005&#x27;, &#x27;cn_006&#x27;, &#x27;cn_007&#x27;, &#x27;cn_008&#x27;, &#x27;cn_009&#x27;, &#x27;co_000&#x27;, &#x27;cp_000&#x27;, &#x27;cq_000&#x27;, &#x27;cr_000&#x27;, &#x27;cs_000&#x27;, &#x27;cs_001&#x27;, &#x27;cs_002&#x27;, &#x27;cs_003&#x27;, &#x27;cs_004&#x27;, &#x27;cs_005&#x27;, &#x27;cs_006&#x27;, &#x27;cs_007&#x27;, &#x27;cs_008&#x27;, &#x27;cs_009&#x27;, &#x27;ct_000&#x27;, &#x27;cu_000&#x27;, &#x27;cv_000&#x27;, &#x27;cx_000&#x27;, &#x27;cy_000&#x27;, &#x27;cz_000&#x27;, &#x27;da_000&#x27;, &#x27;db_000&#x27;, &#x27;dc_000&#x27;, &#x27;dd_000&#x27;, &#x27;de_000&#x27;, &#x27;df_000&#x27;, &#x27;dg_000&#x27;, &#x27;dh_000&#x27;, &#x27;di_000&#x27;, &#x27;dj_000&#x27;, &#x27;dk_000&#x27;, &#x27;dl_000&#x27;, &#x27;dm_000&#x27;, &#x27;dn_000&#x27;, &#x27;do_000&#x27;, &#x27;dp_000&#x27;, &#x27;dq_000&#x27;, &#x27;dr_000&#x27;, &#x27;ds_000&#x27;, &#x27;dt_000&#x27;, &#x27;du_000&#x27;, &#x27;dv_000&#x27;, &#x27;dx_000&#x27;, &#x27;dy_000&#x27;, &#x27;dz_000&#x27;, &#x27;ea_000&#x27;, &#x27;eb_000&#x27;, &#x27;ec_00&#x27;, &#x27;ed_000&#x27;, &#x27;ee_000&#x27;, &#x27;ee_001&#x27;, &#x27;ee_002&#x27;, &#x27;ee_003&#x27;, &#x27;ee_004&#x27;, &#x27;ee_005&#x27;, &#x27;ee_006&#x27;, &#x27;ee_007&#x27;, &#x27;ee_008&#x27;, &#x27;ee_009&#x27;, &#x27;ef_000&#x27;, &#x27;eg_000&#x27;]</pre></div></div></div><div class=\"sk-serial\"><div class=\"sk-item\"><div class=\"sk-serial\"><div class=\"sk-item\"><div class=\"sk-estimator sk-toggleable\"><input class=\"sk-toggleable__control sk-hidden--visually\" id=\"sk-estimator-id-18\" type=\"checkbox\" ><label for=\"sk-estimator-id-18\" class=\"sk-toggleable__label sk-toggleable__label-arrow\">SimpleImputer</label><div class=\"sk-toggleable__content\"><pre>SimpleImputer(fill_value=0, strategy=&#x27;constant&#x27;)</pre></div></div></div><div class=\"sk-item\"><div class=\"sk-estimator sk-toggleable\"><input class=\"sk-toggleable__control sk-hidden--visually\" id=\"sk-estimator-id-19\" type=\"checkbox\" ><label for=\"sk-estimator-id-19\" class=\"sk-toggleable__label sk-toggleable__label-arrow\">RobustScaler</label><div class=\"sk-toggleable__content\"><pre>RobustScaler()</pre></div></div></div></div></div></div></div></div><div class=\"sk-parallel-item\"><div class=\"sk-item\"><div class=\"sk-label-container\"><div class=\"sk-label sk-toggleable\"><input class=\"sk-toggleable__control sk-hidden--visually\" id=\"sk-estimator-id-20\" type=\"checkbox\" ><label for=\"sk-estimator-id-20\" class=\"sk-toggleable__label sk-toggleable__label-arrow\">Ordinal Encoder</label><div class=\"sk-toggleable__content\"><pre>[&#x27;class&#x27;]</pre></div></div></div><div class=\"sk-serial\"><div class=\"sk-item\"><div class=\"sk-estimator sk-toggleable\"><input class=\"sk-toggleable__control sk-hidden--visually\" id=\"sk-estimator-id-21\" type=\"checkbox\" ><label for=\"sk-estimator-id-21\" class=\"sk-toggleable__label sk-toggleable__label-arrow\">OrdinalEncoder</label><div class=\"sk-toggleable__content\"><pre>OrdinalEncoder()</pre></div></div></div></div></div></div></div></div></div></div>"
      ],
      "text/plain": [
       "ColumnTransformer(transformers=[('Numerical Pipeline',\n",
       "                                 Pipeline(steps=[('Imputer',\n",
       "                                                  SimpleImputer(fill_value=0,\n",
       "                                                                strategy='constant')),\n",
       "                                                 ('Robust Scaler',\n",
       "                                                  RobustScaler())]),\n",
       "                                 ['aa_000', 'ab_000', 'ac_000', 'ad_000',\n",
       "                                  'ae_000', 'af_000', 'ag_000', 'ag_001',\n",
       "                                  'ag_002', 'ag_003', 'ag_004', 'ag_005',\n",
       "                                  'ag_006', 'ag_007', 'ag_008', 'ag_009',\n",
       "                                  'ah_000', 'ai_000', 'aj_000', 'ak_000',\n",
       "                                  'al_000', 'am_0', 'an_000', 'ao_000',\n",
       "                                  'ap_000', 'aq_000', 'ar_000', 'as_000',\n",
       "                                  'at_000', 'au_000', ...]),\n",
       "                                ('Ordinal Encoder', OrdinalEncoder(),\n",
       "                                 ['class'])])"
      ]
     },
     "execution_count": 23,
     "metadata": {},
     "output_type": "execute_result"
    }
   ],
   "source": [
    "full_pipeline3 = ColumnTransformer([\n",
    "    (\"Numerical Pipeline\", num_pipeline, num_atts), \n",
    "    (\"Ordinal Encoder\", OrdinalEncoder(), cat_atts)\n",
    "])\n",
    "full_pipeline3"
   ]
  },
  {
   "cell_type": "code",
   "execution_count": 24,
   "metadata": {},
   "outputs": [
    {
     "data": {
      "text/plain": [
       "array([[-6.30822265e-01,  2.00000000e+00, -8.73786408e-02, ...,\n",
       "         0.00000000e+00,  0.00000000e+00,  0.00000000e+00],\n",
       "       [-6.31065599e-01,  0.00000000e+00, -1.40776699e-01, ...,\n",
       "         0.00000000e+00,  0.00000000e+00,  0.00000000e+00],\n",
       "       [ 2.09733347e-01,  0.00000000e+00,  5.84951456e-01, ...,\n",
       "         0.00000000e+00,  0.00000000e+00,  0.00000000e+00],\n",
       "       ...,\n",
       "       [-5.94808882e-01,  0.00000000e+00, -8.73786408e-02, ...,\n",
       "         0.00000000e+00,  0.00000000e+00,  0.00000000e+00],\n",
       "       [ 3.01249113e+00,  0.00000000e+00,  2.58580864e+06, ...,\n",
       "         0.00000000e+00,  0.00000000e+00,  0.00000000e+00],\n",
       "       [-7.40139917e-03,  0.00000000e+00,  4.97572816e-01, ...,\n",
       "         0.00000000e+00,  0.00000000e+00,  0.00000000e+00]])"
      ]
     },
     "execution_count": 24,
     "metadata": {},
     "output_type": "execute_result"
    }
   ],
   "source": [
    "train_arr = full_pipeline3.fit_transform(train_set)\n",
    "train_arr"
   ]
  },
  {
   "cell_type": "code",
   "execution_count": 25,
   "metadata": {},
   "outputs": [
    {
     "data": {
      "text/plain": [
       "(28950, 171)"
      ]
     },
     "execution_count": 25,
     "metadata": {},
     "output_type": "execute_result"
    }
   ],
   "source": [
    "train_arr.shape\n"
   ]
  },
  {
   "cell_type": "code",
   "execution_count": 26,
   "metadata": {},
   "outputs": [
    {
     "data": {
      "text/plain": [
       "(28950, 171)"
      ]
     },
     "execution_count": 26,
     "metadata": {},
     "output_type": "execute_result"
    }
   ],
   "source": [
    "train_set.shape"
   ]
  },
  {
   "attachments": {},
   "cell_type": "markdown",
   "metadata": {},
   "source": [
    "### LabelEncoder() vs OrdinalEncoder()\n",
    "\n",
    "both have the same functionality. A bit difference is the idea behind. OrdinalEncoder is for converting features, while LabelEncoder is for converting target variable.\n",
    "\n",
    "That's why OrdinalEncoder can fit data that has the shape of (n_samples, n_features) while LabelEncoder can only fit data that has the shape of (n_samples,) (though in the past one used LabelEncoder within the loop to handle what has been becoming the job of OrdinalEncoder now)"
   ]
  },
  {
   "cell_type": "code",
   "execution_count": 41,
   "metadata": {},
   "outputs": [
    {
     "data": {
      "text/plain": [
       "array([[-6.30822265e-01,  2.00000000e+00, -8.73786408e-02, ...,\n",
       "         0.00000000e+00,  0.00000000e+00,  0.00000000e+00],\n",
       "       [-6.31065599e-01,  0.00000000e+00, -1.40776699e-01, ...,\n",
       "         0.00000000e+00,  0.00000000e+00,  0.00000000e+00],\n",
       "       [ 2.09733347e-01,  0.00000000e+00,  5.84951456e-01, ...,\n",
       "         0.00000000e+00,  0.00000000e+00,  0.00000000e+00],\n",
       "       ...,\n",
       "       [-5.94808882e-01,  0.00000000e+00, -8.73786408e-02, ...,\n",
       "         0.00000000e+00,  0.00000000e+00,  0.00000000e+00],\n",
       "       [ 3.01249113e+00,  0.00000000e+00,  2.58580864e+06, ...,\n",
       "         0.00000000e+00,  0.00000000e+00,  0.00000000e+00],\n",
       "       [-7.40139917e-03,  0.00000000e+00,  4.97572816e-01, ...,\n",
       "         0.00000000e+00,  0.00000000e+00,  0.00000000e+00]])"
      ]
     },
     "execution_count": 41,
     "metadata": {},
     "output_type": "execute_result"
    }
   ],
   "source": [
    "train_arr"
   ]
  },
  {
   "cell_type": "code",
   "execution_count": 44,
   "metadata": {},
   "outputs": [],
   "source": [
    "np.savetxt(open('train_arr.txt', 'w'), train_arr)"
   ]
  },
  {
   "cell_type": "code",
   "execution_count": 56,
   "metadata": {},
   "outputs": [],
   "source": [
    "target = pd.DataFrame(train_set.iloc[:, 0])"
   ]
  },
  {
   "cell_type": "code",
   "execution_count": 57,
   "metadata": {},
   "outputs": [
    {
     "data": {
      "text/html": [
       "<style>#sk-container-id-4 {color: black;background-color: white;}#sk-container-id-4 pre{padding: 0;}#sk-container-id-4 div.sk-toggleable {background-color: white;}#sk-container-id-4 label.sk-toggleable__label {cursor: pointer;display: block;width: 100%;margin-bottom: 0;padding: 0.3em;box-sizing: border-box;text-align: center;}#sk-container-id-4 label.sk-toggleable__label-arrow:before {content: \"▸\";float: left;margin-right: 0.25em;color: #696969;}#sk-container-id-4 label.sk-toggleable__label-arrow:hover:before {color: black;}#sk-container-id-4 div.sk-estimator:hover label.sk-toggleable__label-arrow:before {color: black;}#sk-container-id-4 div.sk-toggleable__content {max-height: 0;max-width: 0;overflow: hidden;text-align: left;background-color: #f0f8ff;}#sk-container-id-4 div.sk-toggleable__content pre {margin: 0.2em;color: black;border-radius: 0.25em;background-color: #f0f8ff;}#sk-container-id-4 input.sk-toggleable__control:checked~div.sk-toggleable__content {max-height: 200px;max-width: 100%;overflow: auto;}#sk-container-id-4 input.sk-toggleable__control:checked~label.sk-toggleable__label-arrow:before {content: \"▾\";}#sk-container-id-4 div.sk-estimator input.sk-toggleable__control:checked~label.sk-toggleable__label {background-color: #d4ebff;}#sk-container-id-4 div.sk-label input.sk-toggleable__control:checked~label.sk-toggleable__label {background-color: #d4ebff;}#sk-container-id-4 input.sk-hidden--visually {border: 0;clip: rect(1px 1px 1px 1px);clip: rect(1px, 1px, 1px, 1px);height: 1px;margin: -1px;overflow: hidden;padding: 0;position: absolute;width: 1px;}#sk-container-id-4 div.sk-estimator {font-family: monospace;background-color: #f0f8ff;border: 1px dotted black;border-radius: 0.25em;box-sizing: border-box;margin-bottom: 0.5em;}#sk-container-id-4 div.sk-estimator:hover {background-color: #d4ebff;}#sk-container-id-4 div.sk-parallel-item::after {content: \"\";width: 100%;border-bottom: 1px solid gray;flex-grow: 1;}#sk-container-id-4 div.sk-label:hover label.sk-toggleable__label {background-color: #d4ebff;}#sk-container-id-4 div.sk-serial::before {content: \"\";position: absolute;border-left: 1px solid gray;box-sizing: border-box;top: 0;bottom: 0;left: 50%;z-index: 0;}#sk-container-id-4 div.sk-serial {display: flex;flex-direction: column;align-items: center;background-color: white;padding-right: 0.2em;padding-left: 0.2em;position: relative;}#sk-container-id-4 div.sk-item {position: relative;z-index: 1;}#sk-container-id-4 div.sk-parallel {display: flex;align-items: stretch;justify-content: center;background-color: white;position: relative;}#sk-container-id-4 div.sk-item::before, #sk-container-id-4 div.sk-parallel-item::before {content: \"\";position: absolute;border-left: 1px solid gray;box-sizing: border-box;top: 0;bottom: 0;left: 50%;z-index: -1;}#sk-container-id-4 div.sk-parallel-item {display: flex;flex-direction: column;z-index: 1;position: relative;background-color: white;}#sk-container-id-4 div.sk-parallel-item:first-child::after {align-self: flex-end;width: 50%;}#sk-container-id-4 div.sk-parallel-item:last-child::after {align-self: flex-start;width: 50%;}#sk-container-id-4 div.sk-parallel-item:only-child::after {width: 0;}#sk-container-id-4 div.sk-dashed-wrapped {border: 1px dashed gray;margin: 0 0.4em 0.5em 0.4em;box-sizing: border-box;padding-bottom: 0.4em;background-color: white;}#sk-container-id-4 div.sk-label label {font-family: monospace;font-weight: bold;display: inline-block;line-height: 1.2em;}#sk-container-id-4 div.sk-label-container {text-align: center;}#sk-container-id-4 div.sk-container {/* jupyter's `normalize.less` sets `[hidden] { display: none; }` but bootstrap.min.css set `[hidden] { display: none !important; }` so we also need the `!important` here to be able to override the default hidden behavior on the sphinx rendered scikit-learn.org. See: https://github.com/scikit-learn/scikit-learn/issues/21755 */display: inline-block !important;position: relative;}#sk-container-id-4 div.sk-text-repr-fallback {display: none;}</style><div id=\"sk-container-id-4\" class=\"sk-top-container\"><div class=\"sk-text-repr-fallback\"><pre>OrdinalEncoder()</pre><b>In a Jupyter environment, please rerun this cell to show the HTML representation or trust the notebook. <br />On GitHub, the HTML representation is unable to render, please try loading this page with nbviewer.org.</b></div><div class=\"sk-container\" hidden><div class=\"sk-item\"><div class=\"sk-estimator sk-toggleable\"><input class=\"sk-toggleable__control sk-hidden--visually\" id=\"sk-estimator-id-19\" type=\"checkbox\" checked><label for=\"sk-estimator-id-19\" class=\"sk-toggleable__label sk-toggleable__label-arrow\">OrdinalEncoder</label><div class=\"sk-toggleable__content\"><pre>OrdinalEncoder()</pre></div></div></div></div></div>"
      ],
      "text/plain": [
       "OrdinalEncoder()"
      ]
     },
     "execution_count": 57,
     "metadata": {},
     "output_type": "execute_result"
    }
   ],
   "source": [
    "enc = OrdinalEncoder()\n",
    "encoded_target = enc.fit(target)\n",
    "encoded_target"
   ]
  },
  {
   "cell_type": "code",
   "execution_count": 58,
   "metadata": {},
   "outputs": [
    {
     "data": {
      "text/plain": [
       "array([[0.],\n",
       "       [0.],\n",
       "       [0.],\n",
       "       ...,\n",
       "       [0.],\n",
       "       [0.],\n",
       "       [0.]])"
      ]
     },
     "execution_count": 58,
     "metadata": {},
     "output_type": "execute_result"
    }
   ],
   "source": [
    "encoded_target.transform(target)"
   ]
  },
  {
   "cell_type": "code",
   "execution_count": 73,
   "metadata": {},
   "outputs": [
    {
     "data": {
      "text/html": [
       "<style>#sk-container-id-8 {color: black;background-color: white;}#sk-container-id-8 pre{padding: 0;}#sk-container-id-8 div.sk-toggleable {background-color: white;}#sk-container-id-8 label.sk-toggleable__label {cursor: pointer;display: block;width: 100%;margin-bottom: 0;padding: 0.3em;box-sizing: border-box;text-align: center;}#sk-container-id-8 label.sk-toggleable__label-arrow:before {content: \"▸\";float: left;margin-right: 0.25em;color: #696969;}#sk-container-id-8 label.sk-toggleable__label-arrow:hover:before {color: black;}#sk-container-id-8 div.sk-estimator:hover label.sk-toggleable__label-arrow:before {color: black;}#sk-container-id-8 div.sk-toggleable__content {max-height: 0;max-width: 0;overflow: hidden;text-align: left;background-color: #f0f8ff;}#sk-container-id-8 div.sk-toggleable__content pre {margin: 0.2em;color: black;border-radius: 0.25em;background-color: #f0f8ff;}#sk-container-id-8 input.sk-toggleable__control:checked~div.sk-toggleable__content {max-height: 200px;max-width: 100%;overflow: auto;}#sk-container-id-8 input.sk-toggleable__control:checked~label.sk-toggleable__label-arrow:before {content: \"▾\";}#sk-container-id-8 div.sk-estimator input.sk-toggleable__control:checked~label.sk-toggleable__label {background-color: #d4ebff;}#sk-container-id-8 div.sk-label input.sk-toggleable__control:checked~label.sk-toggleable__label {background-color: #d4ebff;}#sk-container-id-8 input.sk-hidden--visually {border: 0;clip: rect(1px 1px 1px 1px);clip: rect(1px, 1px, 1px, 1px);height: 1px;margin: -1px;overflow: hidden;padding: 0;position: absolute;width: 1px;}#sk-container-id-8 div.sk-estimator {font-family: monospace;background-color: #f0f8ff;border: 1px dotted black;border-radius: 0.25em;box-sizing: border-box;margin-bottom: 0.5em;}#sk-container-id-8 div.sk-estimator:hover {background-color: #d4ebff;}#sk-container-id-8 div.sk-parallel-item::after {content: \"\";width: 100%;border-bottom: 1px solid gray;flex-grow: 1;}#sk-container-id-8 div.sk-label:hover label.sk-toggleable__label {background-color: #d4ebff;}#sk-container-id-8 div.sk-serial::before {content: \"\";position: absolute;border-left: 1px solid gray;box-sizing: border-box;top: 0;bottom: 0;left: 50%;z-index: 0;}#sk-container-id-8 div.sk-serial {display: flex;flex-direction: column;align-items: center;background-color: white;padding-right: 0.2em;padding-left: 0.2em;position: relative;}#sk-container-id-8 div.sk-item {position: relative;z-index: 1;}#sk-container-id-8 div.sk-parallel {display: flex;align-items: stretch;justify-content: center;background-color: white;position: relative;}#sk-container-id-8 div.sk-item::before, #sk-container-id-8 div.sk-parallel-item::before {content: \"\";position: absolute;border-left: 1px solid gray;box-sizing: border-box;top: 0;bottom: 0;left: 50%;z-index: -1;}#sk-container-id-8 div.sk-parallel-item {display: flex;flex-direction: column;z-index: 1;position: relative;background-color: white;}#sk-container-id-8 div.sk-parallel-item:first-child::after {align-self: flex-end;width: 50%;}#sk-container-id-8 div.sk-parallel-item:last-child::after {align-self: flex-start;width: 50%;}#sk-container-id-8 div.sk-parallel-item:only-child::after {width: 0;}#sk-container-id-8 div.sk-dashed-wrapped {border: 1px dashed gray;margin: 0 0.4em 0.5em 0.4em;box-sizing: border-box;padding-bottom: 0.4em;background-color: white;}#sk-container-id-8 div.sk-label label {font-family: monospace;font-weight: bold;display: inline-block;line-height: 1.2em;}#sk-container-id-8 div.sk-label-container {text-align: center;}#sk-container-id-8 div.sk-container {/* jupyter's `normalize.less` sets `[hidden] { display: none; }` but bootstrap.min.css set `[hidden] { display: none !important; }` so we also need the `!important` here to be able to override the default hidden behavior on the sphinx rendered scikit-learn.org. See: https://github.com/scikit-learn/scikit-learn/issues/21755 */display: inline-block !important;position: relative;}#sk-container-id-8 div.sk-text-repr-fallback {display: none;}</style><div id=\"sk-container-id-8\" class=\"sk-top-container\"><div class=\"sk-text-repr-fallback\"><pre>ColumnTransformer(transformers=[(&#x27;Numerical Pipeline&#x27;,\n",
       "                                 Pipeline(steps=[(&#x27;Imputer&#x27;,\n",
       "                                                  SimpleImputer(fill_value=0,\n",
       "                                                                strategy=&#x27;constant&#x27;)),\n",
       "                                                 (&#x27;Robust Scaler&#x27;,\n",
       "                                                  RobustScaler())]),\n",
       "                                 [&#x27;aa_000&#x27;, &#x27;ab_000&#x27;, &#x27;ac_000&#x27;, &#x27;ad_000&#x27;,\n",
       "                                  &#x27;ae_000&#x27;, &#x27;af_000&#x27;, &#x27;ag_000&#x27;, &#x27;ag_001&#x27;,\n",
       "                                  &#x27;ag_002&#x27;, &#x27;ag_003&#x27;, &#x27;ag_004&#x27;, &#x27;ag_005&#x27;,\n",
       "                                  &#x27;ag_006&#x27;, &#x27;ag_007&#x27;, &#x27;ag_008&#x27;, &#x27;ag_009&#x27;,\n",
       "                                  &#x27;ah_000&#x27;, &#x27;ai_000&#x27;, &#x27;aj_000&#x27;, &#x27;ak_000&#x27;,\n",
       "                                  &#x27;al_000&#x27;, &#x27;am_0&#x27;, &#x27;an_000&#x27;, &#x27;ao_000&#x27;,\n",
       "                                  &#x27;ap_000&#x27;, &#x27;aq_000&#x27;, &#x27;ar_000&#x27;, &#x27;as_000&#x27;,\n",
       "                                  &#x27;at_000&#x27;, &#x27;au_000&#x27;, ...]),\n",
       "                                (&#x27;Ordinal Encoder&#x27;, OrdinalEncoder(),\n",
       "                                 [&#x27;class&#x27;])])</pre><b>In a Jupyter environment, please rerun this cell to show the HTML representation or trust the notebook. <br />On GitHub, the HTML representation is unable to render, please try loading this page with nbviewer.org.</b></div><div class=\"sk-container\" hidden><div class=\"sk-item sk-dashed-wrapped\"><div class=\"sk-label-container\"><div class=\"sk-label sk-toggleable\"><input class=\"sk-toggleable__control sk-hidden--visually\" id=\"sk-estimator-id-28\" type=\"checkbox\" ><label for=\"sk-estimator-id-28\" class=\"sk-toggleable__label sk-toggleable__label-arrow\">ColumnTransformer</label><div class=\"sk-toggleable__content\"><pre>ColumnTransformer(transformers=[(&#x27;Numerical Pipeline&#x27;,\n",
       "                                 Pipeline(steps=[(&#x27;Imputer&#x27;,\n",
       "                                                  SimpleImputer(fill_value=0,\n",
       "                                                                strategy=&#x27;constant&#x27;)),\n",
       "                                                 (&#x27;Robust Scaler&#x27;,\n",
       "                                                  RobustScaler())]),\n",
       "                                 [&#x27;aa_000&#x27;, &#x27;ab_000&#x27;, &#x27;ac_000&#x27;, &#x27;ad_000&#x27;,\n",
       "                                  &#x27;ae_000&#x27;, &#x27;af_000&#x27;, &#x27;ag_000&#x27;, &#x27;ag_001&#x27;,\n",
       "                                  &#x27;ag_002&#x27;, &#x27;ag_003&#x27;, &#x27;ag_004&#x27;, &#x27;ag_005&#x27;,\n",
       "                                  &#x27;ag_006&#x27;, &#x27;ag_007&#x27;, &#x27;ag_008&#x27;, &#x27;ag_009&#x27;,\n",
       "                                  &#x27;ah_000&#x27;, &#x27;ai_000&#x27;, &#x27;aj_000&#x27;, &#x27;ak_000&#x27;,\n",
       "                                  &#x27;al_000&#x27;, &#x27;am_0&#x27;, &#x27;an_000&#x27;, &#x27;ao_000&#x27;,\n",
       "                                  &#x27;ap_000&#x27;, &#x27;aq_000&#x27;, &#x27;ar_000&#x27;, &#x27;as_000&#x27;,\n",
       "                                  &#x27;at_000&#x27;, &#x27;au_000&#x27;, ...]),\n",
       "                                (&#x27;Ordinal Encoder&#x27;, OrdinalEncoder(),\n",
       "                                 [&#x27;class&#x27;])])</pre></div></div></div><div class=\"sk-parallel\"><div class=\"sk-parallel-item\"><div class=\"sk-item\"><div class=\"sk-label-container\"><div class=\"sk-label sk-toggleable\"><input class=\"sk-toggleable__control sk-hidden--visually\" id=\"sk-estimator-id-29\" type=\"checkbox\" ><label for=\"sk-estimator-id-29\" class=\"sk-toggleable__label sk-toggleable__label-arrow\">Numerical Pipeline</label><div class=\"sk-toggleable__content\"><pre>[&#x27;aa_000&#x27;, &#x27;ab_000&#x27;, &#x27;ac_000&#x27;, &#x27;ad_000&#x27;, &#x27;ae_000&#x27;, &#x27;af_000&#x27;, &#x27;ag_000&#x27;, &#x27;ag_001&#x27;, &#x27;ag_002&#x27;, &#x27;ag_003&#x27;, &#x27;ag_004&#x27;, &#x27;ag_005&#x27;, &#x27;ag_006&#x27;, &#x27;ag_007&#x27;, &#x27;ag_008&#x27;, &#x27;ag_009&#x27;, &#x27;ah_000&#x27;, &#x27;ai_000&#x27;, &#x27;aj_000&#x27;, &#x27;ak_000&#x27;, &#x27;al_000&#x27;, &#x27;am_0&#x27;, &#x27;an_000&#x27;, &#x27;ao_000&#x27;, &#x27;ap_000&#x27;, &#x27;aq_000&#x27;, &#x27;ar_000&#x27;, &#x27;as_000&#x27;, &#x27;at_000&#x27;, &#x27;au_000&#x27;, &#x27;av_000&#x27;, &#x27;ax_000&#x27;, &#x27;ay_000&#x27;, &#x27;ay_001&#x27;, &#x27;ay_002&#x27;, &#x27;ay_003&#x27;, &#x27;ay_004&#x27;, &#x27;ay_005&#x27;, &#x27;ay_006&#x27;, &#x27;ay_007&#x27;, &#x27;ay_008&#x27;, &#x27;ay_009&#x27;, &#x27;az_000&#x27;, &#x27;az_001&#x27;, &#x27;az_002&#x27;, &#x27;az_003&#x27;, &#x27;az_004&#x27;, &#x27;az_005&#x27;, &#x27;az_006&#x27;, &#x27;az_007&#x27;, &#x27;az_008&#x27;, &#x27;az_009&#x27;, &#x27;ba_000&#x27;, &#x27;ba_001&#x27;, &#x27;ba_002&#x27;, &#x27;ba_003&#x27;, &#x27;ba_004&#x27;, &#x27;ba_005&#x27;, &#x27;ba_006&#x27;, &#x27;ba_007&#x27;, &#x27;ba_008&#x27;, &#x27;ba_009&#x27;, &#x27;bb_000&#x27;, &#x27;bc_000&#x27;, &#x27;bd_000&#x27;, &#x27;be_000&#x27;, &#x27;bf_000&#x27;, &#x27;bg_000&#x27;, &#x27;bh_000&#x27;, &#x27;bi_000&#x27;, &#x27;bj_000&#x27;, &#x27;bk_000&#x27;, &#x27;bl_000&#x27;, &#x27;bm_000&#x27;, &#x27;bn_000&#x27;, &#x27;bo_000&#x27;, &#x27;bp_000&#x27;, &#x27;bq_000&#x27;, &#x27;br_000&#x27;, &#x27;bs_000&#x27;, &#x27;bt_000&#x27;, &#x27;bu_000&#x27;, &#x27;bv_000&#x27;, &#x27;bx_000&#x27;, &#x27;by_000&#x27;, &#x27;bz_000&#x27;, &#x27;ca_000&#x27;, &#x27;cb_000&#x27;, &#x27;cc_000&#x27;, &#x27;cd_000&#x27;, &#x27;ce_000&#x27;, &#x27;cf_000&#x27;, &#x27;cg_000&#x27;, &#x27;ch_000&#x27;, &#x27;ci_000&#x27;, &#x27;cj_000&#x27;, &#x27;ck_000&#x27;, &#x27;cl_000&#x27;, &#x27;cm_000&#x27;, &#x27;cn_000&#x27;, &#x27;cn_001&#x27;, &#x27;cn_002&#x27;, &#x27;cn_003&#x27;, &#x27;cn_004&#x27;, &#x27;cn_005&#x27;, &#x27;cn_006&#x27;, &#x27;cn_007&#x27;, &#x27;cn_008&#x27;, &#x27;cn_009&#x27;, &#x27;co_000&#x27;, &#x27;cp_000&#x27;, &#x27;cq_000&#x27;, &#x27;cr_000&#x27;, &#x27;cs_000&#x27;, &#x27;cs_001&#x27;, &#x27;cs_002&#x27;, &#x27;cs_003&#x27;, &#x27;cs_004&#x27;, &#x27;cs_005&#x27;, &#x27;cs_006&#x27;, &#x27;cs_007&#x27;, &#x27;cs_008&#x27;, &#x27;cs_009&#x27;, &#x27;ct_000&#x27;, &#x27;cu_000&#x27;, &#x27;cv_000&#x27;, &#x27;cx_000&#x27;, &#x27;cy_000&#x27;, &#x27;cz_000&#x27;, &#x27;da_000&#x27;, &#x27;db_000&#x27;, &#x27;dc_000&#x27;, &#x27;dd_000&#x27;, &#x27;de_000&#x27;, &#x27;df_000&#x27;, &#x27;dg_000&#x27;, &#x27;dh_000&#x27;, &#x27;di_000&#x27;, &#x27;dj_000&#x27;, &#x27;dk_000&#x27;, &#x27;dl_000&#x27;, &#x27;dm_000&#x27;, &#x27;dn_000&#x27;, &#x27;do_000&#x27;, &#x27;dp_000&#x27;, &#x27;dq_000&#x27;, &#x27;dr_000&#x27;, &#x27;ds_000&#x27;, &#x27;dt_000&#x27;, &#x27;du_000&#x27;, &#x27;dv_000&#x27;, &#x27;dx_000&#x27;, &#x27;dy_000&#x27;, &#x27;dz_000&#x27;, &#x27;ea_000&#x27;, &#x27;eb_000&#x27;, &#x27;ec_00&#x27;, &#x27;ed_000&#x27;, &#x27;ee_000&#x27;, &#x27;ee_001&#x27;, &#x27;ee_002&#x27;, &#x27;ee_003&#x27;, &#x27;ee_004&#x27;, &#x27;ee_005&#x27;, &#x27;ee_006&#x27;, &#x27;ee_007&#x27;, &#x27;ee_008&#x27;, &#x27;ee_009&#x27;, &#x27;ef_000&#x27;, &#x27;eg_000&#x27;]</pre></div></div></div><div class=\"sk-serial\"><div class=\"sk-item\"><div class=\"sk-serial\"><div class=\"sk-item\"><div class=\"sk-estimator sk-toggleable\"><input class=\"sk-toggleable__control sk-hidden--visually\" id=\"sk-estimator-id-30\" type=\"checkbox\" ><label for=\"sk-estimator-id-30\" class=\"sk-toggleable__label sk-toggleable__label-arrow\">SimpleImputer</label><div class=\"sk-toggleable__content\"><pre>SimpleImputer(fill_value=0, strategy=&#x27;constant&#x27;)</pre></div></div></div><div class=\"sk-item\"><div class=\"sk-estimator sk-toggleable\"><input class=\"sk-toggleable__control sk-hidden--visually\" id=\"sk-estimator-id-31\" type=\"checkbox\" ><label for=\"sk-estimator-id-31\" class=\"sk-toggleable__label sk-toggleable__label-arrow\">RobustScaler</label><div class=\"sk-toggleable__content\"><pre>RobustScaler()</pre></div></div></div></div></div></div></div></div><div class=\"sk-parallel-item\"><div class=\"sk-item\"><div class=\"sk-label-container\"><div class=\"sk-label sk-toggleable\"><input class=\"sk-toggleable__control sk-hidden--visually\" id=\"sk-estimator-id-32\" type=\"checkbox\" ><label for=\"sk-estimator-id-32\" class=\"sk-toggleable__label sk-toggleable__label-arrow\">Ordinal Encoder</label><div class=\"sk-toggleable__content\"><pre>[&#x27;class&#x27;]</pre></div></div></div><div class=\"sk-serial\"><div class=\"sk-item\"><div class=\"sk-estimator sk-toggleable\"><input class=\"sk-toggleable__control sk-hidden--visually\" id=\"sk-estimator-id-33\" type=\"checkbox\" ><label for=\"sk-estimator-id-33\" class=\"sk-toggleable__label sk-toggleable__label-arrow\">OrdinalEncoder</label><div class=\"sk-toggleable__content\"><pre>OrdinalEncoder()</pre></div></div></div></div></div></div></div></div></div></div>"
      ],
      "text/plain": [
       "ColumnTransformer(transformers=[('Numerical Pipeline',\n",
       "                                 Pipeline(steps=[('Imputer',\n",
       "                                                  SimpleImputer(fill_value=0,\n",
       "                                                                strategy='constant')),\n",
       "                                                 ('Robust Scaler',\n",
       "                                                  RobustScaler())]),\n",
       "                                 ['aa_000', 'ab_000', 'ac_000', 'ad_000',\n",
       "                                  'ae_000', 'af_000', 'ag_000', 'ag_001',\n",
       "                                  'ag_002', 'ag_003', 'ag_004', 'ag_005',\n",
       "                                  'ag_006', 'ag_007', 'ag_008', 'ag_009',\n",
       "                                  'ah_000', 'ai_000', 'aj_000', 'ak_000',\n",
       "                                  'al_000', 'am_0', 'an_000', 'ao_000',\n",
       "                                  'ap_000', 'aq_000', 'ar_000', 'as_000',\n",
       "                                  'at_000', 'au_000', ...]),\n",
       "                                ('Ordinal Encoder', OrdinalEncoder(),\n",
       "                                 ['class'])])"
      ]
     },
     "execution_count": 73,
     "metadata": {},
     "output_type": "execute_result"
    }
   ],
   "source": [
    "full_pipeline3 = ColumnTransformer([\n",
    "    (\"Numerical Pipeline\", num_pipeline, num_atts), \n",
    "    (\"Ordinal Encoder\", OrdinalEncoder(), cat_atts)\n",
    "])\n",
    "full_pipeline3"
   ]
  },
  {
   "cell_type": "code",
   "execution_count": 76,
   "metadata": {},
   "outputs": [
    {
     "data": {
      "text/html": [
       "<style>#sk-container-id-9 {color: black;background-color: white;}#sk-container-id-9 pre{padding: 0;}#sk-container-id-9 div.sk-toggleable {background-color: white;}#sk-container-id-9 label.sk-toggleable__label {cursor: pointer;display: block;width: 100%;margin-bottom: 0;padding: 0.3em;box-sizing: border-box;text-align: center;}#sk-container-id-9 label.sk-toggleable__label-arrow:before {content: \"▸\";float: left;margin-right: 0.25em;color: #696969;}#sk-container-id-9 label.sk-toggleable__label-arrow:hover:before {color: black;}#sk-container-id-9 div.sk-estimator:hover label.sk-toggleable__label-arrow:before {color: black;}#sk-container-id-9 div.sk-toggleable__content {max-height: 0;max-width: 0;overflow: hidden;text-align: left;background-color: #f0f8ff;}#sk-container-id-9 div.sk-toggleable__content pre {margin: 0.2em;color: black;border-radius: 0.25em;background-color: #f0f8ff;}#sk-container-id-9 input.sk-toggleable__control:checked~div.sk-toggleable__content {max-height: 200px;max-width: 100%;overflow: auto;}#sk-container-id-9 input.sk-toggleable__control:checked~label.sk-toggleable__label-arrow:before {content: \"▾\";}#sk-container-id-9 div.sk-estimator input.sk-toggleable__control:checked~label.sk-toggleable__label {background-color: #d4ebff;}#sk-container-id-9 div.sk-label input.sk-toggleable__control:checked~label.sk-toggleable__label {background-color: #d4ebff;}#sk-container-id-9 input.sk-hidden--visually {border: 0;clip: rect(1px 1px 1px 1px);clip: rect(1px, 1px, 1px, 1px);height: 1px;margin: -1px;overflow: hidden;padding: 0;position: absolute;width: 1px;}#sk-container-id-9 div.sk-estimator {font-family: monospace;background-color: #f0f8ff;border: 1px dotted black;border-radius: 0.25em;box-sizing: border-box;margin-bottom: 0.5em;}#sk-container-id-9 div.sk-estimator:hover {background-color: #d4ebff;}#sk-container-id-9 div.sk-parallel-item::after {content: \"\";width: 100%;border-bottom: 1px solid gray;flex-grow: 1;}#sk-container-id-9 div.sk-label:hover label.sk-toggleable__label {background-color: #d4ebff;}#sk-container-id-9 div.sk-serial::before {content: \"\";position: absolute;border-left: 1px solid gray;box-sizing: border-box;top: 0;bottom: 0;left: 50%;z-index: 0;}#sk-container-id-9 div.sk-serial {display: flex;flex-direction: column;align-items: center;background-color: white;padding-right: 0.2em;padding-left: 0.2em;position: relative;}#sk-container-id-9 div.sk-item {position: relative;z-index: 1;}#sk-container-id-9 div.sk-parallel {display: flex;align-items: stretch;justify-content: center;background-color: white;position: relative;}#sk-container-id-9 div.sk-item::before, #sk-container-id-9 div.sk-parallel-item::before {content: \"\";position: absolute;border-left: 1px solid gray;box-sizing: border-box;top: 0;bottom: 0;left: 50%;z-index: -1;}#sk-container-id-9 div.sk-parallel-item {display: flex;flex-direction: column;z-index: 1;position: relative;background-color: white;}#sk-container-id-9 div.sk-parallel-item:first-child::after {align-self: flex-end;width: 50%;}#sk-container-id-9 div.sk-parallel-item:last-child::after {align-self: flex-start;width: 50%;}#sk-container-id-9 div.sk-parallel-item:only-child::after {width: 0;}#sk-container-id-9 div.sk-dashed-wrapped {border: 1px dashed gray;margin: 0 0.4em 0.5em 0.4em;box-sizing: border-box;padding-bottom: 0.4em;background-color: white;}#sk-container-id-9 div.sk-label label {font-family: monospace;font-weight: bold;display: inline-block;line-height: 1.2em;}#sk-container-id-9 div.sk-label-container {text-align: center;}#sk-container-id-9 div.sk-container {/* jupyter's `normalize.less` sets `[hidden] { display: none; }` but bootstrap.min.css set `[hidden] { display: none !important; }` so we also need the `!important` here to be able to override the default hidden behavior on the sphinx rendered scikit-learn.org. See: https://github.com/scikit-learn/scikit-learn/issues/21755 */display: inline-block !important;position: relative;}#sk-container-id-9 div.sk-text-repr-fallback {display: none;}</style><div id=\"sk-container-id-9\" class=\"sk-top-container\"><div class=\"sk-text-repr-fallback\"><pre>ColumnTransformer(transformers=[(&#x27;Numerical Pipeline&#x27;,\n",
       "                                 Pipeline(steps=[(&#x27;Imputer&#x27;,\n",
       "                                                  SimpleImputer(fill_value=0,\n",
       "                                                                strategy=&#x27;constant&#x27;)),\n",
       "                                                 (&#x27;Robust Scaler&#x27;,\n",
       "                                                  RobustScaler())]),\n",
       "                                 [&#x27;aa_000&#x27;, &#x27;ab_000&#x27;, &#x27;ac_000&#x27;, &#x27;ad_000&#x27;,\n",
       "                                  &#x27;ae_000&#x27;, &#x27;af_000&#x27;, &#x27;ag_000&#x27;, &#x27;ag_001&#x27;,\n",
       "                                  &#x27;ag_002&#x27;, &#x27;ag_003&#x27;, &#x27;ag_004&#x27;, &#x27;ag_005&#x27;,\n",
       "                                  &#x27;ag_006&#x27;, &#x27;ag_007&#x27;, &#x27;ag_008&#x27;, &#x27;ag_009&#x27;,\n",
       "                                  &#x27;ah_000&#x27;, &#x27;ai_000&#x27;, &#x27;aj_000&#x27;, &#x27;ak_000&#x27;,\n",
       "                                  &#x27;al_000&#x27;, &#x27;am_0&#x27;, &#x27;an_000&#x27;, &#x27;ao_000&#x27;,\n",
       "                                  &#x27;ap_000&#x27;, &#x27;aq_000&#x27;, &#x27;ar_000&#x27;, &#x27;as_000&#x27;,\n",
       "                                  &#x27;at_000&#x27;, &#x27;au_000&#x27;, ...]),\n",
       "                                (&#x27;Ordinal Encoder&#x27;, OrdinalEncoder(),\n",
       "                                 [&#x27;class&#x27;])])</pre><b>In a Jupyter environment, please rerun this cell to show the HTML representation or trust the notebook. <br />On GitHub, the HTML representation is unable to render, please try loading this page with nbviewer.org.</b></div><div class=\"sk-container\" hidden><div class=\"sk-item sk-dashed-wrapped\"><div class=\"sk-label-container\"><div class=\"sk-label sk-toggleable\"><input class=\"sk-toggleable__control sk-hidden--visually\" id=\"sk-estimator-id-34\" type=\"checkbox\" ><label for=\"sk-estimator-id-34\" class=\"sk-toggleable__label sk-toggleable__label-arrow\">ColumnTransformer</label><div class=\"sk-toggleable__content\"><pre>ColumnTransformer(transformers=[(&#x27;Numerical Pipeline&#x27;,\n",
       "                                 Pipeline(steps=[(&#x27;Imputer&#x27;,\n",
       "                                                  SimpleImputer(fill_value=0,\n",
       "                                                                strategy=&#x27;constant&#x27;)),\n",
       "                                                 (&#x27;Robust Scaler&#x27;,\n",
       "                                                  RobustScaler())]),\n",
       "                                 [&#x27;aa_000&#x27;, &#x27;ab_000&#x27;, &#x27;ac_000&#x27;, &#x27;ad_000&#x27;,\n",
       "                                  &#x27;ae_000&#x27;, &#x27;af_000&#x27;, &#x27;ag_000&#x27;, &#x27;ag_001&#x27;,\n",
       "                                  &#x27;ag_002&#x27;, &#x27;ag_003&#x27;, &#x27;ag_004&#x27;, &#x27;ag_005&#x27;,\n",
       "                                  &#x27;ag_006&#x27;, &#x27;ag_007&#x27;, &#x27;ag_008&#x27;, &#x27;ag_009&#x27;,\n",
       "                                  &#x27;ah_000&#x27;, &#x27;ai_000&#x27;, &#x27;aj_000&#x27;, &#x27;ak_000&#x27;,\n",
       "                                  &#x27;al_000&#x27;, &#x27;am_0&#x27;, &#x27;an_000&#x27;, &#x27;ao_000&#x27;,\n",
       "                                  &#x27;ap_000&#x27;, &#x27;aq_000&#x27;, &#x27;ar_000&#x27;, &#x27;as_000&#x27;,\n",
       "                                  &#x27;at_000&#x27;, &#x27;au_000&#x27;, ...]),\n",
       "                                (&#x27;Ordinal Encoder&#x27;, OrdinalEncoder(),\n",
       "                                 [&#x27;class&#x27;])])</pre></div></div></div><div class=\"sk-parallel\"><div class=\"sk-parallel-item\"><div class=\"sk-item\"><div class=\"sk-label-container\"><div class=\"sk-label sk-toggleable\"><input class=\"sk-toggleable__control sk-hidden--visually\" id=\"sk-estimator-id-35\" type=\"checkbox\" ><label for=\"sk-estimator-id-35\" class=\"sk-toggleable__label sk-toggleable__label-arrow\">Numerical Pipeline</label><div class=\"sk-toggleable__content\"><pre>[&#x27;aa_000&#x27;, &#x27;ab_000&#x27;, &#x27;ac_000&#x27;, &#x27;ad_000&#x27;, &#x27;ae_000&#x27;, &#x27;af_000&#x27;, &#x27;ag_000&#x27;, &#x27;ag_001&#x27;, &#x27;ag_002&#x27;, &#x27;ag_003&#x27;, &#x27;ag_004&#x27;, &#x27;ag_005&#x27;, &#x27;ag_006&#x27;, &#x27;ag_007&#x27;, &#x27;ag_008&#x27;, &#x27;ag_009&#x27;, &#x27;ah_000&#x27;, &#x27;ai_000&#x27;, &#x27;aj_000&#x27;, &#x27;ak_000&#x27;, &#x27;al_000&#x27;, &#x27;am_0&#x27;, &#x27;an_000&#x27;, &#x27;ao_000&#x27;, &#x27;ap_000&#x27;, &#x27;aq_000&#x27;, &#x27;ar_000&#x27;, &#x27;as_000&#x27;, &#x27;at_000&#x27;, &#x27;au_000&#x27;, &#x27;av_000&#x27;, &#x27;ax_000&#x27;, &#x27;ay_000&#x27;, &#x27;ay_001&#x27;, &#x27;ay_002&#x27;, &#x27;ay_003&#x27;, &#x27;ay_004&#x27;, &#x27;ay_005&#x27;, &#x27;ay_006&#x27;, &#x27;ay_007&#x27;, &#x27;ay_008&#x27;, &#x27;ay_009&#x27;, &#x27;az_000&#x27;, &#x27;az_001&#x27;, &#x27;az_002&#x27;, &#x27;az_003&#x27;, &#x27;az_004&#x27;, &#x27;az_005&#x27;, &#x27;az_006&#x27;, &#x27;az_007&#x27;, &#x27;az_008&#x27;, &#x27;az_009&#x27;, &#x27;ba_000&#x27;, &#x27;ba_001&#x27;, &#x27;ba_002&#x27;, &#x27;ba_003&#x27;, &#x27;ba_004&#x27;, &#x27;ba_005&#x27;, &#x27;ba_006&#x27;, &#x27;ba_007&#x27;, &#x27;ba_008&#x27;, &#x27;ba_009&#x27;, &#x27;bb_000&#x27;, &#x27;bc_000&#x27;, &#x27;bd_000&#x27;, &#x27;be_000&#x27;, &#x27;bf_000&#x27;, &#x27;bg_000&#x27;, &#x27;bh_000&#x27;, &#x27;bi_000&#x27;, &#x27;bj_000&#x27;, &#x27;bk_000&#x27;, &#x27;bl_000&#x27;, &#x27;bm_000&#x27;, &#x27;bn_000&#x27;, &#x27;bo_000&#x27;, &#x27;bp_000&#x27;, &#x27;bq_000&#x27;, &#x27;br_000&#x27;, &#x27;bs_000&#x27;, &#x27;bt_000&#x27;, &#x27;bu_000&#x27;, &#x27;bv_000&#x27;, &#x27;bx_000&#x27;, &#x27;by_000&#x27;, &#x27;bz_000&#x27;, &#x27;ca_000&#x27;, &#x27;cb_000&#x27;, &#x27;cc_000&#x27;, &#x27;cd_000&#x27;, &#x27;ce_000&#x27;, &#x27;cf_000&#x27;, &#x27;cg_000&#x27;, &#x27;ch_000&#x27;, &#x27;ci_000&#x27;, &#x27;cj_000&#x27;, &#x27;ck_000&#x27;, &#x27;cl_000&#x27;, &#x27;cm_000&#x27;, &#x27;cn_000&#x27;, &#x27;cn_001&#x27;, &#x27;cn_002&#x27;, &#x27;cn_003&#x27;, &#x27;cn_004&#x27;, &#x27;cn_005&#x27;, &#x27;cn_006&#x27;, &#x27;cn_007&#x27;, &#x27;cn_008&#x27;, &#x27;cn_009&#x27;, &#x27;co_000&#x27;, &#x27;cp_000&#x27;, &#x27;cq_000&#x27;, &#x27;cr_000&#x27;, &#x27;cs_000&#x27;, &#x27;cs_001&#x27;, &#x27;cs_002&#x27;, &#x27;cs_003&#x27;, &#x27;cs_004&#x27;, &#x27;cs_005&#x27;, &#x27;cs_006&#x27;, &#x27;cs_007&#x27;, &#x27;cs_008&#x27;, &#x27;cs_009&#x27;, &#x27;ct_000&#x27;, &#x27;cu_000&#x27;, &#x27;cv_000&#x27;, &#x27;cx_000&#x27;, &#x27;cy_000&#x27;, &#x27;cz_000&#x27;, &#x27;da_000&#x27;, &#x27;db_000&#x27;, &#x27;dc_000&#x27;, &#x27;dd_000&#x27;, &#x27;de_000&#x27;, &#x27;df_000&#x27;, &#x27;dg_000&#x27;, &#x27;dh_000&#x27;, &#x27;di_000&#x27;, &#x27;dj_000&#x27;, &#x27;dk_000&#x27;, &#x27;dl_000&#x27;, &#x27;dm_000&#x27;, &#x27;dn_000&#x27;, &#x27;do_000&#x27;, &#x27;dp_000&#x27;, &#x27;dq_000&#x27;, &#x27;dr_000&#x27;, &#x27;ds_000&#x27;, &#x27;dt_000&#x27;, &#x27;du_000&#x27;, &#x27;dv_000&#x27;, &#x27;dx_000&#x27;, &#x27;dy_000&#x27;, &#x27;dz_000&#x27;, &#x27;ea_000&#x27;, &#x27;eb_000&#x27;, &#x27;ec_00&#x27;, &#x27;ed_000&#x27;, &#x27;ee_000&#x27;, &#x27;ee_001&#x27;, &#x27;ee_002&#x27;, &#x27;ee_003&#x27;, &#x27;ee_004&#x27;, &#x27;ee_005&#x27;, &#x27;ee_006&#x27;, &#x27;ee_007&#x27;, &#x27;ee_008&#x27;, &#x27;ee_009&#x27;, &#x27;ef_000&#x27;, &#x27;eg_000&#x27;]</pre></div></div></div><div class=\"sk-serial\"><div class=\"sk-item\"><div class=\"sk-serial\"><div class=\"sk-item\"><div class=\"sk-estimator sk-toggleable\"><input class=\"sk-toggleable__control sk-hidden--visually\" id=\"sk-estimator-id-36\" type=\"checkbox\" ><label for=\"sk-estimator-id-36\" class=\"sk-toggleable__label sk-toggleable__label-arrow\">SimpleImputer</label><div class=\"sk-toggleable__content\"><pre>SimpleImputer(fill_value=0, strategy=&#x27;constant&#x27;)</pre></div></div></div><div class=\"sk-item\"><div class=\"sk-estimator sk-toggleable\"><input class=\"sk-toggleable__control sk-hidden--visually\" id=\"sk-estimator-id-37\" type=\"checkbox\" ><label for=\"sk-estimator-id-37\" class=\"sk-toggleable__label sk-toggleable__label-arrow\">RobustScaler</label><div class=\"sk-toggleable__content\"><pre>RobustScaler()</pre></div></div></div></div></div></div></div></div><div class=\"sk-parallel-item\"><div class=\"sk-item\"><div class=\"sk-label-container\"><div class=\"sk-label sk-toggleable\"><input class=\"sk-toggleable__control sk-hidden--visually\" id=\"sk-estimator-id-38\" type=\"checkbox\" ><label for=\"sk-estimator-id-38\" class=\"sk-toggleable__label sk-toggleable__label-arrow\">Ordinal Encoder</label><div class=\"sk-toggleable__content\"><pre>[&#x27;class&#x27;]</pre></div></div></div><div class=\"sk-serial\"><div class=\"sk-item\"><div class=\"sk-estimator sk-toggleable\"><input class=\"sk-toggleable__control sk-hidden--visually\" id=\"sk-estimator-id-39\" type=\"checkbox\" ><label for=\"sk-estimator-id-39\" class=\"sk-toggleable__label sk-toggleable__label-arrow\">OrdinalEncoder</label><div class=\"sk-toggleable__content\"><pre>OrdinalEncoder()</pre></div></div></div></div></div></div></div></div></div></div>"
      ],
      "text/plain": [
       "ColumnTransformer(transformers=[('Numerical Pipeline',\n",
       "                                 Pipeline(steps=[('Imputer',\n",
       "                                                  SimpleImputer(fill_value=0,\n",
       "                                                                strategy='constant')),\n",
       "                                                 ('Robust Scaler',\n",
       "                                                  RobustScaler())]),\n",
       "                                 ['aa_000', 'ab_000', 'ac_000', 'ad_000',\n",
       "                                  'ae_000', 'af_000', 'ag_000', 'ag_001',\n",
       "                                  'ag_002', 'ag_003', 'ag_004', 'ag_005',\n",
       "                                  'ag_006', 'ag_007', 'ag_008', 'ag_009',\n",
       "                                  'ah_000', 'ai_000', 'aj_000', 'ak_000',\n",
       "                                  'al_000', 'am_0', 'an_000', 'ao_000',\n",
       "                                  'ap_000', 'aq_000', 'ar_000', 'as_000',\n",
       "                                  'at_000', 'au_000', ...]),\n",
       "                                ('Ordinal Encoder', OrdinalEncoder(),\n",
       "                                 ['class'])])"
      ]
     },
     "execution_count": 76,
     "metadata": {},
     "output_type": "execute_result"
    }
   ],
   "source": [
    "full_pipeline3.fit(train_set)"
   ]
  },
  {
   "cell_type": "code",
   "execution_count": 77,
   "metadata": {},
   "outputs": [
    {
     "data": {
      "text/plain": [
       "array([[-6.30822265e-01,  2.00000000e+00, -8.73786408e-02, ...,\n",
       "         0.00000000e+00,  0.00000000e+00,  0.00000000e+00],\n",
       "       [-6.31065599e-01,  0.00000000e+00, -1.40776699e-01, ...,\n",
       "         0.00000000e+00,  0.00000000e+00,  0.00000000e+00],\n",
       "       [ 2.09733347e-01,  0.00000000e+00,  5.84951456e-01, ...,\n",
       "         0.00000000e+00,  0.00000000e+00,  0.00000000e+00],\n",
       "       ...,\n",
       "       [-5.94808882e-01,  0.00000000e+00, -8.73786408e-02, ...,\n",
       "         0.00000000e+00,  0.00000000e+00,  0.00000000e+00],\n",
       "       [ 3.01249113e+00,  0.00000000e+00,  2.58580864e+06, ...,\n",
       "         0.00000000e+00,  0.00000000e+00,  0.00000000e+00],\n",
       "       [-7.40139917e-03,  0.00000000e+00,  4.97572816e-01, ...,\n",
       "         0.00000000e+00,  0.00000000e+00,  0.00000000e+00]])"
      ]
     },
     "execution_count": 77,
     "metadata": {},
     "output_type": "execute_result"
    }
   ],
   "source": [
    "full_pipeline3.transform(train_set)"
   ]
  },
  {
   "cell_type": "code",
   "execution_count": 80,
   "metadata": {},
   "outputs": [
    {
     "data": {
      "text/plain": [
       "(28950, 170)"
      ]
     },
     "execution_count": 80,
     "metadata": {},
     "output_type": "execute_result"
    }
   ],
   "source": [
    "train_num = num_pipeline.fit_transform(train_set.drop(columns=[\"class\"]))\n",
    "train_num.shape"
   ]
  },
  {
   "cell_type": "code",
   "execution_count": 95,
   "metadata": {},
   "outputs": [],
   "source": [
    "train_df_num = pd.DataFrame(train_num)\n",
    "train_df_num.to_csv('traindf_num.csv', index=None)"
   ]
  },
  {
   "cell_type": "code",
   "execution_count": 96,
   "metadata": {},
   "outputs": [],
   "source": [
    "train_df = pd.DataFrame(train_arr)\n",
    "train_df.to_csv('traindf.csv', index=None)"
   ]
  },
  {
   "cell_type": "code",
   "execution_count": 85,
   "metadata": {},
   "outputs": [
    {
     "data": {
      "text/html": [
       "<div>\n",
       "<style scoped>\n",
       "    .dataframe tbody tr th:only-of-type {\n",
       "        vertical-align: middle;\n",
       "    }\n",
       "\n",
       "    .dataframe tbody tr th {\n",
       "        vertical-align: top;\n",
       "    }\n",
       "\n",
       "    .dataframe thead th {\n",
       "        text-align: right;\n",
       "    }\n",
       "</style>\n",
       "<table border=\"1\" class=\"dataframe\">\n",
       "  <thead>\n",
       "    <tr style=\"text-align: right;\">\n",
       "      <th></th>\n",
       "      <th>0</th>\n",
       "      <th>1</th>\n",
       "      <th>2</th>\n",
       "      <th>3</th>\n",
       "      <th>4</th>\n",
       "      <th>5</th>\n",
       "      <th>6</th>\n",
       "      <th>7</th>\n",
       "      <th>8</th>\n",
       "      <th>9</th>\n",
       "      <th>...</th>\n",
       "      <th>161</th>\n",
       "      <th>162</th>\n",
       "      <th>163</th>\n",
       "      <th>164</th>\n",
       "      <th>165</th>\n",
       "      <th>166</th>\n",
       "      <th>167</th>\n",
       "      <th>168</th>\n",
       "      <th>169</th>\n",
       "      <th>170</th>\n",
       "    </tr>\n",
       "  </thead>\n",
       "  <tbody>\n",
       "    <tr>\n",
       "      <th>0</th>\n",
       "      <td>-0.630822</td>\n",
       "      <td>2.0</td>\n",
       "      <td>-0.087379</td>\n",
       "      <td>-0.138169</td>\n",
       "      <td>0.0</td>\n",
       "      <td>0.0</td>\n",
       "      <td>0.0</td>\n",
       "      <td>0.0</td>\n",
       "      <td>3454.0</td>\n",
       "      <td>5468.0</td>\n",
       "      <td>...</td>\n",
       "      <td>-0.510374</td>\n",
       "      <td>-0.474944</td>\n",
       "      <td>-0.471981</td>\n",
       "      <td>-0.330238</td>\n",
       "      <td>-0.245357</td>\n",
       "      <td>-0.027335</td>\n",
       "      <td>0.000000</td>\n",
       "      <td>0.0</td>\n",
       "      <td>0.0</td>\n",
       "      <td>0.0</td>\n",
       "    </tr>\n",
       "    <tr>\n",
       "      <th>1</th>\n",
       "      <td>-0.631066</td>\n",
       "      <td>0.0</td>\n",
       "      <td>-0.140777</td>\n",
       "      <td>-0.138169</td>\n",
       "      <td>0.0</td>\n",
       "      <td>0.0</td>\n",
       "      <td>0.0</td>\n",
       "      <td>0.0</td>\n",
       "      <td>0.0</td>\n",
       "      <td>0.0</td>\n",
       "      <td>...</td>\n",
       "      <td>-0.510411</td>\n",
       "      <td>-0.474965</td>\n",
       "      <td>-0.471927</td>\n",
       "      <td>-0.329914</td>\n",
       "      <td>-0.245204</td>\n",
       "      <td>-0.027335</td>\n",
       "      <td>0.000000</td>\n",
       "      <td>0.0</td>\n",
       "      <td>0.0</td>\n",
       "      <td>0.0</td>\n",
       "    </tr>\n",
       "    <tr>\n",
       "      <th>2</th>\n",
       "      <td>0.209733</td>\n",
       "      <td>0.0</td>\n",
       "      <td>0.584951</td>\n",
       "      <td>-0.138169</td>\n",
       "      <td>0.0</td>\n",
       "      <td>0.0</td>\n",
       "      <td>0.0</td>\n",
       "      <td>0.0</td>\n",
       "      <td>0.0</td>\n",
       "      <td>0.0</td>\n",
       "      <td>...</td>\n",
       "      <td>0.294651</td>\n",
       "      <td>0.264527</td>\n",
       "      <td>0.306422</td>\n",
       "      <td>0.525199</td>\n",
       "      <td>0.632957</td>\n",
       "      <td>1.807659</td>\n",
       "      <td>8.042901</td>\n",
       "      <td>0.0</td>\n",
       "      <td>0.0</td>\n",
       "      <td>0.0</td>\n",
       "    </tr>\n",
       "    <tr>\n",
       "      <th>3</th>\n",
       "      <td>-0.247450</td>\n",
       "      <td>0.0</td>\n",
       "      <td>1.565534</td>\n",
       "      <td>4.718480</td>\n",
       "      <td>0.0</td>\n",
       "      <td>0.0</td>\n",
       "      <td>0.0</td>\n",
       "      <td>0.0</td>\n",
       "      <td>0.0</td>\n",
       "      <td>0.0</td>\n",
       "      <td>...</td>\n",
       "      <td>-0.487275</td>\n",
       "      <td>-0.471297</td>\n",
       "      <td>-0.471814</td>\n",
       "      <td>-0.330224</td>\n",
       "      <td>-0.245357</td>\n",
       "      <td>-0.027335</td>\n",
       "      <td>0.000000</td>\n",
       "      <td>0.0</td>\n",
       "      <td>0.0</td>\n",
       "      <td>0.0</td>\n",
       "    </tr>\n",
       "    <tr>\n",
       "      <th>4</th>\n",
       "      <td>-0.630741</td>\n",
       "      <td>0.0</td>\n",
       "      <td>-0.116505</td>\n",
       "      <td>-0.069085</td>\n",
       "      <td>0.0</td>\n",
       "      <td>0.0</td>\n",
       "      <td>0.0</td>\n",
       "      <td>0.0</td>\n",
       "      <td>0.0</td>\n",
       "      <td>0.0</td>\n",
       "      <td>...</td>\n",
       "      <td>-0.510184</td>\n",
       "      <td>-0.474889</td>\n",
       "      <td>-0.472040</td>\n",
       "      <td>-0.330274</td>\n",
       "      <td>-0.245357</td>\n",
       "      <td>-0.027335</td>\n",
       "      <td>0.000000</td>\n",
       "      <td>0.0</td>\n",
       "      <td>0.0</td>\n",
       "      <td>0.0</td>\n",
       "    </tr>\n",
       "  </tbody>\n",
       "</table>\n",
       "<p>5 rows × 171 columns</p>\n",
       "</div>"
      ],
      "text/plain": [
       "        0    1         2         3    4    5    6    7       8       9    ...  \\\n",
       "0 -0.630822  2.0 -0.087379 -0.138169  0.0  0.0  0.0  0.0  3454.0  5468.0  ...   \n",
       "1 -0.631066  0.0 -0.140777 -0.138169  0.0  0.0  0.0  0.0     0.0     0.0  ...   \n",
       "2  0.209733  0.0  0.584951 -0.138169  0.0  0.0  0.0  0.0     0.0     0.0  ...   \n",
       "3 -0.247450  0.0  1.565534  4.718480  0.0  0.0  0.0  0.0     0.0     0.0  ...   \n",
       "4 -0.630741  0.0 -0.116505 -0.069085  0.0  0.0  0.0  0.0     0.0     0.0  ...   \n",
       "\n",
       "        161       162       163       164       165       166       167  168  \\\n",
       "0 -0.510374 -0.474944 -0.471981 -0.330238 -0.245357 -0.027335  0.000000  0.0   \n",
       "1 -0.510411 -0.474965 -0.471927 -0.329914 -0.245204 -0.027335  0.000000  0.0   \n",
       "2  0.294651  0.264527  0.306422  0.525199  0.632957  1.807659  8.042901  0.0   \n",
       "3 -0.487275 -0.471297 -0.471814 -0.330224 -0.245357 -0.027335  0.000000  0.0   \n",
       "4 -0.510184 -0.474889 -0.472040 -0.330274 -0.245357 -0.027335  0.000000  0.0   \n",
       "\n",
       "   169  170  \n",
       "0  0.0  0.0  \n",
       "1  0.0  0.0  \n",
       "2  0.0  0.0  \n",
       "3  0.0  0.0  \n",
       "4  0.0  0.0  \n",
       "\n",
       "[5 rows x 171 columns]"
      ]
     },
     "execution_count": 85,
     "metadata": {},
     "output_type": "execute_result"
    }
   ],
   "source": [
    "train_df.head()"
   ]
  },
  {
   "cell_type": "code",
   "execution_count": 88,
   "metadata": {},
   "outputs": [
    {
     "data": {
      "text/html": [
       "<div>\n",
       "<style scoped>\n",
       "    .dataframe tbody tr th:only-of-type {\n",
       "        vertical-align: middle;\n",
       "    }\n",
       "\n",
       "    .dataframe tbody tr th {\n",
       "        vertical-align: top;\n",
       "    }\n",
       "\n",
       "    .dataframe thead th {\n",
       "        text-align: right;\n",
       "    }\n",
       "</style>\n",
       "<table border=\"1\" class=\"dataframe\">\n",
       "  <thead>\n",
       "    <tr style=\"text-align: right;\">\n",
       "      <th></th>\n",
       "      <th>0</th>\n",
       "      <th>1</th>\n",
       "      <th>2</th>\n",
       "      <th>3</th>\n",
       "      <th>4</th>\n",
       "      <th>5</th>\n",
       "      <th>6</th>\n",
       "      <th>7</th>\n",
       "      <th>8</th>\n",
       "      <th>9</th>\n",
       "      <th>...</th>\n",
       "      <th>160</th>\n",
       "      <th>161</th>\n",
       "      <th>162</th>\n",
       "      <th>163</th>\n",
       "      <th>164</th>\n",
       "      <th>165</th>\n",
       "      <th>166</th>\n",
       "      <th>167</th>\n",
       "      <th>168</th>\n",
       "      <th>169</th>\n",
       "    </tr>\n",
       "  </thead>\n",
       "  <tbody>\n",
       "    <tr>\n",
       "      <th>0</th>\n",
       "      <td>-0.630822</td>\n",
       "      <td>2.0</td>\n",
       "      <td>-0.087379</td>\n",
       "      <td>-0.138169</td>\n",
       "      <td>0.0</td>\n",
       "      <td>0.0</td>\n",
       "      <td>0.0</td>\n",
       "      <td>0.0</td>\n",
       "      <td>3454.0</td>\n",
       "      <td>5468.0</td>\n",
       "      <td>...</td>\n",
       "      <td>-0.530986</td>\n",
       "      <td>-0.510374</td>\n",
       "      <td>-0.474944</td>\n",
       "      <td>-0.471981</td>\n",
       "      <td>-0.330238</td>\n",
       "      <td>-0.245357</td>\n",
       "      <td>-0.027335</td>\n",
       "      <td>0.000000</td>\n",
       "      <td>0.0</td>\n",
       "      <td>0.0</td>\n",
       "    </tr>\n",
       "    <tr>\n",
       "      <th>1</th>\n",
       "      <td>-0.631066</td>\n",
       "      <td>0.0</td>\n",
       "      <td>-0.140777</td>\n",
       "      <td>-0.138169</td>\n",
       "      <td>0.0</td>\n",
       "      <td>0.0</td>\n",
       "      <td>0.0</td>\n",
       "      <td>0.0</td>\n",
       "      <td>0.0</td>\n",
       "      <td>0.0</td>\n",
       "      <td>...</td>\n",
       "      <td>-0.531347</td>\n",
       "      <td>-0.510411</td>\n",
       "      <td>-0.474965</td>\n",
       "      <td>-0.471927</td>\n",
       "      <td>-0.329914</td>\n",
       "      <td>-0.245204</td>\n",
       "      <td>-0.027335</td>\n",
       "      <td>0.000000</td>\n",
       "      <td>0.0</td>\n",
       "      <td>0.0</td>\n",
       "    </tr>\n",
       "    <tr>\n",
       "      <th>2</th>\n",
       "      <td>0.209733</td>\n",
       "      <td>0.0</td>\n",
       "      <td>0.584951</td>\n",
       "      <td>-0.138169</td>\n",
       "      <td>0.0</td>\n",
       "      <td>0.0</td>\n",
       "      <td>0.0</td>\n",
       "      <td>0.0</td>\n",
       "      <td>0.0</td>\n",
       "      <td>0.0</td>\n",
       "      <td>...</td>\n",
       "      <td>0.217187</td>\n",
       "      <td>0.294651</td>\n",
       "      <td>0.264527</td>\n",
       "      <td>0.306422</td>\n",
       "      <td>0.525199</td>\n",
       "      <td>0.632957</td>\n",
       "      <td>1.807659</td>\n",
       "      <td>8.042901</td>\n",
       "      <td>0.0</td>\n",
       "      <td>0.0</td>\n",
       "    </tr>\n",
       "    <tr>\n",
       "      <th>3</th>\n",
       "      <td>-0.247450</td>\n",
       "      <td>0.0</td>\n",
       "      <td>1.565534</td>\n",
       "      <td>4.718480</td>\n",
       "      <td>0.0</td>\n",
       "      <td>0.0</td>\n",
       "      <td>0.0</td>\n",
       "      <td>0.0</td>\n",
       "      <td>0.0</td>\n",
       "      <td>0.0</td>\n",
       "      <td>...</td>\n",
       "      <td>-0.400190</td>\n",
       "      <td>-0.487275</td>\n",
       "      <td>-0.471297</td>\n",
       "      <td>-0.471814</td>\n",
       "      <td>-0.330224</td>\n",
       "      <td>-0.245357</td>\n",
       "      <td>-0.027335</td>\n",
       "      <td>0.000000</td>\n",
       "      <td>0.0</td>\n",
       "      <td>0.0</td>\n",
       "    </tr>\n",
       "    <tr>\n",
       "      <th>4</th>\n",
       "      <td>-0.630741</td>\n",
       "      <td>0.0</td>\n",
       "      <td>-0.116505</td>\n",
       "      <td>-0.069085</td>\n",
       "      <td>0.0</td>\n",
       "      <td>0.0</td>\n",
       "      <td>0.0</td>\n",
       "      <td>0.0</td>\n",
       "      <td>0.0</td>\n",
       "      <td>0.0</td>\n",
       "      <td>...</td>\n",
       "      <td>-0.530282</td>\n",
       "      <td>-0.510184</td>\n",
       "      <td>-0.474889</td>\n",
       "      <td>-0.472040</td>\n",
       "      <td>-0.330274</td>\n",
       "      <td>-0.245357</td>\n",
       "      <td>-0.027335</td>\n",
       "      <td>0.000000</td>\n",
       "      <td>0.0</td>\n",
       "      <td>0.0</td>\n",
       "    </tr>\n",
       "  </tbody>\n",
       "</table>\n",
       "<p>5 rows × 170 columns</p>\n",
       "</div>"
      ],
      "text/plain": [
       "        0    1         2         3    4    5    6    7       8       9    ...  \\\n",
       "0 -0.630822  2.0 -0.087379 -0.138169  0.0  0.0  0.0  0.0  3454.0  5468.0  ...   \n",
       "1 -0.631066  0.0 -0.140777 -0.138169  0.0  0.0  0.0  0.0     0.0     0.0  ...   \n",
       "2  0.209733  0.0  0.584951 -0.138169  0.0  0.0  0.0  0.0     0.0     0.0  ...   \n",
       "3 -0.247450  0.0  1.565534  4.718480  0.0  0.0  0.0  0.0     0.0     0.0  ...   \n",
       "4 -0.630741  0.0 -0.116505 -0.069085  0.0  0.0  0.0  0.0     0.0     0.0  ...   \n",
       "\n",
       "        160       161       162       163       164       165       166  \\\n",
       "0 -0.530986 -0.510374 -0.474944 -0.471981 -0.330238 -0.245357 -0.027335   \n",
       "1 -0.531347 -0.510411 -0.474965 -0.471927 -0.329914 -0.245204 -0.027335   \n",
       "2  0.217187  0.294651  0.264527  0.306422  0.525199  0.632957  1.807659   \n",
       "3 -0.400190 -0.487275 -0.471297 -0.471814 -0.330224 -0.245357 -0.027335   \n",
       "4 -0.530282 -0.510184 -0.474889 -0.472040 -0.330274 -0.245357 -0.027335   \n",
       "\n",
       "        167  168  169  \n",
       "0  0.000000  0.0  0.0  \n",
       "1  0.000000  0.0  0.0  \n",
       "2  8.042901  0.0  0.0  \n",
       "3  0.000000  0.0  0.0  \n",
       "4  0.000000  0.0  0.0  \n",
       "\n",
       "[5 rows x 170 columns]"
      ]
     },
     "execution_count": 88,
     "metadata": {},
     "output_type": "execute_result"
    }
   ],
   "source": [
    "train_df_num.head()"
   ]
  },
  {
   "cell_type": "code",
   "execution_count": 89,
   "metadata": {},
   "outputs": [
    {
     "data": {
      "text/plain": [
       "0        0.0\n",
       "1        0.0\n",
       "2        0.0\n",
       "3        0.0\n",
       "4        0.0\n",
       "        ... \n",
       "28945    0.0\n",
       "28946    0.0\n",
       "28947    0.0\n",
       "28948    0.0\n",
       "28949    0.0\n",
       "Name: 170, Length: 28950, dtype: float64"
      ]
     },
     "execution_count": 89,
     "metadata": {},
     "output_type": "execute_result"
    }
   ],
   "source": [
    "train_df.iloc[:, -1]"
   ]
  },
  {
   "cell_type": "code",
   "execution_count": 93,
   "metadata": {},
   "outputs": [
    {
     "data": {
      "text/plain": [
       "0        0.0\n",
       "1        0.0\n",
       "2        0.0\n",
       "3        0.0\n",
       "4        0.0\n",
       "        ... \n",
       "28945    0.0\n",
       "28946    0.0\n",
       "28947    0.0\n",
       "28948    0.0\n",
       "28949    0.0\n",
       "Name: 169, Length: 28950, dtype: float64"
      ]
     },
     "execution_count": 93,
     "metadata": {},
     "output_type": "execute_result"
    }
   ],
   "source": [
    "train_df_num.iloc[:, -1]"
   ]
  },
  {
   "cell_type": "code",
   "execution_count": 94,
   "metadata": {},
   "outputs": [
    {
     "data": {
      "text/plain": [
       "array([-7.40139917e-03,  0.00000000e+00,  4.97572816e-01,  1.60967185e+00,\n",
       "        0.00000000e+00,  0.00000000e+00,  0.00000000e+00,  0.00000000e+00,\n",
       "        0.00000000e+00,  0.00000000e+00, -6.73441383e-02, -1.28482705e-01,\n",
       "        8.22472455e-02,  7.84158256e-01,  1.09485346e+00,  5.11392405e+00,\n",
       "       -1.69721985e-01,  0.00000000e+00,  0.00000000e+00,  0.00000000e+00,\n",
       "        0.00000000e+00,  0.00000000e+00, -1.05332853e-01, -9.31317844e-02,\n",
       "       -1.60266715e-01, -1.44522434e-02,  0.00000000e+00,  0.00000000e+00,\n",
       "        0.00000000e+00,  0.00000000e+00,  5.03333333e-01,  3.96694215e-01,\n",
       "        0.00000000e+00,  0.00000000e+00,  0.00000000e+00,  0.00000000e+00,\n",
       "        0.00000000e+00,  0.00000000e+00,  1.47046876e-01,  6.81605787e-01,\n",
       "        1.10404676e-01,  0.00000000e+00, -3.43034056e-01, -2.88342033e-02,\n",
       "       -5.44174136e-02,  6.99167711e-01,  7.04882362e-01, -7.19942744e-02,\n",
       "       -2.52380952e-02,  0.00000000e+00,  0.00000000e+00,  0.00000000e+00,\n",
       "       -2.05211364e-01,  8.07570563e-02,  8.76474597e-02,  7.54903940e-02,\n",
       "        2.46605361e-02,  3.35965862e-03,  2.84875338e-01,  7.02394441e-01,\n",
       "       -1.12820513e-02,  0.00000000e+00, -1.36738966e-01,  4.69841270e+00,\n",
       "        4.56796117e+00,  1.04123711e+00,  1.22222222e+00, -1.69875252e-01,\n",
       "       -1.59051834e-01, -1.40398753e-01, -1.21692817e-01, -8.74498763e-03,\n",
       "       -5.53962328e-01,  0.00000000e+00,  0.00000000e+00,  0.00000000e+00,\n",
       "        0.00000000e+00,  0.00000000e+00,  0.00000000e+00,  3.84766392e-01,\n",
       "       -7.15948072e-03, -1.36404450e-01, -1.36404450e-01, -7.17100008e-02,\n",
       "        2.02815528e-02,  1.06909385e+00,  6.86783333e-01,  5.66310751e-01,\n",
       "       -5.65448803e-02,  0.00000000e+00,  5.65871931e-01,  1.00000000e+00,\n",
       "        4.14634146e-01,  0.00000000e+00, -8.64682007e-02,  0.00000000e+00,\n",
       "       -1.86746666e-01,  0.00000000e+00,  0.00000000e+00,  0.00000000e+00,\n",
       "        0.00000000e+00,  0.00000000e+00, -9.72070291e-02, -1.51664508e-01,\n",
       "        1.33540893e-01,  8.68694578e-01,  2.41088809e-01,  4.58531137e-01,\n",
       "        7.28476821e-01,  1.47500000e+01,  7.11764706e+00, -1.36404450e-01,\n",
       "        0.00000000e+00, -2.52764264e-01, -1.63690476e-01, -2.39535720e-02,\n",
       "       -6.61975075e-02, -2.93149529e-01, -4.88281879e-02,  3.50967503e-01,\n",
       "        5.37458048e-01,  6.66666667e-01,  0.00000000e+00,  1.53305785e+00,\n",
       "        4.56026059e-01,  5.41572482e-01,  5.70893139e+00,  0.00000000e+00,\n",
       "        2.49650489e+00,  0.00000000e+00,  2.83333333e+00,  6.46055228e-01,\n",
       "       -1.14331401e-01,  4.24778761e-01,  0.00000000e+00,  0.00000000e+00,\n",
       "        0.00000000e+00,  0.00000000e+00,  0.00000000e+00,  0.00000000e+00,\n",
       "        0.00000000e+00,  0.00000000e+00, -1.43257082e-01,  3.65948485e-01,\n",
       "        2.54594462e-01,  0.00000000e+00,  0.00000000e+00,  2.12676461e-02,\n",
       "       -6.10429626e-03,  3.30526470e-01,  3.29571848e-01,  0.00000000e+00,\n",
       "        0.00000000e+00,  0.00000000e+00,  0.00000000e+00,  8.56573918e-01,\n",
       "        1.66516585e-01,  2.03675345e-01, -1.80467054e-01, -1.04163044e-01,\n",
       "       -1.21160951e-01, -1.11892673e-01, -6.19589813e-02,  5.04811105e-01,\n",
       "        3.23885984e-01,  4.25320423e-01,  1.15737253e+00,  9.11031665e+00,\n",
       "        0.00000000e+00,  0.00000000e+00,  0.00000000e+00])"
      ]
     },
     "execution_count": 94,
     "metadata": {},
     "output_type": "execute_result"
    }
   ],
   "source": [
    "train_arr[-1]"
   ]
  },
  {
   "cell_type": "code",
   "execution_count": 102,
   "metadata": {},
   "outputs": [
    {
     "data": {
      "text/plain": [
       "0     0.0\n",
       "70    1.0\n",
       "Name: 170, dtype: float64"
      ]
     },
     "execution_count": 102,
     "metadata": {},
     "output_type": "execute_result"
    }
   ],
   "source": [
    "train_df.iloc[:, -1].drop_duplicates()"
   ]
  },
  {
   "cell_type": "code",
   "execution_count": 101,
   "metadata": {},
   "outputs": [
    {
     "data": {
      "text/plain": [
       "0           0.0\n",
       "27          2.0\n",
       "50          4.0\n",
       "89        430.0\n",
       "169         6.0\n",
       "1362       12.0\n",
       "1379       10.0\n",
       "3856        8.0\n",
       "4029       40.0\n",
       "4394       26.0\n",
       "5010       68.0\n",
       "5910       56.0\n",
       "7214       36.0\n",
       "9057       32.0\n",
       "9961       14.0\n",
       "10210      70.0\n",
       "10412      16.0\n",
       "14546      20.0\n",
       "14983      48.0\n",
       "15727     416.0\n",
       "16556     182.0\n",
       "19056      46.0\n",
       "19065     200.0\n",
       "19298     222.0\n",
       "21295     164.0\n",
       "21345    1146.0\n",
       "21785      94.0\n",
       "25706      42.0\n",
       "26995     102.0\n",
       "27311      72.0\n",
       "27312      24.0\n",
       "28489     108.0\n",
       "28527      80.0\n",
       "Name: 169, dtype: float64"
      ]
     },
     "execution_count": 101,
     "metadata": {},
     "output_type": "execute_result"
    }
   ],
   "source": [
    "train_df_num.iloc[:, -1].drop_duplicates()"
   ]
  },
  {
   "cell_type": "code",
   "execution_count": 105,
   "metadata": {},
   "outputs": [
    {
     "data": {
      "text/plain": [
       "array([-5.53962328e-01, -3.43034056e-01, -2.93149529e-01, -2.52764264e-01,\n",
       "       -2.05211364e-01, -1.86746666e-01, -1.80467054e-01, -1.69875252e-01,\n",
       "       -1.69721985e-01, -1.63690476e-01, -1.60266715e-01, -1.59051834e-01,\n",
       "       -1.51664508e-01, -1.43257082e-01, -1.40398753e-01, -1.36738966e-01,\n",
       "       -1.36404450e-01, -1.28482705e-01, -1.21692817e-01, -1.21160951e-01,\n",
       "       -1.14331401e-01, -1.11892673e-01, -1.05332853e-01, -1.04163044e-01,\n",
       "       -9.72070291e-02, -9.31317844e-02, -8.64682007e-02, -7.19942744e-02,\n",
       "       -7.17100008e-02, -6.73441383e-02, -6.61975075e-02, -6.19589813e-02,\n",
       "       -5.65448803e-02, -5.44174136e-02, -4.88281879e-02, -2.88342033e-02,\n",
       "       -2.52380952e-02, -2.39535720e-02, -1.44522434e-02, -1.12820513e-02,\n",
       "       -8.74498763e-03, -7.40139917e-03, -7.15948072e-03, -6.10429626e-03,\n",
       "        0.00000000e+00,  3.35965862e-03,  2.02815528e-02,  2.12676461e-02,\n",
       "        2.46605361e-02,  7.54903940e-02,  8.07570563e-02,  8.22472455e-02,\n",
       "        8.76474597e-02,  1.10404676e-01,  1.33540893e-01,  1.47046876e-01,\n",
       "        1.66516585e-01,  2.03675345e-01,  2.41088809e-01,  2.54594462e-01,\n",
       "        2.84875338e-01,  3.23885984e-01,  3.29571848e-01,  3.30526470e-01,\n",
       "        3.50967503e-01,  3.65948485e-01,  3.84766392e-01,  3.96694215e-01,\n",
       "        4.14634146e-01,  4.24778761e-01,  4.25320423e-01,  4.56026059e-01,\n",
       "        4.58531137e-01,  4.97572816e-01,  5.03333333e-01,  5.04811105e-01,\n",
       "        5.37458048e-01,  5.41572482e-01,  5.65871931e-01,  5.66310751e-01,\n",
       "        6.46055228e-01,  6.66666667e-01,  6.81605787e-01,  6.86783333e-01,\n",
       "        6.99167711e-01,  7.02394441e-01,  7.04882362e-01,  7.28476821e-01,\n",
       "        7.84158256e-01,  8.56573918e-01,  8.68694578e-01,  1.00000000e+00,\n",
       "        1.04123711e+00,  1.06909385e+00,  1.09485346e+00,  1.15737253e+00,\n",
       "        1.22222222e+00,  1.53305785e+00,  1.60967185e+00,  2.49650489e+00,\n",
       "        2.83333333e+00,  4.56796117e+00,  4.69841270e+00,  5.11392405e+00,\n",
       "        5.70893139e+00,  7.11764706e+00,  9.11031665e+00,  1.47500000e+01])"
      ]
     },
     "execution_count": 105,
     "metadata": {},
     "output_type": "execute_result"
    }
   ],
   "source": [
    "np.unique(train_arr[-1])"
   ]
  },
  {
   "cell_type": "markdown",
   "metadata": {},
   "source": [
    "### Resampling:"
   ]
  },
  {
   "cell_type": "code",
   "execution_count": 106,
   "metadata": {},
   "outputs": [
    {
     "data": {
      "text/html": [
       "<style>#sk-container-id-10 {color: black;background-color: white;}#sk-container-id-10 pre{padding: 0;}#sk-container-id-10 div.sk-toggleable {background-color: white;}#sk-container-id-10 label.sk-toggleable__label {cursor: pointer;display: block;width: 100%;margin-bottom: 0;padding: 0.3em;box-sizing: border-box;text-align: center;}#sk-container-id-10 label.sk-toggleable__label-arrow:before {content: \"▸\";float: left;margin-right: 0.25em;color: #696969;}#sk-container-id-10 label.sk-toggleable__label-arrow:hover:before {color: black;}#sk-container-id-10 div.sk-estimator:hover label.sk-toggleable__label-arrow:before {color: black;}#sk-container-id-10 div.sk-toggleable__content {max-height: 0;max-width: 0;overflow: hidden;text-align: left;background-color: #f0f8ff;}#sk-container-id-10 div.sk-toggleable__content pre {margin: 0.2em;color: black;border-radius: 0.25em;background-color: #f0f8ff;}#sk-container-id-10 input.sk-toggleable__control:checked~div.sk-toggleable__content {max-height: 200px;max-width: 100%;overflow: auto;}#sk-container-id-10 input.sk-toggleable__control:checked~label.sk-toggleable__label-arrow:before {content: \"▾\";}#sk-container-id-10 div.sk-estimator input.sk-toggleable__control:checked~label.sk-toggleable__label {background-color: #d4ebff;}#sk-container-id-10 div.sk-label input.sk-toggleable__control:checked~label.sk-toggleable__label {background-color: #d4ebff;}#sk-container-id-10 input.sk-hidden--visually {border: 0;clip: rect(1px 1px 1px 1px);clip: rect(1px, 1px, 1px, 1px);height: 1px;margin: -1px;overflow: hidden;padding: 0;position: absolute;width: 1px;}#sk-container-id-10 div.sk-estimator {font-family: monospace;background-color: #f0f8ff;border: 1px dotted black;border-radius: 0.25em;box-sizing: border-box;margin-bottom: 0.5em;}#sk-container-id-10 div.sk-estimator:hover {background-color: #d4ebff;}#sk-container-id-10 div.sk-parallel-item::after {content: \"\";width: 100%;border-bottom: 1px solid gray;flex-grow: 1;}#sk-container-id-10 div.sk-label:hover label.sk-toggleable__label {background-color: #d4ebff;}#sk-container-id-10 div.sk-serial::before {content: \"\";position: absolute;border-left: 1px solid gray;box-sizing: border-box;top: 0;bottom: 0;left: 50%;z-index: 0;}#sk-container-id-10 div.sk-serial {display: flex;flex-direction: column;align-items: center;background-color: white;padding-right: 0.2em;padding-left: 0.2em;position: relative;}#sk-container-id-10 div.sk-item {position: relative;z-index: 1;}#sk-container-id-10 div.sk-parallel {display: flex;align-items: stretch;justify-content: center;background-color: white;position: relative;}#sk-container-id-10 div.sk-item::before, #sk-container-id-10 div.sk-parallel-item::before {content: \"\";position: absolute;border-left: 1px solid gray;box-sizing: border-box;top: 0;bottom: 0;left: 50%;z-index: -1;}#sk-container-id-10 div.sk-parallel-item {display: flex;flex-direction: column;z-index: 1;position: relative;background-color: white;}#sk-container-id-10 div.sk-parallel-item:first-child::after {align-self: flex-end;width: 50%;}#sk-container-id-10 div.sk-parallel-item:last-child::after {align-self: flex-start;width: 50%;}#sk-container-id-10 div.sk-parallel-item:only-child::after {width: 0;}#sk-container-id-10 div.sk-dashed-wrapped {border: 1px dashed gray;margin: 0 0.4em 0.5em 0.4em;box-sizing: border-box;padding-bottom: 0.4em;background-color: white;}#sk-container-id-10 div.sk-label label {font-family: monospace;font-weight: bold;display: inline-block;line-height: 1.2em;}#sk-container-id-10 div.sk-label-container {text-align: center;}#sk-container-id-10 div.sk-container {/* jupyter's `normalize.less` sets `[hidden] { display: none; }` but bootstrap.min.css set `[hidden] { display: none !important; }` so we also need the `!important` here to be able to override the default hidden behavior on the sphinx rendered scikit-learn.org. See: https://github.com/scikit-learn/scikit-learn/issues/21755 */display: inline-block !important;position: relative;}#sk-container-id-10 div.sk-text-repr-fallback {display: none;}</style><div id=\"sk-container-id-10\" class=\"sk-top-container\"><div class=\"sk-text-repr-fallback\"><pre>SMOTETomek(sampling_strategy=&#x27;minority&#x27;)</pre><b>In a Jupyter environment, please rerun this cell to show the HTML representation or trust the notebook. <br />On GitHub, the HTML representation is unable to render, please try loading this page with nbviewer.org.</b></div><div class=\"sk-container\" hidden><div class=\"sk-item\"><div class=\"sk-estimator sk-toggleable\"><input class=\"sk-toggleable__control sk-hidden--visually\" id=\"sk-estimator-id-40\" type=\"checkbox\" checked><label for=\"sk-estimator-id-40\" class=\"sk-toggleable__label sk-toggleable__label-arrow\">SMOTETomek</label><div class=\"sk-toggleable__content\"><pre>SMOTETomek(sampling_strategy=&#x27;minority&#x27;)</pre></div></div></div></div></div>"
      ],
      "text/plain": [
       "SMOTETomek(sampling_strategy='minority')"
      ]
     },
     "execution_count": 106,
     "metadata": {},
     "output_type": "execute_result"
    }
   ],
   "source": [
    "from imblearn.combine import SMOTETomek\n",
    "\n",
    "smt = SMOTETomek(sampling_strategy='minority')\n",
    "smt"
   ]
  },
  {
   "cell_type": "code",
   "execution_count": 108,
   "metadata": {},
   "outputs": [],
   "source": [
    "X = train_arr[:-1]\n",
    "y = train_arr[-1]"
   ]
  },
  {
   "cell_type": "code",
   "execution_count": 107,
   "metadata": {},
   "outputs": [
    {
     "ename": "TypeError",
     "evalue": "fit_resample() missing 1 required positional argument: 'y'",
     "output_type": "error",
     "traceback": [
      "\u001b[1;31m---------------------------------------------------------------------------\u001b[0m",
      "\u001b[1;31mTypeError\u001b[0m                                 Traceback (most recent call last)",
      "Cell \u001b[1;32mIn [107], line 1\u001b[0m\n\u001b[1;32m----> 1\u001b[0m smt\u001b[39m.\u001b[39;49mfit_resample(train_arr)\n",
      "\u001b[1;31mTypeError\u001b[0m: fit_resample() missing 1 required positional argument: 'y'"
     ]
    }
   ],
   "source": [
    "smt.fit_resample(train_arr)"
   ]
  },
  {
   "cell_type": "code",
   "execution_count": 124,
   "metadata": {},
   "outputs": [
    {
     "data": {
      "text/html": [
       "<style>#sk-container-id-14 {color: black;background-color: white;}#sk-container-id-14 pre{padding: 0;}#sk-container-id-14 div.sk-toggleable {background-color: white;}#sk-container-id-14 label.sk-toggleable__label {cursor: pointer;display: block;width: 100%;margin-bottom: 0;padding: 0.3em;box-sizing: border-box;text-align: center;}#sk-container-id-14 label.sk-toggleable__label-arrow:before {content: \"▸\";float: left;margin-right: 0.25em;color: #696969;}#sk-container-id-14 label.sk-toggleable__label-arrow:hover:before {color: black;}#sk-container-id-14 div.sk-estimator:hover label.sk-toggleable__label-arrow:before {color: black;}#sk-container-id-14 div.sk-toggleable__content {max-height: 0;max-width: 0;overflow: hidden;text-align: left;background-color: #f0f8ff;}#sk-container-id-14 div.sk-toggleable__content pre {margin: 0.2em;color: black;border-radius: 0.25em;background-color: #f0f8ff;}#sk-container-id-14 input.sk-toggleable__control:checked~div.sk-toggleable__content {max-height: 200px;max-width: 100%;overflow: auto;}#sk-container-id-14 input.sk-toggleable__control:checked~label.sk-toggleable__label-arrow:before {content: \"▾\";}#sk-container-id-14 div.sk-estimator input.sk-toggleable__control:checked~label.sk-toggleable__label {background-color: #d4ebff;}#sk-container-id-14 div.sk-label input.sk-toggleable__control:checked~label.sk-toggleable__label {background-color: #d4ebff;}#sk-container-id-14 input.sk-hidden--visually {border: 0;clip: rect(1px 1px 1px 1px);clip: rect(1px, 1px, 1px, 1px);height: 1px;margin: -1px;overflow: hidden;padding: 0;position: absolute;width: 1px;}#sk-container-id-14 div.sk-estimator {font-family: monospace;background-color: #f0f8ff;border: 1px dotted black;border-radius: 0.25em;box-sizing: border-box;margin-bottom: 0.5em;}#sk-container-id-14 div.sk-estimator:hover {background-color: #d4ebff;}#sk-container-id-14 div.sk-parallel-item::after {content: \"\";width: 100%;border-bottom: 1px solid gray;flex-grow: 1;}#sk-container-id-14 div.sk-label:hover label.sk-toggleable__label {background-color: #d4ebff;}#sk-container-id-14 div.sk-serial::before {content: \"\";position: absolute;border-left: 1px solid gray;box-sizing: border-box;top: 0;bottom: 0;left: 50%;z-index: 0;}#sk-container-id-14 div.sk-serial {display: flex;flex-direction: column;align-items: center;background-color: white;padding-right: 0.2em;padding-left: 0.2em;position: relative;}#sk-container-id-14 div.sk-item {position: relative;z-index: 1;}#sk-container-id-14 div.sk-parallel {display: flex;align-items: stretch;justify-content: center;background-color: white;position: relative;}#sk-container-id-14 div.sk-item::before, #sk-container-id-14 div.sk-parallel-item::before {content: \"\";position: absolute;border-left: 1px solid gray;box-sizing: border-box;top: 0;bottom: 0;left: 50%;z-index: -1;}#sk-container-id-14 div.sk-parallel-item {display: flex;flex-direction: column;z-index: 1;position: relative;background-color: white;}#sk-container-id-14 div.sk-parallel-item:first-child::after {align-self: flex-end;width: 50%;}#sk-container-id-14 div.sk-parallel-item:last-child::after {align-self: flex-start;width: 50%;}#sk-container-id-14 div.sk-parallel-item:only-child::after {width: 0;}#sk-container-id-14 div.sk-dashed-wrapped {border: 1px dashed gray;margin: 0 0.4em 0.5em 0.4em;box-sizing: border-box;padding-bottom: 0.4em;background-color: white;}#sk-container-id-14 div.sk-label label {font-family: monospace;font-weight: bold;display: inline-block;line-height: 1.2em;}#sk-container-id-14 div.sk-label-container {text-align: center;}#sk-container-id-14 div.sk-container {/* jupyter's `normalize.less` sets `[hidden] { display: none; }` but bootstrap.min.css set `[hidden] { display: none !important; }` so we also need the `!important` here to be able to override the default hidden behavior on the sphinx rendered scikit-learn.org. See: https://github.com/scikit-learn/scikit-learn/issues/21755 */display: inline-block !important;position: relative;}#sk-container-id-14 div.sk-text-repr-fallback {display: none;}</style><div id=\"sk-container-id-14\" class=\"sk-top-container\"><div class=\"sk-text-repr-fallback\"><pre>OrdinalEncoder()</pre><b>In a Jupyter environment, please rerun this cell to show the HTML representation or trust the notebook. <br />On GitHub, the HTML representation is unable to render, please try loading this page with nbviewer.org.</b></div><div class=\"sk-container\" hidden><div class=\"sk-item\"><div class=\"sk-estimator sk-toggleable\"><input class=\"sk-toggleable__control sk-hidden--visually\" id=\"sk-estimator-id-44\" type=\"checkbox\" checked><label for=\"sk-estimator-id-44\" class=\"sk-toggleable__label sk-toggleable__label-arrow\">OrdinalEncoder</label><div class=\"sk-toggleable__content\"><pre>OrdinalEncoder()</pre></div></div></div></div></div>"
      ],
      "text/plain": [
       "OrdinalEncoder()"
      ]
     },
     "execution_count": 124,
     "metadata": {},
     "output_type": "execute_result"
    }
   ],
   "source": [
    "ordinal_enc = OrdinalEncoder()\n",
    "ordinal_enc.fit(target)"
   ]
  },
  {
   "cell_type": "code",
   "execution_count": 125,
   "metadata": {},
   "outputs": [
    {
     "data": {
      "text/plain": [
       "[array(['neg', 'pos'], dtype=object)]"
      ]
     },
     "execution_count": 125,
     "metadata": {},
     "output_type": "execute_result"
    }
   ],
   "source": [
    "ordinal_enc.categories_"
   ]
  },
  {
   "cell_type": "code",
   "execution_count": 127,
   "metadata": {},
   "outputs": [
    {
     "data": {
      "text/plain": [
       "array([[0.],\n",
       "       [0.],\n",
       "       [0.],\n",
       "       ...,\n",
       "       [0.],\n",
       "       [0.],\n",
       "       [0.]])"
      ]
     },
     "execution_count": 127,
     "metadata": {},
     "output_type": "execute_result"
    }
   ],
   "source": [
    "ordinal_enc.transform(target)"
   ]
  },
  {
   "cell_type": "code",
   "execution_count": 128,
   "metadata": {},
   "outputs": [
    {
     "data": {
      "text/plain": [
       "[array(['neg', 'pos'], dtype=object)]"
      ]
     },
     "execution_count": 128,
     "metadata": {},
     "output_type": "execute_result"
    }
   ],
   "source": [
    "ordinal_enc.categories_"
   ]
  },
  {
   "cell_type": "code",
   "execution_count": 129,
   "metadata": {},
   "outputs": [
    {
     "data": {
      "text/html": [
       "<style>#sk-container-id-15 {color: black;background-color: white;}#sk-container-id-15 pre{padding: 0;}#sk-container-id-15 div.sk-toggleable {background-color: white;}#sk-container-id-15 label.sk-toggleable__label {cursor: pointer;display: block;width: 100%;margin-bottom: 0;padding: 0.3em;box-sizing: border-box;text-align: center;}#sk-container-id-15 label.sk-toggleable__label-arrow:before {content: \"▸\";float: left;margin-right: 0.25em;color: #696969;}#sk-container-id-15 label.sk-toggleable__label-arrow:hover:before {color: black;}#sk-container-id-15 div.sk-estimator:hover label.sk-toggleable__label-arrow:before {color: black;}#sk-container-id-15 div.sk-toggleable__content {max-height: 0;max-width: 0;overflow: hidden;text-align: left;background-color: #f0f8ff;}#sk-container-id-15 div.sk-toggleable__content pre {margin: 0.2em;color: black;border-radius: 0.25em;background-color: #f0f8ff;}#sk-container-id-15 input.sk-toggleable__control:checked~div.sk-toggleable__content {max-height: 200px;max-width: 100%;overflow: auto;}#sk-container-id-15 input.sk-toggleable__control:checked~label.sk-toggleable__label-arrow:before {content: \"▾\";}#sk-container-id-15 div.sk-estimator input.sk-toggleable__control:checked~label.sk-toggleable__label {background-color: #d4ebff;}#sk-container-id-15 div.sk-label input.sk-toggleable__control:checked~label.sk-toggleable__label {background-color: #d4ebff;}#sk-container-id-15 input.sk-hidden--visually {border: 0;clip: rect(1px 1px 1px 1px);clip: rect(1px, 1px, 1px, 1px);height: 1px;margin: -1px;overflow: hidden;padding: 0;position: absolute;width: 1px;}#sk-container-id-15 div.sk-estimator {font-family: monospace;background-color: #f0f8ff;border: 1px dotted black;border-radius: 0.25em;box-sizing: border-box;margin-bottom: 0.5em;}#sk-container-id-15 div.sk-estimator:hover {background-color: #d4ebff;}#sk-container-id-15 div.sk-parallel-item::after {content: \"\";width: 100%;border-bottom: 1px solid gray;flex-grow: 1;}#sk-container-id-15 div.sk-label:hover label.sk-toggleable__label {background-color: #d4ebff;}#sk-container-id-15 div.sk-serial::before {content: \"\";position: absolute;border-left: 1px solid gray;box-sizing: border-box;top: 0;bottom: 0;left: 50%;z-index: 0;}#sk-container-id-15 div.sk-serial {display: flex;flex-direction: column;align-items: center;background-color: white;padding-right: 0.2em;padding-left: 0.2em;position: relative;}#sk-container-id-15 div.sk-item {position: relative;z-index: 1;}#sk-container-id-15 div.sk-parallel {display: flex;align-items: stretch;justify-content: center;background-color: white;position: relative;}#sk-container-id-15 div.sk-item::before, #sk-container-id-15 div.sk-parallel-item::before {content: \"\";position: absolute;border-left: 1px solid gray;box-sizing: border-box;top: 0;bottom: 0;left: 50%;z-index: -1;}#sk-container-id-15 div.sk-parallel-item {display: flex;flex-direction: column;z-index: 1;position: relative;background-color: white;}#sk-container-id-15 div.sk-parallel-item:first-child::after {align-self: flex-end;width: 50%;}#sk-container-id-15 div.sk-parallel-item:last-child::after {align-self: flex-start;width: 50%;}#sk-container-id-15 div.sk-parallel-item:only-child::after {width: 0;}#sk-container-id-15 div.sk-dashed-wrapped {border: 1px dashed gray;margin: 0 0.4em 0.5em 0.4em;box-sizing: border-box;padding-bottom: 0.4em;background-color: white;}#sk-container-id-15 div.sk-label label {font-family: monospace;font-weight: bold;display: inline-block;line-height: 1.2em;}#sk-container-id-15 div.sk-label-container {text-align: center;}#sk-container-id-15 div.sk-container {/* jupyter's `normalize.less` sets `[hidden] { display: none; }` but bootstrap.min.css set `[hidden] { display: none !important; }` so we also need the `!important` here to be able to override the default hidden behavior on the sphinx rendered scikit-learn.org. See: https://github.com/scikit-learn/scikit-learn/issues/21755 */display: inline-block !important;position: relative;}#sk-container-id-15 div.sk-text-repr-fallback {display: none;}</style><div id=\"sk-container-id-15\" class=\"sk-top-container\"><div class=\"sk-text-repr-fallback\"><pre>OneHotEncoder()</pre><b>In a Jupyter environment, please rerun this cell to show the HTML representation or trust the notebook. <br />On GitHub, the HTML representation is unable to render, please try loading this page with nbviewer.org.</b></div><div class=\"sk-container\" hidden><div class=\"sk-item\"><div class=\"sk-estimator sk-toggleable\"><input class=\"sk-toggleable__control sk-hidden--visually\" id=\"sk-estimator-id-45\" type=\"checkbox\" checked><label for=\"sk-estimator-id-45\" class=\"sk-toggleable__label sk-toggleable__label-arrow\">OneHotEncoder</label><div class=\"sk-toggleable__content\"><pre>OneHotEncoder()</pre></div></div></div></div></div>"
      ],
      "text/plain": [
       "OneHotEncoder()"
      ]
     },
     "execution_count": 129,
     "metadata": {},
     "output_type": "execute_result"
    }
   ],
   "source": [
    "from sklearn.preprocessing import OneHotEncoder\n",
    "\n",
    "onehot_enc = OneHotEncoder()\n",
    "onehot_enc.fit(target)"
   ]
  },
  {
   "cell_type": "code",
   "execution_count": 130,
   "metadata": {},
   "outputs": [
    {
     "data": {
      "text/plain": [
       "<28950x2 sparse matrix of type '<class 'numpy.float64'>'\n",
       "\twith 28950 stored elements in Compressed Sparse Row format>"
      ]
     },
     "execution_count": 130,
     "metadata": {},
     "output_type": "execute_result"
    }
   ],
   "source": [
    "onehot_enc.transform(target)"
   ]
  },
  {
   "cell_type": "code",
   "execution_count": 165,
   "metadata": {},
   "outputs": [
    {
     "data": {
      "text/html": [
       "<style>#sk-container-id-21 {color: black;background-color: white;}#sk-container-id-21 pre{padding: 0;}#sk-container-id-21 div.sk-toggleable {background-color: white;}#sk-container-id-21 label.sk-toggleable__label {cursor: pointer;display: block;width: 100%;margin-bottom: 0;padding: 0.3em;box-sizing: border-box;text-align: center;}#sk-container-id-21 label.sk-toggleable__label-arrow:before {content: \"▸\";float: left;margin-right: 0.25em;color: #696969;}#sk-container-id-21 label.sk-toggleable__label-arrow:hover:before {color: black;}#sk-container-id-21 div.sk-estimator:hover label.sk-toggleable__label-arrow:before {color: black;}#sk-container-id-21 div.sk-toggleable__content {max-height: 0;max-width: 0;overflow: hidden;text-align: left;background-color: #f0f8ff;}#sk-container-id-21 div.sk-toggleable__content pre {margin: 0.2em;color: black;border-radius: 0.25em;background-color: #f0f8ff;}#sk-container-id-21 input.sk-toggleable__control:checked~div.sk-toggleable__content {max-height: 200px;max-width: 100%;overflow: auto;}#sk-container-id-21 input.sk-toggleable__control:checked~label.sk-toggleable__label-arrow:before {content: \"▾\";}#sk-container-id-21 div.sk-estimator input.sk-toggleable__control:checked~label.sk-toggleable__label {background-color: #d4ebff;}#sk-container-id-21 div.sk-label input.sk-toggleable__control:checked~label.sk-toggleable__label {background-color: #d4ebff;}#sk-container-id-21 input.sk-hidden--visually {border: 0;clip: rect(1px 1px 1px 1px);clip: rect(1px, 1px, 1px, 1px);height: 1px;margin: -1px;overflow: hidden;padding: 0;position: absolute;width: 1px;}#sk-container-id-21 div.sk-estimator {font-family: monospace;background-color: #f0f8ff;border: 1px dotted black;border-radius: 0.25em;box-sizing: border-box;margin-bottom: 0.5em;}#sk-container-id-21 div.sk-estimator:hover {background-color: #d4ebff;}#sk-container-id-21 div.sk-parallel-item::after {content: \"\";width: 100%;border-bottom: 1px solid gray;flex-grow: 1;}#sk-container-id-21 div.sk-label:hover label.sk-toggleable__label {background-color: #d4ebff;}#sk-container-id-21 div.sk-serial::before {content: \"\";position: absolute;border-left: 1px solid gray;box-sizing: border-box;top: 0;bottom: 0;left: 50%;z-index: 0;}#sk-container-id-21 div.sk-serial {display: flex;flex-direction: column;align-items: center;background-color: white;padding-right: 0.2em;padding-left: 0.2em;position: relative;}#sk-container-id-21 div.sk-item {position: relative;z-index: 1;}#sk-container-id-21 div.sk-parallel {display: flex;align-items: stretch;justify-content: center;background-color: white;position: relative;}#sk-container-id-21 div.sk-item::before, #sk-container-id-21 div.sk-parallel-item::before {content: \"\";position: absolute;border-left: 1px solid gray;box-sizing: border-box;top: 0;bottom: 0;left: 50%;z-index: -1;}#sk-container-id-21 div.sk-parallel-item {display: flex;flex-direction: column;z-index: 1;position: relative;background-color: white;}#sk-container-id-21 div.sk-parallel-item:first-child::after {align-self: flex-end;width: 50%;}#sk-container-id-21 div.sk-parallel-item:last-child::after {align-self: flex-start;width: 50%;}#sk-container-id-21 div.sk-parallel-item:only-child::after {width: 0;}#sk-container-id-21 div.sk-dashed-wrapped {border: 1px dashed gray;margin: 0 0.4em 0.5em 0.4em;box-sizing: border-box;padding-bottom: 0.4em;background-color: white;}#sk-container-id-21 div.sk-label label {font-family: monospace;font-weight: bold;display: inline-block;line-height: 1.2em;}#sk-container-id-21 div.sk-label-container {text-align: center;}#sk-container-id-21 div.sk-container {/* jupyter's `normalize.less` sets `[hidden] { display: none; }` but bootstrap.min.css set `[hidden] { display: none !important; }` so we also need the `!important` here to be able to override the default hidden behavior on the sphinx rendered scikit-learn.org. See: https://github.com/scikit-learn/scikit-learn/issues/21755 */display: inline-block !important;position: relative;}#sk-container-id-21 div.sk-text-repr-fallback {display: none;}</style><div id=\"sk-container-id-21\" class=\"sk-top-container\"><div class=\"sk-text-repr-fallback\"><pre>ColumnTransformer(transformers=[(&#x27;Numerical Pipeline&#x27;,\n",
       "                                 Pipeline(steps=[(&#x27;Imputer&#x27;,\n",
       "                                                  SimpleImputer(fill_value=0,\n",
       "                                                                strategy=&#x27;constant&#x27;)),\n",
       "                                                 (&#x27;Robust Scaler&#x27;,\n",
       "                                                  RobustScaler())]),\n",
       "                                 [&#x27;aa_000&#x27;, &#x27;ab_000&#x27;, &#x27;ac_000&#x27;, &#x27;ad_000&#x27;,\n",
       "                                  &#x27;ae_000&#x27;, &#x27;af_000&#x27;, &#x27;ag_000&#x27;, &#x27;ag_001&#x27;,\n",
       "                                  &#x27;ag_002&#x27;, &#x27;ag_003&#x27;, &#x27;ag_004&#x27;, &#x27;ag_005&#x27;,\n",
       "                                  &#x27;ag_006&#x27;, &#x27;ag_007&#x27;, &#x27;ag_008&#x27;, &#x27;ag_009&#x27;,\n",
       "                                  &#x27;ah_000&#x27;, &#x27;ai_000&#x27;, &#x27;aj_000&#x27;, &#x27;ak_000&#x27;,\n",
       "                                  &#x27;al_000&#x27;, &#x27;am_0&#x27;, &#x27;an_000&#x27;, &#x27;ao_000&#x27;,\n",
       "                                  &#x27;ap_000&#x27;, &#x27;aq_000&#x27;, &#x27;ar_000&#x27;, &#x27;as_000&#x27;,\n",
       "                                  &#x27;at_000&#x27;, &#x27;au_000&#x27;, ...]),\n",
       "                                (&#x27;1Hot Encoder&#x27;,\n",
       "                                 OneHotEncoder(drop=&#x27;first&#x27;, dtype=&#x27;int64&#x27;,\n",
       "                                               sparse=False),\n",
       "                                 [&#x27;class&#x27;])])</pre><b>In a Jupyter environment, please rerun this cell to show the HTML representation or trust the notebook. <br />On GitHub, the HTML representation is unable to render, please try loading this page with nbviewer.org.</b></div><div class=\"sk-container\" hidden><div class=\"sk-item sk-dashed-wrapped\"><div class=\"sk-label-container\"><div class=\"sk-label sk-toggleable\"><input class=\"sk-toggleable__control sk-hidden--visually\" id=\"sk-estimator-id-76\" type=\"checkbox\" ><label for=\"sk-estimator-id-76\" class=\"sk-toggleable__label sk-toggleable__label-arrow\">ColumnTransformer</label><div class=\"sk-toggleable__content\"><pre>ColumnTransformer(transformers=[(&#x27;Numerical Pipeline&#x27;,\n",
       "                                 Pipeline(steps=[(&#x27;Imputer&#x27;,\n",
       "                                                  SimpleImputer(fill_value=0,\n",
       "                                                                strategy=&#x27;constant&#x27;)),\n",
       "                                                 (&#x27;Robust Scaler&#x27;,\n",
       "                                                  RobustScaler())]),\n",
       "                                 [&#x27;aa_000&#x27;, &#x27;ab_000&#x27;, &#x27;ac_000&#x27;, &#x27;ad_000&#x27;,\n",
       "                                  &#x27;ae_000&#x27;, &#x27;af_000&#x27;, &#x27;ag_000&#x27;, &#x27;ag_001&#x27;,\n",
       "                                  &#x27;ag_002&#x27;, &#x27;ag_003&#x27;, &#x27;ag_004&#x27;, &#x27;ag_005&#x27;,\n",
       "                                  &#x27;ag_006&#x27;, &#x27;ag_007&#x27;, &#x27;ag_008&#x27;, &#x27;ag_009&#x27;,\n",
       "                                  &#x27;ah_000&#x27;, &#x27;ai_000&#x27;, &#x27;aj_000&#x27;, &#x27;ak_000&#x27;,\n",
       "                                  &#x27;al_000&#x27;, &#x27;am_0&#x27;, &#x27;an_000&#x27;, &#x27;ao_000&#x27;,\n",
       "                                  &#x27;ap_000&#x27;, &#x27;aq_000&#x27;, &#x27;ar_000&#x27;, &#x27;as_000&#x27;,\n",
       "                                  &#x27;at_000&#x27;, &#x27;au_000&#x27;, ...]),\n",
       "                                (&#x27;1Hot Encoder&#x27;,\n",
       "                                 OneHotEncoder(drop=&#x27;first&#x27;, dtype=&#x27;int64&#x27;,\n",
       "                                               sparse=False),\n",
       "                                 [&#x27;class&#x27;])])</pre></div></div></div><div class=\"sk-parallel\"><div class=\"sk-parallel-item\"><div class=\"sk-item\"><div class=\"sk-label-container\"><div class=\"sk-label sk-toggleable\"><input class=\"sk-toggleable__control sk-hidden--visually\" id=\"sk-estimator-id-77\" type=\"checkbox\" ><label for=\"sk-estimator-id-77\" class=\"sk-toggleable__label sk-toggleable__label-arrow\">Numerical Pipeline</label><div class=\"sk-toggleable__content\"><pre>[&#x27;aa_000&#x27;, &#x27;ab_000&#x27;, &#x27;ac_000&#x27;, &#x27;ad_000&#x27;, &#x27;ae_000&#x27;, &#x27;af_000&#x27;, &#x27;ag_000&#x27;, &#x27;ag_001&#x27;, &#x27;ag_002&#x27;, &#x27;ag_003&#x27;, &#x27;ag_004&#x27;, &#x27;ag_005&#x27;, &#x27;ag_006&#x27;, &#x27;ag_007&#x27;, &#x27;ag_008&#x27;, &#x27;ag_009&#x27;, &#x27;ah_000&#x27;, &#x27;ai_000&#x27;, &#x27;aj_000&#x27;, &#x27;ak_000&#x27;, &#x27;al_000&#x27;, &#x27;am_0&#x27;, &#x27;an_000&#x27;, &#x27;ao_000&#x27;, &#x27;ap_000&#x27;, &#x27;aq_000&#x27;, &#x27;ar_000&#x27;, &#x27;as_000&#x27;, &#x27;at_000&#x27;, &#x27;au_000&#x27;, &#x27;av_000&#x27;, &#x27;ax_000&#x27;, &#x27;ay_000&#x27;, &#x27;ay_001&#x27;, &#x27;ay_002&#x27;, &#x27;ay_003&#x27;, &#x27;ay_004&#x27;, &#x27;ay_005&#x27;, &#x27;ay_006&#x27;, &#x27;ay_007&#x27;, &#x27;ay_008&#x27;, &#x27;ay_009&#x27;, &#x27;az_000&#x27;, &#x27;az_001&#x27;, &#x27;az_002&#x27;, &#x27;az_003&#x27;, &#x27;az_004&#x27;, &#x27;az_005&#x27;, &#x27;az_006&#x27;, &#x27;az_007&#x27;, &#x27;az_008&#x27;, &#x27;az_009&#x27;, &#x27;ba_000&#x27;, &#x27;ba_001&#x27;, &#x27;ba_002&#x27;, &#x27;ba_003&#x27;, &#x27;ba_004&#x27;, &#x27;ba_005&#x27;, &#x27;ba_006&#x27;, &#x27;ba_007&#x27;, &#x27;ba_008&#x27;, &#x27;ba_009&#x27;, &#x27;bb_000&#x27;, &#x27;bc_000&#x27;, &#x27;bd_000&#x27;, &#x27;be_000&#x27;, &#x27;bf_000&#x27;, &#x27;bg_000&#x27;, &#x27;bh_000&#x27;, &#x27;bi_000&#x27;, &#x27;bj_000&#x27;, &#x27;bk_000&#x27;, &#x27;bl_000&#x27;, &#x27;bm_000&#x27;, &#x27;bn_000&#x27;, &#x27;bo_000&#x27;, &#x27;bp_000&#x27;, &#x27;bq_000&#x27;, &#x27;br_000&#x27;, &#x27;bs_000&#x27;, &#x27;bt_000&#x27;, &#x27;bu_000&#x27;, &#x27;bv_000&#x27;, &#x27;bx_000&#x27;, &#x27;by_000&#x27;, &#x27;bz_000&#x27;, &#x27;ca_000&#x27;, &#x27;cb_000&#x27;, &#x27;cc_000&#x27;, &#x27;cd_000&#x27;, &#x27;ce_000&#x27;, &#x27;cf_000&#x27;, &#x27;cg_000&#x27;, &#x27;ch_000&#x27;, &#x27;ci_000&#x27;, &#x27;cj_000&#x27;, &#x27;ck_000&#x27;, &#x27;cl_000&#x27;, &#x27;cm_000&#x27;, &#x27;cn_000&#x27;, &#x27;cn_001&#x27;, &#x27;cn_002&#x27;, &#x27;cn_003&#x27;, &#x27;cn_004&#x27;, &#x27;cn_005&#x27;, &#x27;cn_006&#x27;, &#x27;cn_007&#x27;, &#x27;cn_008&#x27;, &#x27;cn_009&#x27;, &#x27;co_000&#x27;, &#x27;cp_000&#x27;, &#x27;cq_000&#x27;, &#x27;cr_000&#x27;, &#x27;cs_000&#x27;, &#x27;cs_001&#x27;, &#x27;cs_002&#x27;, &#x27;cs_003&#x27;, &#x27;cs_004&#x27;, &#x27;cs_005&#x27;, &#x27;cs_006&#x27;, &#x27;cs_007&#x27;, &#x27;cs_008&#x27;, &#x27;cs_009&#x27;, &#x27;ct_000&#x27;, &#x27;cu_000&#x27;, &#x27;cv_000&#x27;, &#x27;cx_000&#x27;, &#x27;cy_000&#x27;, &#x27;cz_000&#x27;, &#x27;da_000&#x27;, &#x27;db_000&#x27;, &#x27;dc_000&#x27;, &#x27;dd_000&#x27;, &#x27;de_000&#x27;, &#x27;df_000&#x27;, &#x27;dg_000&#x27;, &#x27;dh_000&#x27;, &#x27;di_000&#x27;, &#x27;dj_000&#x27;, &#x27;dk_000&#x27;, &#x27;dl_000&#x27;, &#x27;dm_000&#x27;, &#x27;dn_000&#x27;, &#x27;do_000&#x27;, &#x27;dp_000&#x27;, &#x27;dq_000&#x27;, &#x27;dr_000&#x27;, &#x27;ds_000&#x27;, &#x27;dt_000&#x27;, &#x27;du_000&#x27;, &#x27;dv_000&#x27;, &#x27;dx_000&#x27;, &#x27;dy_000&#x27;, &#x27;dz_000&#x27;, &#x27;ea_000&#x27;, &#x27;eb_000&#x27;, &#x27;ec_00&#x27;, &#x27;ed_000&#x27;, &#x27;ee_000&#x27;, &#x27;ee_001&#x27;, &#x27;ee_002&#x27;, &#x27;ee_003&#x27;, &#x27;ee_004&#x27;, &#x27;ee_005&#x27;, &#x27;ee_006&#x27;, &#x27;ee_007&#x27;, &#x27;ee_008&#x27;, &#x27;ee_009&#x27;, &#x27;ef_000&#x27;, &#x27;eg_000&#x27;]</pre></div></div></div><div class=\"sk-serial\"><div class=\"sk-item\"><div class=\"sk-serial\"><div class=\"sk-item\"><div class=\"sk-estimator sk-toggleable\"><input class=\"sk-toggleable__control sk-hidden--visually\" id=\"sk-estimator-id-78\" type=\"checkbox\" ><label for=\"sk-estimator-id-78\" class=\"sk-toggleable__label sk-toggleable__label-arrow\">SimpleImputer</label><div class=\"sk-toggleable__content\"><pre>SimpleImputer(fill_value=0, strategy=&#x27;constant&#x27;)</pre></div></div></div><div class=\"sk-item\"><div class=\"sk-estimator sk-toggleable\"><input class=\"sk-toggleable__control sk-hidden--visually\" id=\"sk-estimator-id-79\" type=\"checkbox\" ><label for=\"sk-estimator-id-79\" class=\"sk-toggleable__label sk-toggleable__label-arrow\">RobustScaler</label><div class=\"sk-toggleable__content\"><pre>RobustScaler()</pre></div></div></div></div></div></div></div></div><div class=\"sk-parallel-item\"><div class=\"sk-item\"><div class=\"sk-label-container\"><div class=\"sk-label sk-toggleable\"><input class=\"sk-toggleable__control sk-hidden--visually\" id=\"sk-estimator-id-80\" type=\"checkbox\" ><label for=\"sk-estimator-id-80\" class=\"sk-toggleable__label sk-toggleable__label-arrow\">1Hot Encoder</label><div class=\"sk-toggleable__content\"><pre>[&#x27;class&#x27;]</pre></div></div></div><div class=\"sk-serial\"><div class=\"sk-item\"><div class=\"sk-estimator sk-toggleable\"><input class=\"sk-toggleable__control sk-hidden--visually\" id=\"sk-estimator-id-81\" type=\"checkbox\" ><label for=\"sk-estimator-id-81\" class=\"sk-toggleable__label sk-toggleable__label-arrow\">OneHotEncoder</label><div class=\"sk-toggleable__content\"><pre>OneHotEncoder(drop=&#x27;first&#x27;, dtype=&#x27;int64&#x27;, sparse=False)</pre></div></div></div></div></div></div></div></div></div></div>"
      ],
      "text/plain": [
       "ColumnTransformer(transformers=[('Numerical Pipeline',\n",
       "                                 Pipeline(steps=[('Imputer',\n",
       "                                                  SimpleImputer(fill_value=0,\n",
       "                                                                strategy='constant')),\n",
       "                                                 ('Robust Scaler',\n",
       "                                                  RobustScaler())]),\n",
       "                                 ['aa_000', 'ab_000', 'ac_000', 'ad_000',\n",
       "                                  'ae_000', 'af_000', 'ag_000', 'ag_001',\n",
       "                                  'ag_002', 'ag_003', 'ag_004', 'ag_005',\n",
       "                                  'ag_006', 'ag_007', 'ag_008', 'ag_009',\n",
       "                                  'ah_000', 'ai_000', 'aj_000', 'ak_000',\n",
       "                                  'al_000', 'am_0', 'an_000', 'ao_000',\n",
       "                                  'ap_000', 'aq_000', 'ar_000', 'as_000',\n",
       "                                  'at_000', 'au_000', ...]),\n",
       "                                ('1Hot Encoder',\n",
       "                                 OneHotEncoder(drop='first', dtype='int64',\n",
       "                                               sparse=False),\n",
       "                                 ['class'])])"
      ]
     },
     "execution_count": 165,
     "metadata": {},
     "output_type": "execute_result"
    }
   ],
   "source": [
    "full_pipeline4 = ColumnTransformer([\n",
    "    (\"Numerical Pipeline\", num_pipeline, num_atts), \n",
    "    (\"1Hot Encoder\", OneHotEncoder(drop=\"first\", sparse=False, dtype='int64'), cat_atts)\n",
    "])\n",
    "full_pipeline4"
   ]
  },
  {
   "cell_type": "code",
   "execution_count": 166,
   "metadata": {},
   "outputs": [
    {
     "data": {
      "text/plain": [
       "(28950, 171)"
      ]
     },
     "execution_count": 166,
     "metadata": {},
     "output_type": "execute_result"
    }
   ],
   "source": [
    "train_1hot = full_pipeline4.fit_transform(train_set)\n",
    "train_1hot.shape"
   ]
  },
  {
   "cell_type": "code",
   "execution_count": 167,
   "metadata": {},
   "outputs": [
    {
     "data": {
      "text/plain": [
       "0     0.0\n",
       "70    1.0\n",
       "Name: 170, dtype: float64"
      ]
     },
     "execution_count": 167,
     "metadata": {},
     "output_type": "execute_result"
    }
   ],
   "source": [
    "train_1hot_df = pd.DataFrame(train_1hot)\n",
    "train_1hot_df.iloc[:, -1].drop_duplicates()"
   ]
  },
  {
   "cell_type": "code",
   "execution_count": 168,
   "metadata": {},
   "outputs": [
    {
     "data": {
      "text/plain": [
       "array([-5.53962328e-01, -3.43034056e-01, -2.93149529e-01, -2.52764264e-01,\n",
       "       -2.05211364e-01, -1.86746666e-01, -1.80467054e-01, -1.69875252e-01,\n",
       "       -1.69721985e-01, -1.63690476e-01, -1.60266715e-01, -1.59051834e-01,\n",
       "       -1.51664508e-01, -1.43257082e-01, -1.40398753e-01, -1.36738966e-01,\n",
       "       -1.36404450e-01, -1.28482705e-01, -1.21692817e-01, -1.21160951e-01,\n",
       "       -1.14331401e-01, -1.11892673e-01, -1.05332853e-01, -1.04163044e-01,\n",
       "       -9.72070291e-02, -9.31317844e-02, -8.64682007e-02, -7.19942744e-02,\n",
       "       -7.17100008e-02, -6.73441383e-02, -6.61975075e-02, -6.19589813e-02,\n",
       "       -5.65448803e-02, -5.44174136e-02, -4.88281879e-02, -2.88342033e-02,\n",
       "       -2.52380952e-02, -2.39535720e-02, -1.44522434e-02, -1.12820513e-02,\n",
       "       -8.74498763e-03, -7.40139917e-03, -7.15948072e-03, -6.10429626e-03,\n",
       "        0.00000000e+00,  3.35965862e-03,  2.02815528e-02,  2.12676461e-02,\n",
       "        2.46605361e-02,  7.54903940e-02,  8.07570563e-02,  8.22472455e-02,\n",
       "        8.76474597e-02,  1.10404676e-01,  1.33540893e-01,  1.47046876e-01,\n",
       "        1.66516585e-01,  2.03675345e-01,  2.41088809e-01,  2.54594462e-01,\n",
       "        2.84875338e-01,  3.23885984e-01,  3.29571848e-01,  3.30526470e-01,\n",
       "        3.50967503e-01,  3.65948485e-01,  3.84766392e-01,  3.96694215e-01,\n",
       "        4.14634146e-01,  4.24778761e-01,  4.25320423e-01,  4.56026059e-01,\n",
       "        4.58531137e-01,  4.97572816e-01,  5.03333333e-01,  5.04811105e-01,\n",
       "        5.37458048e-01,  5.41572482e-01,  5.65871931e-01,  5.66310751e-01,\n",
       "        6.46055228e-01,  6.66666667e-01,  6.81605787e-01,  6.86783333e-01,\n",
       "        6.99167711e-01,  7.02394441e-01,  7.04882362e-01,  7.28476821e-01,\n",
       "        7.84158256e-01,  8.56573918e-01,  8.68694578e-01,  1.00000000e+00,\n",
       "        1.04123711e+00,  1.06909385e+00,  1.09485346e+00,  1.15737253e+00,\n",
       "        1.22222222e+00,  1.53305785e+00,  1.60967185e+00,  2.49650489e+00,\n",
       "        2.83333333e+00,  4.56796117e+00,  4.69841270e+00,  5.11392405e+00,\n",
       "        5.70893139e+00,  7.11764706e+00,  9.11031665e+00,  1.47500000e+01])"
      ]
     },
     "execution_count": 168,
     "metadata": {},
     "output_type": "execute_result"
    }
   ],
   "source": [
    "train_set.shape\n",
    "np.unique(train_1hot[-1])"
   ]
  },
  {
   "cell_type": "code",
   "execution_count": 152,
   "metadata": {},
   "outputs": [],
   "source": [
    "enc2 = OrdinalEncoder(dtype=int)"
   ]
  },
  {
   "cell_type": "code",
   "execution_count": 30,
   "metadata": {},
   "outputs": [],
   "source": [
    "transformed_train_arr = full_pipeline3.fit_transform(train_set)"
   ]
  },
  {
   "cell_type": "code",
   "execution_count": 31,
   "metadata": {},
   "outputs": [
    {
     "data": {
      "text/plain": [
       "array([-7.40139917e-03,  0.00000000e+00,  4.97572816e-01,  1.60967185e+00,\n",
       "        0.00000000e+00,  0.00000000e+00,  0.00000000e+00,  0.00000000e+00,\n",
       "        0.00000000e+00,  0.00000000e+00, -6.73441383e-02, -1.28482705e-01,\n",
       "        8.22472455e-02,  7.84158256e-01,  1.09485346e+00,  5.11392405e+00,\n",
       "       -1.69721985e-01,  0.00000000e+00,  0.00000000e+00,  0.00000000e+00,\n",
       "        0.00000000e+00,  0.00000000e+00, -1.05332853e-01, -9.31317844e-02,\n",
       "       -1.60266715e-01, -1.44522434e-02,  0.00000000e+00,  0.00000000e+00,\n",
       "        0.00000000e+00,  0.00000000e+00,  5.03333333e-01,  3.96694215e-01,\n",
       "        0.00000000e+00,  0.00000000e+00,  0.00000000e+00,  0.00000000e+00,\n",
       "        0.00000000e+00,  0.00000000e+00,  1.47046876e-01,  6.81605787e-01,\n",
       "        1.10404676e-01,  0.00000000e+00, -3.43034056e-01, -2.88342033e-02,\n",
       "       -5.44174136e-02,  6.99167711e-01,  7.04882362e-01, -7.19942744e-02,\n",
       "       -2.52380952e-02,  0.00000000e+00,  0.00000000e+00,  0.00000000e+00,\n",
       "       -2.05211364e-01,  8.07570563e-02,  8.76474597e-02,  7.54903940e-02,\n",
       "        2.46605361e-02,  3.35965862e-03,  2.84875338e-01,  7.02394441e-01,\n",
       "       -1.12820513e-02,  0.00000000e+00, -1.36738966e-01,  4.69841270e+00,\n",
       "        4.56796117e+00,  1.04123711e+00,  1.22222222e+00, -1.69875252e-01,\n",
       "       -1.59051834e-01, -1.40398753e-01, -1.21692817e-01, -8.74498763e-03,\n",
       "       -5.53962328e-01,  0.00000000e+00,  0.00000000e+00,  0.00000000e+00,\n",
       "        0.00000000e+00,  0.00000000e+00,  0.00000000e+00,  3.84766392e-01,\n",
       "       -7.15948072e-03, -1.36404450e-01, -1.36404450e-01, -7.17100008e-02,\n",
       "        2.02815528e-02,  1.06909385e+00,  6.86783333e-01,  5.66310751e-01,\n",
       "       -5.65448803e-02,  0.00000000e+00,  5.65871931e-01,  1.00000000e+00,\n",
       "        4.14634146e-01,  0.00000000e+00, -8.64682007e-02,  0.00000000e+00,\n",
       "       -1.86746666e-01,  0.00000000e+00,  0.00000000e+00,  0.00000000e+00,\n",
       "        0.00000000e+00,  0.00000000e+00, -9.72070291e-02, -1.51664508e-01,\n",
       "        1.33540893e-01,  8.68694578e-01,  2.41088809e-01,  4.58531137e-01,\n",
       "        7.28476821e-01,  1.47500000e+01,  7.11764706e+00, -1.36404450e-01,\n",
       "        0.00000000e+00, -2.52764264e-01, -1.63690476e-01, -2.39535720e-02,\n",
       "       -6.61975075e-02, -2.93149529e-01, -4.88281879e-02,  3.50967503e-01,\n",
       "        5.37458048e-01,  6.66666667e-01,  0.00000000e+00,  1.53305785e+00,\n",
       "        4.56026059e-01,  5.41572482e-01,  5.70893139e+00,  0.00000000e+00,\n",
       "        2.49650489e+00,  0.00000000e+00,  2.83333333e+00,  6.46055228e-01,\n",
       "       -1.14331401e-01,  4.24778761e-01,  0.00000000e+00,  0.00000000e+00,\n",
       "        0.00000000e+00,  0.00000000e+00,  0.00000000e+00,  0.00000000e+00,\n",
       "        0.00000000e+00,  0.00000000e+00, -1.43257082e-01,  3.65948485e-01,\n",
       "        2.54594462e-01,  0.00000000e+00,  0.00000000e+00,  2.12676461e-02,\n",
       "       -6.10429626e-03,  3.30526470e-01,  3.29571848e-01,  0.00000000e+00,\n",
       "        0.00000000e+00,  0.00000000e+00,  0.00000000e+00,  8.56573918e-01,\n",
       "        1.66516585e-01,  2.03675345e-01, -1.80467054e-01, -1.04163044e-01,\n",
       "       -1.21160951e-01, -1.11892673e-01, -6.19589813e-02,  5.04811105e-01,\n",
       "        3.23885984e-01,  4.25320423e-01,  1.15737253e+00,  9.11031665e+00,\n",
       "        0.00000000e+00,  0.00000000e+00,  0.00000000e+00])"
      ]
     },
     "execution_count": 31,
     "metadata": {},
     "output_type": "execute_result"
    }
   ],
   "source": [
    "transformed_train_arr[-1]"
   ]
  },
  {
   "cell_type": "code",
   "execution_count": 34,
   "metadata": {},
   "outputs": [
    {
     "data": {
      "text/plain": [
       "array([0., 1.])"
      ]
     },
     "execution_count": 34,
     "metadata": {},
     "output_type": "execute_result"
    }
   ],
   "source": [
    "np.unique(transformed_train_arr[:, -1])"
   ]
  }
 ],
 "metadata": {
  "kernelspec": {
   "display_name": "Python 3.8.15 ('sensor')",
   "language": "python",
   "name": "python3"
  },
  "language_info": {
   "codemirror_mode": {
    "name": "ipython",
    "version": 3
   },
   "file_extension": ".py",
   "mimetype": "text/x-python",
   "name": "python",
   "nbconvert_exporter": "python",
   "pygments_lexer": "ipython3",
   "version": "3.8.15 (default, Nov 24 2022, 14:38:14) [MSC v.1916 64 bit (AMD64)]"
  },
  "orig_nbformat": 4,
  "vscode": {
   "interpreter": {
    "hash": "f321dcf0ad82c4c19a38b951dfdd8659c02f0de4d0efd0bda577a0c972ccaa3d"
   }
  }
 },
 "nbformat": 4,
 "nbformat_minor": 2
}
